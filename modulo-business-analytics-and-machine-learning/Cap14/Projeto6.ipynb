{
 "cells": [
  {
   "cell_type": "markdown",
   "metadata": {
    "id": "_Jo37dkmSbdp"
   },
   "source": [
    "<!-- Projeto Desenvolvido na Data Science Academy - www.datascienceacademy.com.br -->\n",
    "# <font color='blue'>Data Science Academy</font>\n",
    "## <font color='blue'>Business Analytics e Machine Learning Para Projetos de Data Science</font>\n",
    "## <font color='blue'>Projeto 6</font>\n",
    "## <font color='blue'>Teste A/B em Campanha de Geoespacial Marketing Analytics</font>"
   ]
  },
  {
   "cell_type": "markdown",
   "metadata": {},
   "source": [
    "## Instalando e Carregando os Pacotes"
   ]
  },
  {
   "cell_type": "code",
   "execution_count": 1,
   "metadata": {},
   "outputs": [],
   "source": [
    "# Para atualizar um pacote, execute o comando abaixo no terminal ou prompt de comando:\n",
    "# pip install -U nome_pacote\n",
    "\n",
    "# Para instalar a versão exata de um pacote, execute o comando abaixo no terminal ou prompt de comando:\n",
    "# !pip install nome_pacote==versão_desejada\n",
    "\n",
    "# Depois de instalar ou atualizar o pacote, reinicie o jupyter notebook.\n",
    "\n",
    "# Instala o pacote watermark. \n",
    "# Esse pacote é usado para gravar as versões de outros pacotes usados neste jupyter notebook.\n",
    "!pip install -q -U watermark"
   ]
  },
  {
   "cell_type": "code",
   "execution_count": 3,
   "metadata": {
    "id": "jd3TUCH47GYo"
   },
   "outputs": [],
   "source": [
    "# Imports\n",
    "import pandas as pd\n",
    "import numpy as np\n",
    "import matplotlib.pyplot as plt\n",
    "import seaborn as sns\n",
    "import scipy.stats as stats"
   ]
  },
  {
   "cell_type": "code",
   "execution_count": 5,
   "metadata": {},
   "outputs": [],
   "source": [
    "# %reload_ext watermark\n",
    "# %watermark -a \"Data Science Academy\""
   ]
  },
  {
   "cell_type": "markdown",
   "metadata": {},
   "source": [
    "## Carregando e Compreendendo o Formato de Dados Geoespaciais"
   ]
  },
  {
   "cell_type": "code",
   "execution_count": 6,
   "metadata": {},
   "outputs": [],
   "source": [
    "# Semente para reprodutibilidade\n",
    "np.random.seed(42)"
   ]
  },
  {
   "cell_type": "code",
   "execution_count": 7,
   "metadata": {},
   "outputs": [],
   "source": [
    "# Carregando os dados\n",
    "df_dsa = pd.read_csv('dataset.csv')"
   ]
  },
  {
   "cell_type": "code",
   "execution_count": 8,
   "metadata": {},
   "outputs": [
    {
     "data": {
      "text/plain": [
       "(1000, 5)"
      ]
     },
     "execution_count": 8,
     "metadata": {},
     "output_type": "execute_result"
    }
   ],
   "source": [
    "# Shape\n",
    "df_dsa.shape"
   ]
  },
  {
   "cell_type": "code",
   "execution_count": 9,
   "metadata": {},
   "outputs": [
    {
     "data": {
      "text/html": [
       "<div>\n",
       "<style scoped>\n",
       "    .dataframe tbody tr th:only-of-type {\n",
       "        vertical-align: middle;\n",
       "    }\n",
       "\n",
       "    .dataframe tbody tr th {\n",
       "        vertical-align: top;\n",
       "    }\n",
       "\n",
       "    .dataframe thead th {\n",
       "        text-align: right;\n",
       "    }\n",
       "</style>\n",
       "<table border=\"1\" class=\"dataframe\">\n",
       "  <thead>\n",
       "    <tr style=\"text-align: right;\">\n",
       "      <th></th>\n",
       "      <th>usuario_id</th>\n",
       "      <th>grupo</th>\n",
       "      <th>latitude</th>\n",
       "      <th>longitude</th>\n",
       "      <th>conversao</th>\n",
       "    </tr>\n",
       "  </thead>\n",
       "  <tbody>\n",
       "    <tr>\n",
       "      <th>0</th>\n",
       "      <td>1</td>\n",
       "      <td>A</td>\n",
       "      <td>35.669109</td>\n",
       "      <td>6.869443</td>\n",
       "      <td>1</td>\n",
       "    </tr>\n",
       "    <tr>\n",
       "      <th>1</th>\n",
       "      <td>2</td>\n",
       "      <td>B</td>\n",
       "      <td>6.497346</td>\n",
       "      <td>-7.494524</td>\n",
       "      <td>1</td>\n",
       "    </tr>\n",
       "    <tr>\n",
       "      <th>2</th>\n",
       "      <td>3</td>\n",
       "      <td>A</td>\n",
       "      <td>-34.285029</td>\n",
       "      <td>-170.768856</td>\n",
       "      <td>0</td>\n",
       "    </tr>\n",
       "    <tr>\n",
       "      <th>3</th>\n",
       "      <td>4</td>\n",
       "      <td>A</td>\n",
       "      <td>56.483104</td>\n",
       "      <td>-57.150782</td>\n",
       "      <td>1</td>\n",
       "    </tr>\n",
       "    <tr>\n",
       "      <th>4</th>\n",
       "      <td>5</td>\n",
       "      <td>A</td>\n",
       "      <td>33.251611</td>\n",
       "      <td>-43.129577</td>\n",
       "      <td>0</td>\n",
       "    </tr>\n",
       "  </tbody>\n",
       "</table>\n",
       "</div>"
      ],
      "text/plain": [
       "   usuario_id grupo   latitude   longitude  conversao\n",
       "0           1     A  35.669109    6.869443          1\n",
       "1           2     B   6.497346   -7.494524          1\n",
       "2           3     A -34.285029 -170.768856          0\n",
       "3           4     A  56.483104  -57.150782          1\n",
       "4           5     A  33.251611  -43.129577          0"
      ]
     },
     "execution_count": 9,
     "metadata": {},
     "output_type": "execute_result"
    }
   ],
   "source": [
    "# Amostra\n",
    "df_dsa.head()"
   ]
  },
  {
   "cell_type": "markdown",
   "metadata": {},
   "source": [
    "## Como Conduzir Um Conduzir Um Teste A/B\n",
    "\n",
    "Para conduzir um Teste A/B o primeiro passo é definir as hipóteses. As hipóteses são normalmente divididas em hipótese nula (H0) e hipótese alternativa (H1). Vamos definir as hipóteses para nosso problema:\n",
    "\n",
    "**Hipótese Nula (H0)**:\n",
    "\n",
    "A hipótese nula afirma que não há diferença significativa na taxa média de conversão entre os grupos A e B. Ou seja, H0: pA = pB.\n",
    "\n",
    "- pA é a taxa média de conversão do grupo A\n",
    "- pB é a taxa média de conversão do grupo B\n",
    "\n",
    "**Hipótese Alternativa (H1)**:\n",
    "\n",
    "A hipótese alternativa afirma que há uma diferença significativa na taxa média de conversão entre os grupos A e B. Ou seja, H1: pA != pB.\n",
    "<!-- Projeto Desenvolvido na Data Science Academy - www.datascienceacademy.com.br -->\n",
    "**Passos Para o Teste de Hipóteses**:\n",
    "\n",
    "1- Definir o Nível de Significância (α)\n",
    "\n",
    "O nível de significância comum é 0.05, o que indica que estamos dispostos a aceitar um risco de 5% de rejeitar a hipótese nula quando ela é verdadeira.\n",
    "\n",
    "2- Calcular a Estatística de Teste\n",
    "\n",
    "Use um teste estatístico adequado (por exemplo, teste t de Student ou teste de proporção) para comparar as taxas de conversão entre os dois grupos.\n",
    "\n",
    "3- Tomar uma Decisão\n",
    "\n",
    "Compare o valor-p obtido com o nível de significância.\n",
    "\n",
    "- Se valor-p <= α, rejeitamos a hipótese nula e aceitamos a hipótese alternativa.\n",
    "- Se valor-p > α, não rejeitamos a hipótese nula. Ou seja, falhamos em rejeitar a H0."
   ]
  },
  {
   "cell_type": "markdown",
   "metadata": {},
   "source": [
    "## Explorando os Dados e Calculando a Taxa Média de Conversão"
   ]
  },
  {
   "cell_type": "code",
   "execution_count": 16,
   "metadata": {},
   "outputs": [
    {
     "data": {
      "text/plain": [
       "grupo\n",
       "B    0.51\n",
       "A    0.49\n",
       "Name: proportion, dtype: float64"
      ]
     },
     "execution_count": 16,
     "metadata": {},
     "output_type": "execute_result"
    }
   ],
   "source": [
    "#proporcao de cada grupo\n",
    "df_dsa['grupo'].value_counts(normalize=True)"
   ]
  },
  {
   "cell_type": "code",
   "execution_count": 10,
   "metadata": {},
   "outputs": [],
   "source": [
    "# Calculando a taxa de conversão por grupo\n",
    "taxa_conversao = df_dsa.groupby('grupo')['conversao'].mean()"
   ]
  },
  {
   "cell_type": "code",
   "execution_count": 11,
   "metadata": {},
   "outputs": [
    {
     "name": "stdout",
     "output_type": "stream",
     "text": [
      "Taxa de Conversão por Grupo:\n",
      "grupo\n",
      "A    0.300000\n",
      "B    0.315686\n",
      "Name: conversao, dtype: float64\n"
     ]
    }
   ],
   "source": [
    "# Exibindo taxas de conversão\n",
    "print(\"Taxa de Conversão por Grupo:\")\n",
    "print(taxa_conversao)"
   ]
  },
  {
   "cell_type": "code",
   "execution_count": 12,
   "metadata": {},
   "outputs": [],
   "source": [
    "# Separação dos grupos\n",
    "grupo_A = df_dsa[df_dsa['grupo'] == 'A']\n",
    "grupo_B = df_dsa[df_dsa['grupo'] == 'B']"
   ]
  },
  {
   "cell_type": "code",
   "execution_count": 13,
   "metadata": {},
   "outputs": [],
   "source": [
    "# Cálculo das taxas médias de conversão\n",
    "taxa_conversao_A = grupo_A['conversao'].mean()\n",
    "taxa_conversao_B = grupo_B['conversao'].mean()"
   ]
  },
  {
   "cell_type": "code",
   "execution_count": 14,
   "metadata": {},
   "outputs": [
    {
     "data": {
      "text/plain": [
       "np.float64(0.3)"
      ]
     },
     "execution_count": 14,
     "metadata": {},
     "output_type": "execute_result"
    }
   ],
   "source": [
    "taxa_conversao_A"
   ]
  },
  {
   "cell_type": "code",
   "execution_count": 15,
   "metadata": {},
   "outputs": [
    {
     "data": {
      "text/plain": [
       "np.float64(0.3156862745098039)"
      ]
     },
     "execution_count": 15,
     "metadata": {},
     "output_type": "execute_result"
    }
   ],
   "source": [
    "taxa_conversao_B"
   ]
  },
  {
   "cell_type": "markdown",
   "metadata": {},
   "source": [
    "## Escolha do Teste Estatístico Apropriado\n",
    "\n",
    "Veja a descrição completa no videobook do Capítulo 14 do curso.\n",
    "\n",
    "O teste t de Student é um teste estatístico paramétrico usado para determinar se há uma diferença significativa entre as médias de dois grupos. É amplamente utilizado quando os dados são aproximadamente normalmente distribuídos e as variâncias dos grupos são homogêneas.\n",
    "\n",
    "Hipóteses do Teste\n",
    "\n",
    "- Hipótese Nula (H0): Não há diferença significativa entre as médias dos grupos.\n",
    "- Hipótese Alternativa (H1): Há uma diferença significativa entre as médias dos grupos.\n",
    "\n",
    "O teste t de Student é uma ferramenta estatística poderosa, mas possui certas suposições que precisam ser atendidas para que os resultados sejam válidos. Aqui estão as principais suposições:\n",
    "\n",
    "- Normalidade\n",
    "- Independência das Amostras\n",
    "- Homogeneidade das Variâncias (ou Homocedasticidade)"
   ]
  },
  {
   "cell_type": "markdown",
   "metadata": {},
   "source": [
    "## Validando as Suposições do Teste Paramétrico\n",
    "\n",
    "Veja a descrição completa no ebook do Capítulo 14 do curso."
   ]
  },
  {
   "cell_type": "markdown",
   "metadata": {},
   "source": [
    "### Teste de Normalidade"
   ]
  },
  {
   "cell_type": "code",
   "execution_count": 14,
   "metadata": {},
   "outputs": [
    {
     "name": "stdout",
     "output_type": "stream",
     "text": [
      "Teste de Shapiro-Wilk Grupo A: ShapiroResult(statistic=np.float64(0.5755484295691086), pvalue=np.float64(8.305357450336786e-33))\n",
      "Teste de Shapiro-Wilk Grupo B: ShapiroResult(statistic=np.float64(0.5851295031033471), pvalue=np.float64(4.3919138194577314e-33))\n"
     ]
    }
   ],
   "source": [
    "# Teste de Shapiro-Wilk para normalidade\n",
    "shapiro_A = stats.shapiro(grupo_A['conversao'])\n",
    "shapiro_B = stats.shapiro(grupo_B['conversao'])\n",
    "print(f'Teste de Shapiro-Wilk Grupo A: {shapiro_A}')\n",
    "print(f'Teste de Shapiro-Wilk Grupo B: {shapiro_B}')"
   ]
  },
  {
   "cell_type": "markdown",
   "metadata": {},
   "source": [
    "A interpretação dos resultados do teste de Shapiro-Wilk para normalidade é baseada no valor-p (p-value) obtido:\n",
    "\n",
    "- Hipótese Nula (H0): Os dados são normalmente distribuídos.\n",
    "- Hipótese Alternativa (H1): Os dados não são normalmente distribuídos.\n",
    "\n",
    "**Interpretação dos Resultados**\n",
    "\n",
    "Para ambos os grupos, A e B, tivemos resultados muito baixos para a estatística do teste e valores-p extremamente pequenos (próximos de zero).\n",
    "\n",
    "Tomada de Decisão:\n",
    "\n",
    "- Se o valor p for menor que α, rejeitamos a hipótese nula.\n",
    "- Se o valor p for maior ou igual a α, não rejeitamos a hipótese nula.\n",
    "\n",
    "Resultados Obtidos:\n",
    "\n",
    "- Para o Grupo A: p-value = 8.305264317902864e-33\n",
    "- Para o Grupo B: p-value = 4.392181009917721e-33\n",
    "\n",
    "Ambos os valores p são muito menores que 0.05.\n",
    "\n",
    "**Conclusão**\n",
    "\n",
    "- Para o Grupo A, o valor p é significativamente menor que 0.05. Isso significa que rejeitamos a hipótese nula de que os dados são normalmente distribuídos. Portanto, os dados do Grupo A não são normalmente distribuídos.\n",
    "- Para o Grupo B, o valor p também é significativamente menor que 0.05. Isso significa que rejeitamos a hipótese nula de que os dados são normalmente distribuídos. Portanto, os dados do Grupo B não são normalmente distribuídos.\n",
    "\n",
    "**Ações a Tomar**\n",
    "\n",
    "Como os dados de ambos os grupos não são normalmente distribuídos, a suposição de normalidade para o teste t de Student não é atendida. Neste caso, você pode considerar os seguintes passos:\n",
    "\n",
    "Transformação dos Dados:\n",
    "\n",
    "- Tente transformar os dados para aproximá-los de uma distribuição normal (por exemplo, transformações logarítmicas).\n",
    "\n",
    "Testes Não Paramétricos:\n",
    "\n",
    "- Use um teste não paramétrico que não assume normalidade, como o teste de Mann-Whitney U (também conhecido como teste de Wilcoxon rank-sum)."
   ]
  },
  {
   "cell_type": "markdown",
   "metadata": {},
   "source": [
    "### Teste de Homogeneidade das Variâncias"
   ]
  },
  {
   "cell_type": "code",
   "execution_count": 15,
   "metadata": {},
   "outputs": [
    {
     "name": "stdout",
     "output_type": "stream",
     "text": [
      "Teste de Levene para homogeneidade das variâncias:\n",
      "LeveneResult(statistic=np.float64(0.2880082452976037), pvalue=np.float64(0.5916193377766582))\n"
     ]
    }
   ],
   "source": [
    "# Verificação da homogeneidade das variâncias\n",
    "levene_test = stats.levene(grupo_A['conversao'], grupo_B['conversao'])\n",
    "print(f'Teste de Levene para homogeneidade das variâncias:\\n{levene_test}')"
   ]
  },
  {
   "cell_type": "markdown",
   "metadata": {},
   "source": [
    "A interpretação do resultado do teste de Levene para homogeneidade das variâncias envolve os seguintes passos:\n",
    "\n",
    "Hipóteses do Teste de Levene\n",
    "\n",
    "- Hipótese Nula (H0): As variâncias dos dois grupos são iguais (homogeneidade das variâncias).\n",
    "- Hipótese Alternativa (H1): As variâncias dos dois grupos são diferentes (heterogeneidade das variâncias).\n",
    "\n",
    "**Interpretação dos Resultados**\n",
    "\n",
    "Resultados Obtidos:\n",
    "\n",
    "- Statistic: 0.2880082452976037\n",
    "- p-value: 0.5916193377766582\n",
    "\n",
    "Tomada de Decisão:\n",
    "\n",
    "- Se o valor p for menor que α, rejeitamos a hipótese nula.\n",
    "- Se o valor p for maior ou igual a α, não rejeitamos a hipótese nula.\n",
    "\n",
    "**Conclusão**\n",
    "\n",
    "O valor-p do teste de Levene é 0.5916193377766582, que é significativamente maior que 0.05. Portanto, não rejeitamos a hipótese nula.\n",
    "\n",
    "As variâncias dos dois grupos (A e B) são consideradas iguais. A suposição de homogeneidade das variâncias é atendida para o teste t de Student, o que significa que podemos assumir que as variâncias dos grupos A e B são aproximadamente iguais.\n",
    "\n",
    "**Ações a Tomar**\n",
    "\n",
    "Dado que a suposição de homogeneidade das variâncias é atendida, você poderia proceder com o teste t de Student padrão para comparar as médias dos dois grupos. No entanto, como os dados não são normalmente distribuídos (conforme determinado pelos resultados do teste de Shapiro-Wilk), seria mais apropriado usar um teste não paramétrico como o teste de Mann-Whitney U para comparar as conversões entre os grupos A e B."
   ]
  },
  {
   "cell_type": "markdown",
   "metadata": {},
   "source": [
    "Resumo\n",
    "\n",
    "- Teste de Shapiro-Wilk: Os dados dos grupos A e B não são normalmente distribuídos.\n",
    "- Teste de Levene: As variâncias dos grupos A e B são homogêneas.\n",
    "\n",
    "Recomendação: Utilizar o teste de Mann-Whitney U para comparar as taxas de conversão entre os grupos A e B, pois ele não assume normalidade dos dados."
   ]
  },
  {
   "cell_type": "markdown",
   "metadata": {},
   "source": [
    "### Você Validou as Suposições do Teste, Certo? Certo?"
   ]
  },
  {
   "cell_type": "code",
   "execution_count": 17,
   "metadata": {},
   "outputs": [],
   "source": [
    "# Teste t de Student para comparar as médias de conversão\n",
    "t_stat, p_val = stats.ttest_ind(grupo_A['conversao'], grupo_B['conversao'])"
   ]
  },
  {
   "cell_type": "code",
   "execution_count": 18,
   "metadata": {},
   "outputs": [
    {
     "name": "stdout",
     "output_type": "stream",
     "text": [
      "Taxa de conversão do Grupo A: 0.3\n",
      "Taxa de conversão do Grupo B: 0.3156862745098039\n",
      "Estatística t: -0.5366639966474401\n",
      "Valor p: 0.5916193377768858\n"
     ]
    }
   ],
   "source": [
    "print(f'Taxa de conversão do Grupo A: {grupo_A[\"conversao\"].mean()}')\n",
    "print(f'Taxa de conversão do Grupo B: {grupo_B[\"conversao\"].mean()}')\n",
    "print(f'Estatística t: {t_stat}')\n",
    "print(f'Valor p: {p_val}')"
   ]
  },
  {
   "cell_type": "code",
   "execution_count": 19,
   "metadata": {},
   "outputs": [
    {
     "name": "stdout",
     "output_type": "stream",
     "text": [
      "Falhamos em rejeitar a H0. Não há diferença estatisticamente significativa entre os grupos A e B\n"
     ]
    }
   ],
   "source": [
    "# Interpretação dos resultados\n",
    "if p_val < 0.05:\n",
    "    print(\"Rejeitamos a H0. Diferença estatisticamente significativa entre os grupos A e B\")\n",
    "else:\n",
    "    print(\"Falhamos em rejeitar a H0. Não há diferença estatisticamente significativa entre os grupos A e B\")"
   ]
  },
  {
   "cell_type": "markdown",
   "metadata": {},
   "source": [
    "## Quando Aplicar Teste Não Paramétrico?\n",
    "\n",
    "Veja a descrição completa no videobook do Capítulo 14 do curso.\n",
    "\n",
    "Testes não paramétricos são usados quando as suposições necessárias para os testes paramétricos não são atendidas. Eles não assumem uma distribuição específica dos dados, tornando-os úteis em diversas situações. "
   ]
  },
  {
   "cell_type": "markdown",
   "metadata": {},
   "source": [
    "## Aplicando Teste Não Paramétrico\n",
    "\n",
    "O teste de Mann-Whitney U, também conhecido como teste de Wilcoxon rank-sum, é um teste não paramétrico utilizado para comparar duas amostras independentes. Ele é utilizado quando as suposições de normalidade necessárias para o teste t de Student não são atendidas.\n",
    "\n",
    "O teste de Mann-Whitney U verifica se há uma diferença significativa entre as distribuições de duas amostras independentes. Ele é frequentemente utilizado como uma alternativa ao teste t de Student quando os dados não são normalmente distribuídos.\n",
    "\n",
    "Hipóteses do Teste\n",
    "\n",
    "- Hipótese Nula (H0): As distribuições das duas populações são iguais, ou seja, as duas amostras provêm da mesma distribuição.\n",
    "\n",
    "- Hipótese Alternativa (H1): As distribuições das duas populações são diferentes, ou seja, as duas amostras provêm de distribuições diferentes.\n",
    "\n",
    "Suposições\n",
    "\n",
    "- As amostras são independentes.\n",
    "- As observações são ordinalmente mensuráveis.\n",
    "- O teste não assume normalidade das amostras."
   ]
  },
  {
   "cell_type": "code",
   "execution_count": 20,
   "metadata": {},
   "outputs": [],
   "source": [
    "# Teste de Mann-Whitney U\n",
    "u_stat, p_val_mw = stats.mannwhitneyu(grupo_A['conversao'], grupo_B['conversao'])"
   ]
  },
  {
   "cell_type": "code",
   "execution_count": 21,
   "metadata": {},
   "outputs": [
    {
     "name": "stdout",
     "output_type": "stream",
     "text": [
      "Estatística U: 122990.0\n",
      "Valor p (Mann-Whitney): 0.5914621529131736\n"
     ]
    }
   ],
   "source": [
    "print(f'Estatística U: {u_stat}')\n",
    "print(f'Valor p (Mann-Whitney): {p_val_mw}')"
   ]
  },
  {
   "cell_type": "code",
   "execution_count": 22,
   "metadata": {},
   "outputs": [
    {
     "name": "stdout",
     "output_type": "stream",
     "text": [
      "Não rejeitamos a hipótese nula. Não há diferença estatisticamente significativa entre os grupos A e B\n"
     ]
    }
   ],
   "source": [
    "# Interpretação dos resultados\n",
    "alpha = 0.05\n",
    "if p_val_mw < alpha:\n",
    "    print(\"Rejeitamos a hipótese nula. Diferença estatisticamente significativa entre os grupos A e B\")\n",
    "else:\n",
    "    print(\"Não rejeitamos a hipótese nula. Não há diferença estatisticamente significativa entre os grupos A e B\")"
   ]
  },
  {
   "cell_type": "markdown",
   "metadata": {},
   "source": [
    "## Distribuição Geográfica dos Grupos A e B"
   ]
  },
  {
   "cell_type": "code",
   "execution_count": 23,
   "metadata": {},
   "outputs": [
    {
     "data": {
      "image/png": "[encoded data removed]",
      "text/plain": [
       "<Figure size 640x480 with 1 Axes>"
      ]
     },
     "metadata": {},
     "output_type": "display_data"
    }
   ],
   "source": [
    "# Plot\n",
    "plt.scatter(grupo_A['longitude'], grupo_A['latitude'], c='blue', label='Grupo A')\n",
    "plt.scatter(grupo_B['longitude'], grupo_B['latitude'], c='red', label='Grupo B')\n",
    "plt.xlabel('Longitude')\n",
    "plt.ylabel('Latitude')\n",
    "plt.legend()\n",
    "plt.title('Distribuição Geográfica dos Grupos A e B')\n",
    "plt.show()"
   ]
  },
  {
   "cell_type": "markdown",
   "metadata": {},
   "source": [
    "## Conclusão\n",
    "\n",
    "Com base na análise dos dados, não temos evidências estatísticas para afirmar que a campanha de Marketing apresenta diferença entre as regiões geográficas dos usuários. \n",
    "\n",
    "A região geográfica não tem influência na taxa média de conversão nos dados analisados."
   ]
  },
  {
   "cell_type": "code",
   "execution_count": 23,
   "metadata": {},
   "outputs": [
    {
     "name": "stdout",
     "output_type": "stream",
     "text": [
      "Author: Data Science Academy\n",
      "\n"
     ]
    }
   ],
   "source": [
    "%watermark -a \"Data Science Academy\""
   ]
  },
  {
   "cell_type": "code",
   "execution_count": 24,
   "metadata": {},
   "outputs": [],
   "source": [
    "#%watermark -v -m"
   ]
  },
  {
   "cell_type": "code",
   "execution_count": 25,
   "metadata": {},
   "outputs": [],
   "source": [
    "#%watermark --iversions"
   ]
  },
  {
   "cell_type": "markdown",
   "metadata": {},
   "source": [
    "# Fim"
   ]
  }
 ],
 "metadata": {
  "colab": {
   "provenance": []
  },
  "kernelspec": {
   "display_name": "ds-ciencia-de-dados",
   "language": "python",
   "name": "python3"
  },
  "language_info": {
   "codemirror_mode": {
    "name": "ipython",
    "version": 3
   },
   "file_extension": ".py",
   "mimetype": "text/x-python",
   "name": "python",
   "nbconvert_exporter": "python",
   "pygments_lexer": "ipython3",
   "version": "3.13.5"
  },
  "widgets": {
   "application/vnd.jupyter.widget-state+json": {
    "067761ab72a549d89b2db51db04fa603": {
     "model_module": "@jupyter-widgets/base",
     "model_module_version": "1.2.0",
     "model_name": "LayoutModel",
     "state": {
      "_model_module": "@jupyter-widgets/base",
      "_model_module_version": "1.2.0",
      "_model_name": "LayoutModel",
      "_view_count": null,
      "_view_module": "@jupyter-widgets/base",
      "_view_module_version": "1.2.0",
      "_view_name": "LayoutView",
      "align_content": null,
      "align_items": null,
      "align_self": null,
      "border": null,
      "bottom": null,
      "display": null,
      "flex": null,
      "flex_flow": null,
      "grid_area": null,
      "grid_auto_columns": null,
      "grid_auto_flow": null,
      "grid_auto_rows": null,
      "grid_column": null,
      "grid_gap": null,
      "grid_row": null,
      "grid_template_areas": null,
      "grid_template_columns": null,
      "grid_template_rows": null,
      "height": null,
      "justify_content": null,
      "justify_items": null,
      "left": null,
      "margin": null,
      "max_height": null,
      "max_width": null,
      "min_height": null,
      "min_width": null,
      "object_fit": null,
      "object_position": null,
      "order": null,
      "overflow": null,
      "overflow_x": null,
      "overflow_y": null,
      "padding": null,
      "right": null,
      "top": null,
      "visibility": null,
      "width": "auto"
     }
    },
    "3636079e4cb14cbebcb13fcb61aa9d38": {
     "model_module": "@jupyter-widgets/controls",
     "model_module_version": "1.5.0",
     "model_name": "FloatProgressModel",
     "state": {
      "_dom_classes": [],
      "_model_module": "@jupyter-widgets/controls",
      "_model_module_version": "1.5.0",
      "_model_name": "FloatProgressModel",
      "_view_count": null,
      "_view_module": "@jupyter-widgets/controls",
      "_view_module_version": "1.5.0",
      "_view_name": "ProgressView",
      "bar_style": "",
      "description": "",
      "description_tooltip": null,
      "layout": "IPY_MODEL_bfbe663fbe02402f813a1fd266ad85d0",
      "max": 100,
      "min": 0,
      "orientation": "horizontal",
      "style": "IPY_MODEL_d8e723df5a34481292883da7d4337782",
      "value": 100
     }
    },
    "756ca9f25a1549f5b84f05675c211ca5": {
     "model_module": "@jupyter-widgets/controls",
     "model_module_version": "1.5.0",
     "model_name": "FloatProgressModel",
     "state": {
      "_dom_classes": [],
      "_model_module": "@jupyter-widgets/controls",
      "_model_module_version": "1.5.0",
      "_model_name": "FloatProgressModel",
      "_view_count": null,
      "_view_module": "@jupyter-widgets/controls",
      "_view_module_version": "1.5.0",
      "_view_name": "ProgressView",
      "bar_style": "",
      "description": "",
      "description_tooltip": null,
      "layout": "IPY_MODEL_067761ab72a549d89b2db51db04fa603",
      "max": 100,
      "min": 0,
      "orientation": "horizontal",
      "style": "IPY_MODEL_8cb1a0c6df794465a254212f41f8a2a1",
      "value": 100
     }
    },
    "8cb1a0c6df794465a254212f41f8a2a1": {
     "model_module": "@jupyter-widgets/controls",
     "model_module_version": "1.5.0",
     "model_name": "ProgressStyleModel",
     "state": {
      "_model_module": "@jupyter-widgets/controls",
      "_model_module_version": "1.5.0",
      "_model_name": "ProgressStyleModel",
      "_view_count": null,
      "_view_module": "@jupyter-widgets/base",
      "_view_module_version": "1.2.0",
      "_view_name": "StyleView",
      "bar_color": "black",
      "description_width": ""
     }
    },
    "bfbe663fbe02402f813a1fd266ad85d0": {
     "model_module": "@jupyter-widgets/base",
     "model_module_version": "1.2.0",
     "model_name": "LayoutModel",
     "state": {
      "_model_module": "@jupyter-widgets/base",
      "_model_module_version": "1.2.0",
      "_model_name": "LayoutModel",
      "_view_count": null,
      "_view_module": "@jupyter-widgets/base",
      "_view_module_version": "1.2.0",
      "_view_name": "LayoutView",
      "align_content": null,
      "align_items": null,
      "align_self": null,
      "border": null,
      "bottom": null,
      "display": null,
      "flex": null,
      "flex_flow": null,
      "grid_area": null,
      "grid_auto_columns": null,
      "grid_auto_flow": null,
      "grid_auto_rows": null,
      "grid_column": null,
      "grid_gap": null,
      "grid_row": null,
      "grid_template_areas": null,
      "grid_template_columns": null,
      "grid_template_rows": null,
      "height": null,
      "justify_content": null,
      "justify_items": null,
      "left": null,
      "margin": null,
      "max_height": null,
      "max_width": null,
      "min_height": null,
      "min_width": null,
      "object_fit": null,
      "object_position": null,
      "order": null,
      "overflow": null,
      "overflow_x": null,
      "overflow_y": null,
      "padding": null,
      "right": null,
      "top": null,
      "visibility": null,
      "width": "auto"
     }
    },
    "d8e723df5a34481292883da7d4337782": {
     "model_module": "@jupyter-widgets/controls",
     "model_module_version": "1.5.0",
     "model_name": "ProgressStyleModel",
     "state": {
      "_model_module": "@jupyter-widgets/controls",
      "_model_module_version": "1.5.0",
      "_model_name": "ProgressStyleModel",
      "_view_count": null,
      "_view_module": "@jupyter-widgets/base",
      "_view_module_version": "1.2.0",
      "_view_name": "StyleView",
      "bar_color": "black",
      "description_width": ""
     }
    }
   }
  }
 },
 "nbformat": 4,
 "nbformat_minor": 4
}
