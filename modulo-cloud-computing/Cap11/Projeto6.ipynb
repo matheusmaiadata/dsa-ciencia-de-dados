{
 "cells": [
  {
   "cell_type": "markdown",
   "id": "a4d0128f-947a-4520-bf4b-1de031b4295e",
   "metadata": {},
   "source": [
    "<!-- Projeto Desenvolvido na Data Science Academy - www.datascienceacademy.com.br -->\n",
    "# <font color='blue'>Data Science Academy</font>\n",
    "## <font color='blue'>Cloud Computing Data Science</font>\n",
    "## <font color='blue'>Projeto 6</font>\n",
    "### <font color='blue'>Otimização de Hiperparâmetros em Modelo de Previsão de Churn de Clientes com AutoML</font>"
   ]
  },
  {
   "cell_type": "markdown",
   "id": "da5e7544",
   "metadata": {},
   "source": [
    "## Pacotes Python Usados com SageMaker"
   ]
  },
  {
   "cell_type": "code",
   "execution_count": 1,
   "id": "27aa5c7e",
   "metadata": {},
   "outputs": [
    {
     "name": "stdout",
     "output_type": "stream",
     "text": [
      "sagemaker.config INFO - Not applying SDK defaults from location: /etc/xdg/sagemaker/config.yaml\n",
      "sagemaker.config INFO - Not applying SDK defaults from location: /home/sagemaker-user/.config/sagemaker/config.yaml\n"
     ]
    }
   ],
   "source": [
    "# Imports\n",
    "import io\n",
    "import os\n",
    "import sys\n",
    "import time\n",
    "import json\n",
    "import boto3\n",
    "import sagemaker\n",
    "import pandas as pd\n",
    "import numpy as np\n",
    "import matplotlib.pyplot as plt\n",
    "from io import StringIO\n",
    "from time import gmtime, strftime, sleep\n",
    "from IPython.display import display\n",
    "from sagemaker import get_execution_role\n",
    "from sagemaker.predictor import Predictor\n",
    "from sagemaker.serializers import CSVSerializer\n",
    "from sagemaker.deserializers import CSVDeserializer\n",
    "from sklearn.metrics import accuracy_score, precision_score, recall_score, f1_score\n",
    "pd.set_option(\"display.max_columns\", 500)"
   ]
  },
  {
   "cell_type": "markdown",
   "id": "1f1e772b",
   "metadata": {},
   "source": [
    "## Definindo Região AWS, Role de Execução e Sessão SageMaker"
   ]
  },
  {
   "cell_type": "code",
   "execution_count": 2,
   "id": "653d924e",
   "metadata": {},
   "outputs": [
    {
     "name": "stdout",
     "output_type": "stream",
     "text": [
      "us-east-2\n"
     ]
    }
   ],
   "source": [
    "# Define a região\n",
    "region = boto3.Session().region_name\n",
    "print(region)"
   ]
  },
  {
   "cell_type": "code",
   "execution_count": 3,
   "id": "68d4c81e",
   "metadata": {},
   "outputs": [
    {
     "name": "stdout",
     "output_type": "stream",
     "text": [
      "arn:aws:iam::890582101704:role/service-role/AmazonSageMaker-ExecutionRole-20240523T163775\n"
     ]
    }
   ],
   "source": [
    "# Define a role\n",
    "role = get_execution_role()\n",
    "print(role)"
   ]
  },
  {
   "cell_type": "code",
   "execution_count": 4,
   "id": "9e0b96e9",
   "metadata": {},
   "outputs": [],
   "source": [
    "# Cria sessão SageMaker\n",
    "session = sagemaker.Session()"
   ]
  },
  {
   "cell_type": "markdown",
   "id": "3e4d8378",
   "metadata": {},
   "source": [
    "## Definindo o Bucket S3 com a Fonte de Dados"
   ]
  },
  {
   "cell_type": "code",
   "execution_count": 5,
   "id": "17dbe47a",
   "metadata": {},
   "outputs": [],
   "source": [
    "# Cria o cliente s3\n",
    "s3 = boto3.client(\"s3\")"
   ]
  },
  {
   "cell_type": "code",
   "execution_count": 6,
   "id": "a7f9e7b7",
   "metadata": {},
   "outputs": [],
   "source": [
    "# Download do arquivo do bucket para o ambiente local do SageMaker\n",
    "s3.download_file(f\"dsa-p6-890582101704\", \"dataset.txt\", \"churn.txt\")"
   ]
  },
  {
   "cell_type": "code",
   "execution_count": 7,
   "id": "0d1fe130",
   "metadata": {},
   "outputs": [],
   "source": [
    "# Carrega o arquivo como dataframe do pandas\n",
    "churn = pd.read_csv(\"./churn.txt\")"
   ]
  },
  {
   "cell_type": "code",
   "execution_count": 8,
   "id": "4009c5df",
   "metadata": {},
   "outputs": [
    {
     "data": {
      "text/html": [
       "<div>\n",
       "<style scoped>\n",
       "    .dataframe tbody tr th:only-of-type {\n",
       "        vertical-align: middle;\n",
       "    }\n",
       "\n",
       "    .dataframe tbody tr th {\n",
       "        vertical-align: top;\n",
       "    }\n",
       "\n",
       "    .dataframe thead th {\n",
       "        text-align: right;\n",
       "    }\n",
       "</style>\n",
       "<table border=\"1\" class=\"dataframe\">\n",
       "  <thead>\n",
       "    <tr style=\"text-align: right;\">\n",
       "      <th></th>\n",
       "      <th>State</th>\n",
       "      <th>Account Length</th>\n",
       "      <th>Area Code</th>\n",
       "      <th>Phone</th>\n",
       "      <th>Int'l Plan</th>\n",
       "      <th>VMail Plan</th>\n",
       "      <th>VMail Message</th>\n",
       "      <th>Day Mins</th>\n",
       "      <th>Day Calls</th>\n",
       "      <th>Day Charge</th>\n",
       "      <th>Eve Mins</th>\n",
       "      <th>Eve Calls</th>\n",
       "      <th>Eve Charge</th>\n",
       "      <th>Night Mins</th>\n",
       "      <th>Night Calls</th>\n",
       "      <th>Night Charge</th>\n",
       "      <th>Intl Mins</th>\n",
       "      <th>Intl Calls</th>\n",
       "      <th>Intl Charge</th>\n",
       "      <th>CustServ Calls</th>\n",
       "      <th>Churn?</th>\n",
       "    </tr>\n",
       "  </thead>\n",
       "  <tbody>\n",
       "    <tr>\n",
       "      <th>0</th>\n",
       "      <td>PA</td>\n",
       "      <td>163</td>\n",
       "      <td>806</td>\n",
       "      <td>403-2562</td>\n",
       "      <td>no</td>\n",
       "      <td>yes</td>\n",
       "      <td>300</td>\n",
       "      <td>8.162204</td>\n",
       "      <td>3</td>\n",
       "      <td>7.579174</td>\n",
       "      <td>3.933035</td>\n",
       "      <td>4</td>\n",
       "      <td>6.508639</td>\n",
       "      <td>4.065759</td>\n",
       "      <td>100</td>\n",
       "      <td>5.111624</td>\n",
       "      <td>4.928160</td>\n",
       "      <td>6</td>\n",
       "      <td>5.673203</td>\n",
       "      <td>3</td>\n",
       "      <td>True.</td>\n",
       "    </tr>\n",
       "    <tr>\n",
       "      <th>1</th>\n",
       "      <td>SC</td>\n",
       "      <td>15</td>\n",
       "      <td>836</td>\n",
       "      <td>158-8416</td>\n",
       "      <td>yes</td>\n",
       "      <td>no</td>\n",
       "      <td>0</td>\n",
       "      <td>10.018993</td>\n",
       "      <td>4</td>\n",
       "      <td>4.226289</td>\n",
       "      <td>2.325005</td>\n",
       "      <td>0</td>\n",
       "      <td>9.972592</td>\n",
       "      <td>7.141040</td>\n",
       "      <td>200</td>\n",
       "      <td>6.436188</td>\n",
       "      <td>3.221748</td>\n",
       "      <td>6</td>\n",
       "      <td>2.559749</td>\n",
       "      <td>8</td>\n",
       "      <td>False.</td>\n",
       "    </tr>\n",
       "    <tr>\n",
       "      <th>2</th>\n",
       "      <td>MO</td>\n",
       "      <td>131</td>\n",
       "      <td>777</td>\n",
       "      <td>896-6253</td>\n",
       "      <td>no</td>\n",
       "      <td>yes</td>\n",
       "      <td>300</td>\n",
       "      <td>4.708490</td>\n",
       "      <td>3</td>\n",
       "      <td>4.768160</td>\n",
       "      <td>4.537466</td>\n",
       "      <td>3</td>\n",
       "      <td>4.566715</td>\n",
       "      <td>5.363235</td>\n",
       "      <td>100</td>\n",
       "      <td>5.142451</td>\n",
       "      <td>7.139023</td>\n",
       "      <td>2</td>\n",
       "      <td>6.254157</td>\n",
       "      <td>4</td>\n",
       "      <td>False.</td>\n",
       "    </tr>\n",
       "    <tr>\n",
       "      <th>3</th>\n",
       "      <td>WY</td>\n",
       "      <td>75</td>\n",
       "      <td>878</td>\n",
       "      <td>817-5729</td>\n",
       "      <td>yes</td>\n",
       "      <td>yes</td>\n",
       "      <td>700</td>\n",
       "      <td>1.268734</td>\n",
       "      <td>3</td>\n",
       "      <td>2.567642</td>\n",
       "      <td>2.528748</td>\n",
       "      <td>5</td>\n",
       "      <td>2.333624</td>\n",
       "      <td>3.773586</td>\n",
       "      <td>450</td>\n",
       "      <td>3.814413</td>\n",
       "      <td>2.245779</td>\n",
       "      <td>6</td>\n",
       "      <td>1.080692</td>\n",
       "      <td>6</td>\n",
       "      <td>False.</td>\n",
       "    </tr>\n",
       "    <tr>\n",
       "      <th>4</th>\n",
       "      <td>WY</td>\n",
       "      <td>146</td>\n",
       "      <td>878</td>\n",
       "      <td>450-4942</td>\n",
       "      <td>yes</td>\n",
       "      <td>no</td>\n",
       "      <td>0</td>\n",
       "      <td>2.696177</td>\n",
       "      <td>3</td>\n",
       "      <td>5.908916</td>\n",
       "      <td>6.015337</td>\n",
       "      <td>3</td>\n",
       "      <td>3.670408</td>\n",
       "      <td>3.751673</td>\n",
       "      <td>250</td>\n",
       "      <td>2.796812</td>\n",
       "      <td>6.905545</td>\n",
       "      <td>4</td>\n",
       "      <td>7.134343</td>\n",
       "      <td>6</td>\n",
       "      <td>True.</td>\n",
       "    </tr>\n",
       "  </tbody>\n",
       "</table>\n",
       "</div>"
      ],
      "text/plain": [
       "  State  Account Length  Area Code     Phone Int'l Plan VMail Plan  \\\n",
       "0    PA             163        806  403-2562         no        yes   \n",
       "1    SC              15        836  158-8416        yes         no   \n",
       "2    MO             131        777  896-6253         no        yes   \n",
       "3    WY              75        878  817-5729        yes        yes   \n",
       "4    WY             146        878  450-4942        yes         no   \n",
       "\n",
       "   VMail Message   Day Mins  Day Calls  Day Charge  Eve Mins  Eve Calls  \\\n",
       "0            300   8.162204          3    7.579174  3.933035          4   \n",
       "1              0  10.018993          4    4.226289  2.325005          0   \n",
       "2            300   4.708490          3    4.768160  4.537466          3   \n",
       "3            700   1.268734          3    2.567642  2.528748          5   \n",
       "4              0   2.696177          3    5.908916  6.015337          3   \n",
       "\n",
       "   Eve Charge  Night Mins  Night Calls  Night Charge  Intl Mins  Intl Calls  \\\n",
       "0    6.508639    4.065759          100      5.111624   4.928160           6   \n",
       "1    9.972592    7.141040          200      6.436188   3.221748           6   \n",
       "2    4.566715    5.363235          100      5.142451   7.139023           2   \n",
       "3    2.333624    3.773586          450      3.814413   2.245779           6   \n",
       "4    3.670408    3.751673          250      2.796812   6.905545           4   \n",
       "\n",
       "   Intl Charge  CustServ Calls  Churn?  \n",
       "0     5.673203               3   True.  \n",
       "1     2.559749               8  False.  \n",
       "2     6.254157               4  False.  \n",
       "3     1.080692               6  False.  \n",
       "4     7.134343               6   True.  "
      ]
     },
     "execution_count": 8,
     "metadata": {},
     "output_type": "execute_result"
    }
   ],
   "source": [
    "churn.head()"
   ]
  },
  {
   "cell_type": "markdown",
   "id": "0f6fcb96",
   "metadata": {},
   "source": [
    "## Separando os Dados em Treino e Teste"
   ]
  },
  {
   "cell_type": "code",
   "execution_count": 9,
   "id": "73b330a3",
   "metadata": {},
   "outputs": [],
   "source": [
    "# Extrai uma amostra de 80% dos dados para treino\n",
    "dsa_dados_treino = churn.sample(frac = 0.8, random_state = 200)"
   ]
  },
  {
   "cell_type": "code",
   "execution_count": 10,
   "id": "620fe63e",
   "metadata": {},
   "outputs": [],
   "source": [
    "# Faz o drop dos dados de treino e o que sobrar vai para a amostra de teste\n",
    "dsa_dados_teste = churn.drop(dsa_dados_treino.index)"
   ]
  },
  {
   "cell_type": "code",
   "execution_count": 11,
   "id": "a02bed9c",
   "metadata": {},
   "outputs": [],
   "source": [
    "# Cria um dataset de teste sem a variável target\n",
    "dsa_dados_teste_no_target = dsa_dados_teste.drop(columns = [\"Churn?\"])"
   ]
  },
  {
   "cell_type": "markdown",
   "id": "2eee04ce",
   "metadata": {},
   "source": [
    "## Salvando as Amostras de Treino e Teste no Bucket S3"
   ]
  },
  {
   "cell_type": "code",
   "execution_count": 12,
   "id": "68bc9144",
   "metadata": {},
   "outputs": [],
   "source": [
    "# Define o bucket usado pelo SageMaker e o prefixo\n",
    "bucket = session.default_bucket()\n",
    "prefix = \"sagemaker/dsap6-automl-churn\""
   ]
  },
  {
   "cell_type": "code",
   "execution_count": 13,
   "id": "b7110698",
   "metadata": {},
   "outputs": [
    {
     "name": "stdout",
     "output_type": "stream",
     "text": [
      "Dataset de Treino Salvo em: s3://sagemaker-us-east-2-890582101704/sagemaker/dsap6-automl-churn/train/dsa_dados_treino.csv\n"
     ]
    }
   ],
   "source": [
    "# Salvando os dados de treino no S3\n",
    "train_file = \"dsa_dados_treino.csv\"\n",
    "dsa_dados_treino.to_csv(train_file, index = False, header = True)\n",
    "train_data_s3_path = session.upload_data(path = train_file, key_prefix = prefix + \"/train\")\n",
    "print(\"Dataset de Treino Salvo em: \" + train_data_s3_path)"
   ]
  },
  {
   "cell_type": "code",
   "execution_count": 14,
   "id": "fe33705b",
   "metadata": {},
   "outputs": [
    {
     "name": "stdout",
     "output_type": "stream",
     "text": [
      "Dataset de Teste Salvo em: s3://sagemaker-us-east-2-890582101704/sagemaker/dsap6-automl-churn/test/dsa_dados_teste.csv\n"
     ]
    }
   ],
   "source": [
    "# Salvando os dados de teste no S3\n",
    "test_file = \"dsa_dados_teste.csv\"\n",
    "dsa_dados_teste.to_csv(test_file, index = False, header = False)\n",
    "test_data_s3_path = session.upload_data(path = test_file, key_prefix = prefix + \"/test\")\n",
    "print(\"Dataset de Teste Salvo em: \" + test_data_s3_path)"
   ]
  },
  {
   "cell_type": "code",
   "execution_count": 15,
   "id": "4a471d3e-0a9c-4bc8-9aec-9ed8f13d2806",
   "metadata": {},
   "outputs": [
    {
     "name": "stdout",
     "output_type": "stream",
     "text": [
      "Dataset de Teste Salvo em: s3://sagemaker-us-east-2-890582101704/sagemaker/dsap6-automl-churn/test/dsa_dados_teste_no_target.csv\n"
     ]
    }
   ],
   "source": [
    "# Salvando os dados de teste no S3\n",
    "test_file = \"dsa_dados_teste_no_target.csv\"\n",
    "dsa_dados_teste_no_target.to_csv(test_file, index = False, header = False)\n",
    "test_data_s3_path = session.upload_data(path = test_file, key_prefix = prefix + \"/test\")\n",
    "print(\"Dataset de Teste Salvo em: \" + test_data_s3_path)"
   ]
  },
  {
   "cell_type": "markdown",
   "id": "488735ae",
   "metadata": {},
   "source": [
    "## Configuração do Job com SageMaker AutoPilot"
   ]
  },
  {
   "cell_type": "code",
   "execution_count": 16,
   "id": "d40ad63d",
   "metadata": {},
   "outputs": [],
   "source": [
    "# Config\n",
    "input_data_config = [\n",
    "    {\n",
    "        \"DataSource\": {\n",
    "            \"S3DataSource\": {\n",
    "                \"S3DataType\": \"S3Prefix\",\n",
    "                \"S3Uri\": \"s3://{}/{}/train\".format(bucket, prefix),\n",
    "            }\n",
    "        },\n",
    "        \"TargetAttributeName\": \"Churn?\",\n",
    "    }\n",
    "]"
   ]
  },
  {
   "cell_type": "code",
   "execution_count": 17,
   "id": "198f4392",
   "metadata": {},
   "outputs": [],
   "source": [
    "# Config do output\n",
    "output_data_config = {\"S3OutputPath\": \"s3://{}/{}/output\".format(bucket, prefix)}"
   ]
  },
  {
   "cell_type": "code",
   "execution_count": 18,
   "id": "33d77a31",
   "metadata": {},
   "outputs": [],
   "source": [
    "# Timestamp sufixo\n",
    "timestamp_suffix = strftime(\"%d-%H-%M-%S\", gmtime())"
   ]
  },
  {
   "cell_type": "code",
   "execution_count": 19,
   "id": "8f3e8f3b",
   "metadata": {},
   "outputs": [
    {
     "name": "stdout",
     "output_type": "stream",
     "text": [
      "AutoMLJobName: automl-churn-20-22-37-59\n"
     ]
    }
   ],
   "source": [
    "auto_ml_job_name = \"automl-churn-\" + timestamp_suffix\n",
    "print(\"AutoMLJobName: \" + auto_ml_job_name)"
   ]
  },
  {
   "cell_type": "code",
   "execution_count": 20,
   "id": "3c6fa808",
   "metadata": {},
   "outputs": [],
   "source": [
    "# Este é o cliente que usaremos para interagir com o SageMaker AutoPilot\n",
    "sm = boto3.Session().client(service_name = \"sagemaker\", region_name = region)"
   ]
  },
  {
   "cell_type": "code",
   "execution_count": 21,
   "id": "a45f9a45",
   "metadata": {},
   "outputs": [
    {
     "data": {
      "text/plain": [
       "{'AutoMLJobArn': 'arn:aws:sagemaker:us-east-2:890582101704:automl-job/automl-churn-20-22-37-59',\n",
       " 'ResponseMetadata': {'RequestId': '25ffb823-e487-4551-aba2-4a62177c512f',\n",
       "  'HTTPStatusCode': 200,\n",
       "  'HTTPHeaders': {'x-amzn-requestid': '25ffb823-e487-4551-aba2-4a62177c512f',\n",
       "   'content-type': 'application/x-amz-json-1.1',\n",
       "   'content-length': '95',\n",
       "   'date': 'Fri, 20 Dec 2024 22:37:59 GMT'},\n",
       "  'RetryAttempts': 0}}"
      ]
     },
     "execution_count": 21,
     "metadata": {},
     "output_type": "execute_result"
    }
   ],
   "source": [
    "# Cria o job\n",
    "sm.create_auto_ml_job(AutoMLJobName = auto_ml_job_name,\n",
    "                      InputDataConfig = input_data_config,\n",
    "                      OutputDataConfig = output_data_config,\n",
    "                      AutoMLJobConfig = {\"CompletionCriteria\": {\"MaxCandidates\": 20}},\n",
    "                      RoleArn = role)"
   ]
  },
  {
   "cell_type": "markdown",
   "id": "5ab8d08e",
   "metadata": {},
   "source": [
    "## Execução do Job no SageMaker AutoPilot"
   ]
  },
  {
   "cell_type": "code",
   "execution_count": 22,
   "id": "3555253f",
   "metadata": {},
   "outputs": [
    {
     "name": "stdout",
     "output_type": "stream",
     "text": [
      "Stored 'auto_ml_job_name' (str)\n"
     ]
    },
    {
     "data": {
      "text/plain": [
       "'automl-churn-20-22-37-59'"
      ]
     },
     "execution_count": 22,
     "metadata": {},
     "output_type": "execute_result"
    }
   ],
   "source": [
    "# Armazena o nome AutoMLJobName para uso em notebooks subsequentes\n",
    "%store auto_ml_job_name\n",
    "auto_ml_job_name"
   ]
  },
  {
   "cell_type": "markdown",
   "id": "4a2d9c9c-38f7-4804-a003-a648aae756a4",
   "metadata": {},
   "source": [
    "A célula abaixo é demorada (aproximadamente 30 minutos). Pratique a paciência e aguarde."
   ]
  },
  {
   "cell_type": "code",
   "execution_count": 23,
   "id": "a3f82714",
   "metadata": {},
   "outputs": [
    {
     "name": "stdout",
     "output_type": "stream",
     "text": [
      "DSA - Projeto 6 - JobStatus\n",
      "------------------------------\n",
      "InProgress - Starting\n",
      "InProgress - Starting\n",
      "InProgress - AnalyzingData\n",
      "InProgress - AnalyzingData\n",
      "InProgress - AnalyzingData\n",
      "InProgress - AnalyzingData\n",
      "InProgress - AnalyzingData\n",
      "InProgress - AnalyzingData\n",
      "InProgress - AnalyzingData\n",
      "InProgress - AnalyzingData\n",
      "InProgress - AnalyzingData\n",
      "InProgress - AnalyzingData\n",
      "InProgress - AnalyzingData\n",
      "InProgress - AnalyzingData\n",
      "InProgress - AnalyzingData\n",
      "InProgress - AnalyzingData\n",
      "InProgress - AnalyzingData\n",
      "InProgress - AnalyzingData\n",
      "InProgress - AnalyzingData\n",
      "InProgress - AnalyzingData\n",
      "InProgress - AnalyzingData\n",
      "InProgress - AnalyzingData\n",
      "InProgress - AnalyzingData\n",
      "InProgress - AnalyzingData\n",
      "InProgress - AnalyzingData\n",
      "InProgress - AnalyzingData\n",
      "InProgress - AnalyzingData\n",
      "InProgress - AnalyzingData\n",
      "InProgress - AnalyzingData\n",
      "InProgress - AnalyzingData\n",
      "InProgress - AnalyzingData\n",
      "InProgress - AnalyzingData\n",
      "InProgress - AnalyzingData\n",
      "InProgress - AnalyzingData\n",
      "InProgress - FeatureEngineering\n",
      "InProgress - FeatureEngineering\n",
      "InProgress - FeatureEngineering\n",
      "InProgress - FeatureEngineering\n",
      "InProgress - FeatureEngineering\n",
      "InProgress - FeatureEngineering\n",
      "InProgress - FeatureEngineering\n",
      "InProgress - FeatureEngineering\n",
      "InProgress - FeatureEngineering\n",
      "InProgress - FeatureEngineering\n",
      "InProgress - FeatureEngineering\n",
      "InProgress - FeatureEngineering\n",
      "InProgress - FeatureEngineering\n",
      "InProgress - FeatureEngineering\n",
      "InProgress - FeatureEngineering\n",
      "InProgress - FeatureEngineering\n",
      "InProgress - FeatureEngineering\n",
      "InProgress - FeatureEngineering\n",
      "InProgress - FeatureEngineering\n",
      "InProgress - FeatureEngineering\n",
      "InProgress - FeatureEngineering\n",
      "InProgress - FeatureEngineering\n",
      "InProgress - FeatureEngineering\n",
      "InProgress - FeatureEngineering\n",
      "InProgress - FeatureEngineering\n",
      "InProgress - FeatureEngineering\n",
      "InProgress - FeatureEngineering\n",
      "InProgress - FeatureEngineering\n",
      "InProgress - FeatureEngineering\n",
      "InProgress - FeatureEngineering\n",
      "InProgress - FeatureEngineering\n",
      "InProgress - FeatureEngineering\n",
      "InProgress - FeatureEngineering\n",
      "InProgress - FeatureEngineering\n",
      "InProgress - FeatureEngineering\n",
      "InProgress - FeatureEngineering\n",
      "InProgress - FeatureEngineering\n",
      "InProgress - FeatureEngineering\n",
      "InProgress - FeatureEngineering\n",
      "InProgress - FeatureEngineering\n",
      "InProgress - FeatureEngineering\n",
      "InProgress - FeatureEngineering\n",
      "InProgress - FeatureEngineering\n",
      "InProgress - FeatureEngineering\n",
      "InProgress - FeatureEngineering\n",
      "InProgress - FeatureEngineering\n",
      "InProgress - FeatureEngineering\n",
      "InProgress - FeatureEngineering\n",
      "InProgress - FeatureEngineering\n",
      "InProgress - FeatureEngineering\n",
      "InProgress - ModelTuning\n",
      "InProgress - ModelTuning\n",
      "InProgress - ModelTuning\n",
      "InProgress - ModelTuning\n",
      "InProgress - ModelTuning\n",
      "InProgress - ModelTuning\n",
      "InProgress - ModelTuning\n",
      "InProgress - ModelTuning\n",
      "InProgress - ModelTuning\n",
      "InProgress - ModelTuning\n",
      "InProgress - ModelTuning\n",
      "InProgress - ModelTuning\n",
      "InProgress - ModelTuning\n",
      "InProgress - ModelTuning\n",
      "InProgress - ModelTuning\n",
      "InProgress - ModelTuning\n",
      "InProgress - ModelTuning\n",
      "InProgress - ModelTuning\n",
      "InProgress - ModelTuning\n",
      "InProgress - ModelTuning\n",
      "InProgress - ModelTuning\n",
      "InProgress - ModelTuning\n",
      "InProgress - ModelTuning\n",
      "InProgress - ModelTuning\n",
      "InProgress - ModelTuning\n",
      "InProgress - ModelTuning\n",
      "InProgress - ModelTuning\n",
      "InProgress - ModelTuning\n",
      "InProgress - ModelTuning\n",
      "InProgress - ModelTuning\n",
      "InProgress - ModelTuning\n",
      "InProgress - ModelTuning\n",
      "InProgress - ModelTuning\n",
      "InProgress - ModelTuning\n",
      "InProgress - ModelTuning\n",
      "InProgress - ModelTuning\n",
      "InProgress - ModelTuning\n",
      "InProgress - ModelTuning\n",
      "InProgress - ModelTuning\n",
      "InProgress - ModelTuning\n",
      "InProgress - ModelTuning\n",
      "InProgress - ModelTuning\n",
      "InProgress - ModelTuning\n",
      "InProgress - ModelTuning\n",
      "InProgress - ModelTuning\n",
      "InProgress - ModelTuning\n",
      "InProgress - ModelTuning\n",
      "InProgress - ModelTuning\n",
      "InProgress - ModelTuning\n",
      "InProgress - ModelTuning\n",
      "InProgress - ModelTuning\n",
      "InProgress - ModelTuning\n",
      "InProgress - ModelTuning\n",
      "InProgress - ModelTuning\n",
      "InProgress - ModelTuning\n",
      "InProgress - ModelTuning\n",
      "InProgress - ModelTuning\n",
      "InProgress - ModelTuning\n",
      "InProgress - ModelTuning\n",
      "InProgress - ModelTuning\n",
      "InProgress - ModelTuning\n",
      "InProgress - ModelTuning\n",
      "InProgress - ModelTuning\n",
      "InProgress - ModelTuning\n",
      "InProgress - ModelTuning\n",
      "InProgress - ModelTuning\n",
      "InProgress - ModelTuning\n",
      "InProgress - ModelTuning\n",
      "InProgress - ModelTuning\n",
      "InProgress - ModelTuning\n",
      "InProgress - ModelTuning\n",
      "InProgress - ModelTuning\n",
      "InProgress - ModelTuning\n",
      "InProgress - ModelTuning\n",
      "InProgress - MergingAutoMLTaskReports\n",
      "InProgress - MergingAutoMLTaskReports\n",
      "InProgress - MergingAutoMLTaskReports\n",
      "InProgress - MergingAutoMLTaskReports\n",
      "InProgress - MergingAutoMLTaskReports\n",
      "InProgress - MergingAutoMLTaskReports\n",
      "InProgress - MergingAutoMLTaskReports\n",
      "InProgress - MergingAutoMLTaskReports\n",
      "InProgress - MergingAutoMLTaskReports\n",
      "InProgress - MergingAutoMLTaskReports\n",
      "InProgress - MergingAutoMLTaskReports\n",
      "InProgress - MergingAutoMLTaskReports\n",
      "InProgress - MergingAutoMLTaskReports\n",
      "InProgress - MergingAutoMLTaskReports\n",
      "InProgress - MergingAutoMLTaskReports\n",
      "InProgress - MergingAutoMLTaskReports\n",
      "InProgress - MergingAutoMLTaskReports\n",
      "InProgress - MergingAutoMLTaskReports\n",
      "InProgress - MergingAutoMLTaskReports\n",
      "InProgress - MergingAutoMLTaskReports\n",
      "InProgress - MergingAutoMLTaskReports\n",
      "InProgress - MergingAutoMLTaskReports\n",
      "InProgress - MergingAutoMLTaskReports\n",
      "InProgress - MergingAutoMLTaskReports\n",
      "InProgress - MergingAutoMLTaskReports\n",
      "InProgress - MergingAutoMLTaskReports\n",
      "InProgress - MergingAutoMLTaskReports\n",
      "InProgress - MergingAutoMLTaskReports\n",
      "InProgress - MergingAutoMLTaskReports\n",
      "InProgress - MergingAutoMLTaskReports\n",
      "InProgress - MergingAutoMLTaskReports\n",
      "InProgress - MergingAutoMLTaskReports\n",
      "InProgress - MergingAutoMLTaskReports\n",
      "InProgress - MergingAutoMLTaskReports\n",
      "InProgress - MergingAutoMLTaskReports\n",
      "InProgress - MergingAutoMLTaskReports\n",
      "InProgress - MergingAutoMLTaskReports\n",
      "InProgress - MergingAutoMLTaskReports\n",
      "InProgress - MergingAutoMLTaskReports\n",
      "InProgress - MergingAutoMLTaskReports\n",
      "InProgress - MergingAutoMLTaskReports\n",
      "InProgress - MergingAutoMLTaskReports\n",
      "InProgress - MergingAutoMLTaskReports\n",
      "InProgress - MergingAutoMLTaskReports\n",
      "InProgress - MergingAutoMLTaskReports\n",
      "InProgress - MergingAutoMLTaskReports\n",
      "Completed - Completed\n",
      "CPU times: user 812 ms, sys: 96.8 ms, total: 909 ms\n",
      "Wall time: 34min 15s\n"
     ]
    }
   ],
   "source": [
    "%%time\n",
    "\n",
    "print(\"DSA - Projeto 6 - JobStatus\")  \n",
    "print(\"------------------------------\")  \n",
    "\n",
    "# Recupera e imprime o status atual do job AutoML\n",
    "describe_response = sm.describe_auto_ml_job(AutoMLJobName = auto_ml_job_name)\n",
    "\n",
    "# Imprime o status do job e o status secundário\n",
    "print(describe_response[\"AutoMLJobStatus\"] + \" - \" + describe_response[\"AutoMLJobSecondaryStatus\"])  \n",
    "job_run_status = describe_response[\"AutoMLJobStatus\"] \n",
    "\n",
    "# Loop para monitorar o status do job até que seja \"Falha\", \"Concluído\" ou \"Interrompido\"\n",
    "while job_run_status not in (\"Failed\", \"Completed\", \"Stopped\"):\n",
    "    \n",
    "    # Recupera o status mais recente do job AutoML\n",
    "    describe_response = sm.describe_auto_ml_job(AutoMLJobName = auto_ml_job_name)\n",
    "    \n",
    "    # Atualiza o status atual do job\n",
    "    job_run_status = describe_response[\"AutoMLJobStatus\"]\n",
    "    \n",
    "    # Imprime o status do job atualizado e o status secundário\n",
    "    print(describe_response[\"AutoMLJobStatus\"] + \" - \" + describe_response[\"AutoMLJobSecondaryStatus\"])\n",
    "    \n",
    "    # Pausa o loop por 10 segundos antes de verificar o status novamente\n",
    "    sleep(10)"
   ]
  },
  {
   "cell_type": "markdown",
   "id": "528a56ba",
   "metadata": {},
   "source": [
    "## Visualizando os Jupyter Notebooks Gerados Pelo SageMaker AutoPilot"
   ]
  },
  {
   "cell_type": "code",
   "execution_count": 24,
   "id": "c1e3c222",
   "metadata": {},
   "outputs": [
    {
     "name": "stdout",
     "output_type": "stream",
     "text": [
      "{'AutoMLJobName': 'automl-churn-20-22-37-59', 'AutoMLJobArn': 'arn:aws:sagemaker:us-east-2:890582101704:automl-job/automl-churn-20-22-37-59', 'InputDataConfig': [{'DataSource': {'S3DataSource': {'S3DataType': 'S3Prefix', 'S3Uri': 's3://sagemaker-us-east-2-890582101704/sagemaker/dsap6-automl-churn/train'}}, 'TargetAttributeName': 'Churn?', 'ContentType': 'text/csv;header=present', 'ChannelType': 'training'}], 'OutputDataConfig': {'S3OutputPath': 's3://sagemaker-us-east-2-890582101704/sagemaker/dsap6-automl-churn/output'}, 'RoleArn': 'arn:aws:iam::890582101704:role/service-role/AmazonSageMaker-ExecutionRole-20240523T163775', 'AutoMLJobConfig': {'CompletionCriteria': {'MaxCandidates': 20}}, 'CreationTime': datetime.datetime(2024, 12, 20, 22, 37, 59, 304000, tzinfo=tzlocal()), 'EndTime': datetime.datetime(2024, 12, 20, 23, 12, 4, 463000, tzinfo=tzlocal()), 'LastModifiedTime': datetime.datetime(2024, 12, 20, 23, 12, 4, 496000, tzinfo=tzlocal()), 'BestCandidate': {'CandidateName': 'automl-churn-20-22-37-59CZ7mQMmb-013-9bd940f1', 'FinalAutoMLJobObjectiveMetric': {'MetricName': 'validation:f1_binary', 'Value': 0.9273099899291992, 'StandardMetricName': 'F1'}, 'ObjectiveStatus': 'Succeeded', 'CandidateSteps': [{'CandidateStepType': 'AWS::SageMaker::ProcessingJob', 'CandidateStepArn': 'arn:aws:sagemaker:us-east-2:890582101704:processing-job/automl-churn-20-22-37-59-db-1-cdbf2d3324134e5f8997e6777a6fb8c74', 'CandidateStepName': 'automl-churn-20-22-37-59-db-1-cdbf2d3324134e5f8997e6777a6fb8c74'}, {'CandidateStepType': 'AWS::SageMaker::TrainingJob', 'CandidateStepArn': 'arn:aws:sagemaker:us-east-2:890582101704:training-job/automl-churn-20-22-37-59-dpp5-1-15ebd079d93d45409b3400082bac108', 'CandidateStepName': 'automl-churn-20-22-37-59-dpp5-1-15ebd079d93d45409b3400082bac108'}, {'CandidateStepType': 'AWS::SageMaker::TransformJob', 'CandidateStepArn': 'arn:aws:sagemaker:us-east-2:890582101704:transform-job/automl-churn-20-22-37-59-dpp5-rpb-1-165a4ca0b59f444c822226e6157', 'CandidateStepName': 'automl-churn-20-22-37-59-dpp5-rpb-1-165a4ca0b59f444c822226e6157'}, {'CandidateStepType': 'AWS::SageMaker::TrainingJob', 'CandidateStepArn': 'arn:aws:sagemaker:us-east-2:890582101704:training-job/automl-churn-20-22-37-59CZ7mQMmb-013-9bd940f1', 'CandidateStepName': 'automl-churn-20-22-37-59CZ7mQMmb-013-9bd940f1'}], 'CandidateStatus': 'Completed', 'InferenceContainers': [{'Image': '257758044811.dkr.ecr.us-east-2.amazonaws.com/sagemaker-sklearn-automl:2.5-1-cpu-py3', 'ModelDataUrl': 's3://sagemaker-us-east-2-890582101704/sagemaker/dsap6-automl-churn/output/automl-churn-20-22-37-59/data-processor-models/automl-churn-20-22-37-59-dpp5-1-15ebd079d93d45409b3400082bac108/output/model.tar.gz', 'Environment': {'AUTOML_SPARSE_ENCODE_RECORDIO_PROTOBUF': '1', 'AUTOML_TRANSFORM_MODE': 'feature-transform', 'SAGEMAKER_DEFAULT_INVOCATIONS_ACCEPT': 'application/x-recordio-protobuf', 'SAGEMAKER_PROGRAM': 'sagemaker_serve', 'SAGEMAKER_SUBMIT_DIRECTORY': '/opt/ml/model/code'}}, {'Image': '257758044811.dkr.ecr.us-east-2.amazonaws.com/sagemaker-xgboost:1.3-1-cpu-py3', 'ModelDataUrl': 's3://sagemaker-us-east-2-890582101704/sagemaker/dsap6-automl-churn/output/automl-churn-20-22-37-59/tuning/automl-chu-dpp5-xgb/automl-churn-20-22-37-59CZ7mQMmb-013-9bd940f1/output/model.tar.gz', 'Environment': {'MAX_CONTENT_LENGTH': '20971520', 'SAGEMAKER_DEFAULT_INVOCATIONS_ACCEPT': 'text/csv', 'SAGEMAKER_INFERENCE_OUTPUT': 'predicted_label', 'SAGEMAKER_INFERENCE_SUPPORTED': 'predicted_label,probability,probabilities'}}, {'Image': '257758044811.dkr.ecr.us-east-2.amazonaws.com/sagemaker-sklearn-automl:2.5-1-cpu-py3', 'ModelDataUrl': 's3://sagemaker-us-east-2-890582101704/sagemaker/dsap6-automl-churn/output/automl-churn-20-22-37-59/data-processor-models/automl-churn-20-22-37-59-dpp5-1-15ebd079d93d45409b3400082bac108/output/model.tar.gz', 'Environment': {'AUTOML_TRANSFORM_MODE': 'inverse-label-transform', 'SAGEMAKER_DEFAULT_INVOCATIONS_ACCEPT': 'text/csv', 'SAGEMAKER_INFERENCE_INPUT': 'predicted_label', 'SAGEMAKER_INFERENCE_OUTPUT': 'predicted_label', 'SAGEMAKER_INFERENCE_SUPPORTED': 'predicted_label,probability,labels,probabilities', 'SAGEMAKER_PROGRAM': 'sagemaker_serve', 'SAGEMAKER_SUBMIT_DIRECTORY': '/opt/ml/model/code'}}], 'CreationTime': datetime.datetime(2024, 12, 20, 22, 55, 17, tzinfo=tzlocal()), 'EndTime': datetime.datetime(2024, 12, 20, 22, 57, 36, tzinfo=tzlocal()), 'LastModifiedTime': datetime.datetime(2024, 12, 20, 23, 4, 11, 597000, tzinfo=tzlocal()), 'CandidateProperties': {'CandidateArtifactLocations': {'Explainability': 's3://sagemaker-us-east-2-890582101704/sagemaker/dsap6-automl-churn/output/automl-churn-20-22-37-59/documentation/explainability/output', 'ModelInsights': 's3://sagemaker-us-east-2-890582101704/sagemaker/dsap6-automl-churn/output/automl-churn-20-22-37-59/documentation/model_monitor/output'}, 'CandidateMetrics': [{'MetricName': 'F1', 'Value': 0.9273099899291992, 'Set': 'Validation', 'StandardMetricName': 'F1'}, {'MetricName': 'LogLoss', 'Value': 0.2081499993801117, 'Set': 'Validation', 'StandardMetricName': 'LogLoss'}, {'MetricName': 'Recall', 'Value': 0.9378600120544434, 'Set': 'Validation', 'StandardMetricName': 'Recall'}, {'MetricName': 'Precision', 'Value': 0.9174000024795532, 'Set': 'Validation', 'StandardMetricName': 'Precision'}, {'MetricName': 'AUC', 'Value': 0.9778299927711487, 'Set': 'Validation', 'StandardMetricName': 'AUC'}, {'MetricName': 'Accuracy', 'Value': 0.9267500042915344, 'Set': 'Validation', 'StandardMetricName': 'Accuracy'}, {'MetricName': 'BalancedAccuracy', 'Value': 0.9267600178718567, 'Set': 'Validation', 'StandardMetricName': 'BalancedAccuracy'}]}}, 'AutoMLJobStatus': 'Completed', 'AutoMLJobSecondaryStatus': 'Completed', 'GenerateCandidateDefinitionsOnly': False, 'AutoMLJobArtifacts': {'CandidateDefinitionNotebookLocation': 's3://sagemaker-us-east-2-890582101704/sagemaker/dsap6-automl-churn/output/automl-churn-20-22-37-59/sagemaker-automl-candidates/automl-churn-20-22-37-59-pr-1-43a456ef226c46e2897cf0bcb4ef0e4f0/notebooks/SageMakerAutopilotCandidateDefinitionNotebook.ipynb', 'DataExplorationNotebookLocation': 's3://sagemaker-us-east-2-890582101704/sagemaker/dsap6-automl-churn/output/automl-churn-20-22-37-59/sagemaker-automl-candidates/automl-churn-20-22-37-59-pr-1-43a456ef226c46e2897cf0bcb4ef0e4f0/notebooks/SageMakerAutopilotDataExplorationNotebook.ipynb'}, 'ResolvedAttributes': {'AutoMLJobObjective': {'MetricName': 'F1'}, 'ProblemType': 'BinaryClassification', 'CompletionCriteria': {'MaxCandidates': 20, 'MaxRuntimePerTrainingJobInSeconds': 86400, 'MaxAutoMLJobRuntimeInSeconds': 2592000}}, 'ResponseMetadata': {'RequestId': '5f684fec-8f36-4816-9ddc-61c9c1b727fa', 'HTTPStatusCode': 200, 'HTTPHeaders': {'x-amzn-requestid': '5f684fec-8f36-4816-9ddc-61c9c1b727fa', 'content-type': 'application/x-amz-json-1.1', 'content-length': '6127', 'date': 'Fri, 20 Dec 2024 23:12:04 GMT'}, 'RetryAttempts': 0}}\n"
     ]
    }
   ],
   "source": [
    "print(describe_response)"
   ]
  },
  {
   "cell_type": "code",
   "execution_count": 25,
   "id": "5a727029",
   "metadata": {},
   "outputs": [
    {
     "name": "stdout",
     "output_type": "stream",
     "text": [
      "s3://sagemaker-us-east-2-890582101704/sagemaker/dsap6-automl-churn/output/automl-churn-20-22-37-59/sagemaker-automl-candidates/automl-churn-20-22-37-59-pr-1-43a456ef226c46e2897cf0bcb4ef0e4f0/notebooks/SageMakerAutopilotCandidateDefinitionNotebook.ipynb\n",
      "s3://sagemaker-us-east-2-890582101704/sagemaker/dsap6-automl-churn/output/automl-churn-20-22-37-59/sagemaker-automl-candidates/automl-churn-20-22-37-59-pr-1-43a456ef226c46e2897cf0bcb4ef0e4f0/notebooks/SageMakerAutopilotDataExplorationNotebook.ipynb\n"
     ]
    }
   ],
   "source": [
    "print(describe_response[\"AutoMLJobArtifacts\"][\"CandidateDefinitionNotebookLocation\"])\n",
    "print(describe_response[\"AutoMLJobArtifacts\"][\"DataExplorationNotebookLocation\"])"
   ]
  },
  {
   "cell_type": "code",
   "execution_count": 26,
   "id": "c0751c65",
   "metadata": {},
   "outputs": [],
   "source": [
    "candidate_nbk = describe_response[\"AutoMLJobArtifacts\"][\"CandidateDefinitionNotebookLocation\"]\n",
    "data_explore_nbk = describe_response[\"AutoMLJobArtifacts\"][\"DataExplorationNotebookLocation\"]"
   ]
  },
  {
   "cell_type": "code",
   "execution_count": 27,
   "id": "fb33ead5",
   "metadata": {},
   "outputs": [],
   "source": [
    "# Define uma função para dividir o caminho do S3 em bucket e chave\n",
    "def split_s3_path(s3_path):\n",
    "    \n",
    "    # Remove o prefixo \"s3://\" e divide o restante do caminho por \"/\"\n",
    "    path_parts = s3_path.replace(\"s3://\", \"\").split(\"/\")\n",
    "    \n",
    "    # Extrai o nome do bucket (primeira parte do caminho)\n",
    "    bucket = path_parts.pop(0)\n",
    "    \n",
    "    # Junta o restante do caminho para formar a chave (key)\n",
    "    key = \"/\".join(path_parts)\n",
    "    \n",
    "    # Retorna o bucket e a chave como uma tupla\n",
    "    return bucket, key"
   ]
  },
  {
   "cell_type": "code",
   "execution_count": 28,
   "id": "f0c6c713",
   "metadata": {},
   "outputs": [],
   "source": [
    "# Aplica a função\n",
    "s3_bucket, candidate_nbk_key = split_s3_path(candidate_nbk)"
   ]
  },
  {
   "cell_type": "code",
   "execution_count": 29,
   "id": "541846b0",
   "metadata": {},
   "outputs": [],
   "source": [
    "# Aplica a função\n",
    "_, data_explore_nbk_key = split_s3_path(data_explore_nbk)"
   ]
  },
  {
   "cell_type": "code",
   "execution_count": 30,
   "id": "4bc585a4",
   "metadata": {},
   "outputs": [
    {
     "name": "stdout",
     "output_type": "stream",
     "text": [
      "sagemaker-us-east-2-890582101704 sagemaker/dsap6-automl-churn/output/automl-churn-20-22-37-59/sagemaker-automl-candidates/automl-churn-20-22-37-59-pr-1-43a456ef226c46e2897cf0bcb4ef0e4f0/notebooks/SageMakerAutopilotCandidateDefinitionNotebook.ipynb sagemaker/dsap6-automl-churn/output/automl-churn-20-22-37-59/sagemaker-automl-candidates/automl-churn-20-22-37-59-pr-1-43a456ef226c46e2897cf0bcb4ef0e4f0/notebooks/SageMakerAutopilotDataExplorationNotebook.ipynb\n"
     ]
    }
   ],
   "source": [
    "print(s3_bucket, candidate_nbk_key, data_explore_nbk_key)"
   ]
  },
  {
   "cell_type": "code",
   "execution_count": 31,
   "id": "7bc69840",
   "metadata": {},
   "outputs": [
    {
     "data": {
      "text/plain": [
       "['./SageMakerAutopilotCandidateDefinitionNotebook.ipynb']"
      ]
     },
     "execution_count": 31,
     "metadata": {},
     "output_type": "execute_result"
    }
   ],
   "source": [
    "# Download do jupyter gerado pelo SageMaker AutoPilot\n",
    "session.download_data(path = \"./\", bucket = s3_bucket, key_prefix = candidate_nbk_key)"
   ]
  },
  {
   "cell_type": "code",
   "execution_count": 32,
   "id": "b2492139",
   "metadata": {},
   "outputs": [
    {
     "data": {
      "text/plain": [
       "['./SageMakerAutopilotDataExplorationNotebook.ipynb']"
      ]
     },
     "execution_count": 32,
     "metadata": {},
     "output_type": "execute_result"
    }
   ],
   "source": [
    "# Download do jupyter gerado pelo SageMaker AutoPilot\n",
    "session.download_data(path = \"./\", bucket = s3_bucket, key_prefix = data_explore_nbk_key)"
   ]
  },
  {
   "cell_type": "markdown",
   "id": "bf0fc253",
   "metadata": {},
   "source": [
    "## Extraindo o Melhor Candidato Após a Otimização"
   ]
  },
  {
   "cell_type": "code",
   "execution_count": 33,
   "id": "ef5db9d2",
   "metadata": {},
   "outputs": [],
   "source": [
    "# Extrai o melhor candidato\n",
    "best_candidate = sm.describe_auto_ml_job(AutoMLJobName = auto_ml_job_name)[\"BestCandidate\"]"
   ]
  },
  {
   "cell_type": "code",
   "execution_count": 34,
   "id": "dccf407d-35b5-4ff7-a9bb-97727936fa70",
   "metadata": {},
   "outputs": [],
   "source": [
    "# Extrai o melhor candidato\n",
    "best_candidate_name = best_candidate[\"CandidateName\"]"
   ]
  },
  {
   "cell_type": "code",
   "execution_count": 35,
   "id": "0f2ffc81-bf8e-4fd0-959e-3a2dee3c03e0",
   "metadata": {},
   "outputs": [
    {
     "name": "stdout",
     "output_type": "stream",
     "text": [
      "{'CandidateName': 'automl-churn-20-22-37-59CZ7mQMmb-013-9bd940f1', 'FinalAutoMLJobObjectiveMetric': {'MetricName': 'validation:f1_binary', 'Value': 0.9273099899291992, 'StandardMetricName': 'F1'}, 'ObjectiveStatus': 'Succeeded', 'CandidateSteps': [{'CandidateStepType': 'AWS::SageMaker::ProcessingJob', 'CandidateStepArn': 'arn:aws:sagemaker:us-east-2:890582101704:processing-job/automl-churn-20-22-37-59-db-1-cdbf2d3324134e5f8997e6777a6fb8c74', 'CandidateStepName': 'automl-churn-20-22-37-59-db-1-cdbf2d3324134e5f8997e6777a6fb8c74'}, {'CandidateStepType': 'AWS::SageMaker::TrainingJob', 'CandidateStepArn': 'arn:aws:sagemaker:us-east-2:890582101704:training-job/automl-churn-20-22-37-59-dpp5-1-15ebd079d93d45409b3400082bac108', 'CandidateStepName': 'automl-churn-20-22-37-59-dpp5-1-15ebd079d93d45409b3400082bac108'}, {'CandidateStepType': 'AWS::SageMaker::TransformJob', 'CandidateStepArn': 'arn:aws:sagemaker:us-east-2:890582101704:transform-job/automl-churn-20-22-37-59-dpp5-rpb-1-165a4ca0b59f444c822226e6157', 'CandidateStepName': 'automl-churn-20-22-37-59-dpp5-rpb-1-165a4ca0b59f444c822226e6157'}, {'CandidateStepType': 'AWS::SageMaker::TrainingJob', 'CandidateStepArn': 'arn:aws:sagemaker:us-east-2:890582101704:training-job/automl-churn-20-22-37-59CZ7mQMmb-013-9bd940f1', 'CandidateStepName': 'automl-churn-20-22-37-59CZ7mQMmb-013-9bd940f1'}], 'CandidateStatus': 'Completed', 'InferenceContainers': [{'Image': '257758044811.dkr.ecr.us-east-2.amazonaws.com/sagemaker-sklearn-automl:2.5-1-cpu-py3', 'ModelDataUrl': 's3://sagemaker-us-east-2-890582101704/sagemaker/dsap6-automl-churn/output/automl-churn-20-22-37-59/data-processor-models/automl-churn-20-22-37-59-dpp5-1-15ebd079d93d45409b3400082bac108/output/model.tar.gz', 'Environment': {'AUTOML_SPARSE_ENCODE_RECORDIO_PROTOBUF': '1', 'AUTOML_TRANSFORM_MODE': 'feature-transform', 'SAGEMAKER_DEFAULT_INVOCATIONS_ACCEPT': 'application/x-recordio-protobuf', 'SAGEMAKER_PROGRAM': 'sagemaker_serve', 'SAGEMAKER_SUBMIT_DIRECTORY': '/opt/ml/model/code'}}, {'Image': '257758044811.dkr.ecr.us-east-2.amazonaws.com/sagemaker-xgboost:1.3-1-cpu-py3', 'ModelDataUrl': 's3://sagemaker-us-east-2-890582101704/sagemaker/dsap6-automl-churn/output/automl-churn-20-22-37-59/tuning/automl-chu-dpp5-xgb/automl-churn-20-22-37-59CZ7mQMmb-013-9bd940f1/output/model.tar.gz', 'Environment': {'MAX_CONTENT_LENGTH': '20971520', 'SAGEMAKER_DEFAULT_INVOCATIONS_ACCEPT': 'text/csv', 'SAGEMAKER_INFERENCE_OUTPUT': 'predicted_label', 'SAGEMAKER_INFERENCE_SUPPORTED': 'predicted_label,probability,probabilities'}}, {'Image': '257758044811.dkr.ecr.us-east-2.amazonaws.com/sagemaker-sklearn-automl:2.5-1-cpu-py3', 'ModelDataUrl': 's3://sagemaker-us-east-2-890582101704/sagemaker/dsap6-automl-churn/output/automl-churn-20-22-37-59/data-processor-models/automl-churn-20-22-37-59-dpp5-1-15ebd079d93d45409b3400082bac108/output/model.tar.gz', 'Environment': {'AUTOML_TRANSFORM_MODE': 'inverse-label-transform', 'SAGEMAKER_DEFAULT_INVOCATIONS_ACCEPT': 'text/csv', 'SAGEMAKER_INFERENCE_INPUT': 'predicted_label', 'SAGEMAKER_INFERENCE_OUTPUT': 'predicted_label', 'SAGEMAKER_INFERENCE_SUPPORTED': 'predicted_label,probability,labels,probabilities', 'SAGEMAKER_PROGRAM': 'sagemaker_serve', 'SAGEMAKER_SUBMIT_DIRECTORY': '/opt/ml/model/code'}}], 'CreationTime': datetime.datetime(2024, 12, 20, 22, 55, 17, tzinfo=tzlocal()), 'EndTime': datetime.datetime(2024, 12, 20, 22, 57, 36, tzinfo=tzlocal()), 'LastModifiedTime': datetime.datetime(2024, 12, 20, 23, 4, 11, 597000, tzinfo=tzlocal()), 'CandidateProperties': {'CandidateArtifactLocations': {'Explainability': 's3://sagemaker-us-east-2-890582101704/sagemaker/dsap6-automl-churn/output/automl-churn-20-22-37-59/documentation/explainability/output', 'ModelInsights': 's3://sagemaker-us-east-2-890582101704/sagemaker/dsap6-automl-churn/output/automl-churn-20-22-37-59/documentation/model_monitor/output'}, 'CandidateMetrics': [{'MetricName': 'F1', 'Value': 0.9273099899291992, 'Set': 'Validation', 'StandardMetricName': 'F1'}, {'MetricName': 'LogLoss', 'Value': 0.2081499993801117, 'Set': 'Validation', 'StandardMetricName': 'LogLoss'}, {'MetricName': 'Recall', 'Value': 0.9378600120544434, 'Set': 'Validation', 'StandardMetricName': 'Recall'}, {'MetricName': 'Precision', 'Value': 0.9174000024795532, 'Set': 'Validation', 'StandardMetricName': 'Precision'}, {'MetricName': 'AUC', 'Value': 0.9778299927711487, 'Set': 'Validation', 'StandardMetricName': 'AUC'}, {'MetricName': 'Accuracy', 'Value': 0.9267500042915344, 'Set': 'Validation', 'StandardMetricName': 'Accuracy'}, {'MetricName': 'BalancedAccuracy', 'Value': 0.9267600178718567, 'Set': 'Validation', 'StandardMetricName': 'BalancedAccuracy'}]}}\n"
     ]
    }
   ],
   "source": [
    "print(best_candidate)"
   ]
  },
  {
   "cell_type": "code",
   "execution_count": 36,
   "id": "080a7030",
   "metadata": {},
   "outputs": [
    {
     "name": "stdout",
     "output_type": "stream",
     "text": [
      "CandidateName: automl-churn-20-22-37-59CZ7mQMmb-013-9bd940f1\n"
     ]
    }
   ],
   "source": [
    "print(\"CandidateName: \" + best_candidate_name)"
   ]
  },
  {
   "cell_type": "code",
   "execution_count": 37,
   "id": "bb7854d4-3962-4ac4-8eb7-6a773c984365",
   "metadata": {},
   "outputs": [
    {
     "name": "stdout",
     "output_type": "stream",
     "text": [
      "FinalAutoMLJobObjectiveMetricName: validation:f1_binary\n"
     ]
    }
   ],
   "source": [
    "print(\"FinalAutoMLJobObjectiveMetricName: \" + best_candidate[\"FinalAutoMLJobObjectiveMetric\"][\"MetricName\"])"
   ]
  },
  {
   "cell_type": "code",
   "execution_count": 38,
   "id": "d9aef498",
   "metadata": {},
   "outputs": [
    {
     "name": "stdout",
     "output_type": "stream",
     "text": [
      "FinalAutoMLJobObjectiveMetricValue: 0.9273099899291992\n"
     ]
    }
   ],
   "source": [
    "print(\"FinalAutoMLJobObjectiveMetricValue: \" + str(best_candidate[\"FinalAutoMLJobObjectiveMetric\"][\"Value\"]))"
   ]
  },
  {
   "cell_type": "code",
   "execution_count": 39,
   "id": "a18abe4e",
   "metadata": {},
   "outputs": [],
   "source": [
    "sm_dict = sm.list_candidates_for_auto_ml_job(AutoMLJobName = auto_ml_job_name)"
   ]
  },
  {
   "cell_type": "code",
   "execution_count": 40,
   "id": "3c2d7b46",
   "metadata": {},
   "outputs": [
    {
     "name": "stdout",
     "output_type": "stream",
     "text": [
      "automl-churn-20-22-37-59CZ7mQMmb-020-d81bcba7 {'MetricName': 'validation:f1_binary', 'Value': 0.9235799908638, 'StandardMetricName': 'F1'}\n",
      "257758044811.dkr.ecr.us-east-2.amazonaws.com/sagemaker-xgboost:1.3-1-cpu-py3 \n",
      "\n",
      "automl-churn-20-22-37-59CZ7mQMmb-019-2545cbd9 {'MetricName': 'validation:f1_binary', 'Value': 0.9121699929237366, 'StandardMetricName': 'F1'}\n",
      "257758044811.dkr.ecr.us-east-2.amazonaws.com/sagemaker-xgboost:1.3-1-cpu-py3 \n",
      "\n",
      "automl-churn-20-22-37-59CZ7mQMmb-018-125ec6b3 {'MetricName': 'validation:f1_binary', 'Value': 0.8678600192070007, 'StandardMetricName': 'F1'}\n",
      "257758044811.dkr.ecr.us-east-2.amazonaws.com/sagemaker-xgboost:1.3-1-cpu-py3 \n",
      "\n",
      "automl-churn-20-22-37-59CZ7mQMmb-017-39f78e00 {'MetricName': 'validation:f1_binary', 'Value': 0.9067299962043762, 'StandardMetricName': 'F1'}\n",
      "257758044811.dkr.ecr.us-east-2.amazonaws.com/sagemaker-xgboost:1.3-1-cpu-py3 \n",
      "\n",
      "automl-churn-20-22-37-59CZ7mQMmb-016-5cc6043e {'MetricName': 'validation:f1_binary', 'Value': 0.922469973564148, 'StandardMetricName': 'F1'}\n",
      "257758044811.dkr.ecr.us-east-2.amazonaws.com/sagemaker-xgboost:1.3-1-cpu-py3 \n",
      "\n",
      "automl-churn-20-22-37-59CZ7mQMmb-015-15e9c0e7 {'MetricName': 'validation:f1_binary', 'Value': 0.8895999789237976, 'StandardMetricName': 'F1'}\n",
      "257758044811.dkr.ecr.us-east-2.amazonaws.com/sagemaker-xgboost:1.3-1-cpu-py3 \n",
      "\n",
      "automl-churn-20-22-37-59CZ7mQMmb-014-ee5d38b7 {'MetricName': 'validation:f1_binary', 'Value': 0.8409199714660645, 'StandardMetricName': 'F1'}\n",
      "257758044811.dkr.ecr.us-east-2.amazonaws.com/sagemaker-xgboost:1.3-1-cpu-py3 \n",
      "\n",
      "automl-churn-20-22-37-59CZ7mQMmb-013-9bd940f1 {'MetricName': 'validation:f1_binary', 'Value': 0.9273099899291992, 'StandardMetricName': 'F1'}\n",
      "257758044811.dkr.ecr.us-east-2.amazonaws.com/sagemaker-xgboost:1.3-1-cpu-py3 \n",
      "\n",
      "automl-churn-20-22-37-59CZ7mQMmb-012-4bb1d5ff {'MetricName': 'validation:binary_f_beta', 'Value': 0.8855443000793457, 'StandardMetricName': 'F1'}\n",
      "404615174143.dkr.ecr.us-east-2.amazonaws.com/mxnet-algorithms:inference-cpu \n",
      "\n",
      "automl-churn-20-22-37-59CZ7mQMmb-011-16b5b8f0 {'MetricName': 'validation:f1_binary', 'Value': 0.9104099869728088, 'StandardMetricName': 'F1'}\n",
      "257758044811.dkr.ecr.us-east-2.amazonaws.com/sagemaker-xgboost:1.3-1-cpu-py3 \n",
      "\n"
     ]
    }
   ],
   "source": [
    "# Itera sobre os candidatos no dicionário \"Candidates\" em sm_dict\n",
    "for item in sm_dict[\"Candidates\"]:\n",
    "    \n",
    "    # Imprime o nome do candidato e a métrica final do objetivo do AutoML\n",
    "    print(item[\"CandidateName\"], item[\"FinalAutoMLJobObjectiveMetric\"])\n",
    "    \n",
    "    # Imprime a imagem do segundo contêiner de inferência, seguido por uma linha em branco\n",
    "    print(item[\"InferenceContainers\"][1][\"Image\"], \"\\n\")"
   ]
  },
  {
   "cell_type": "markdown",
   "id": "4deb7072",
   "metadata": {},
   "source": [
    "## Criando a Versão Final do Modelo Após Otimização"
   ]
  },
  {
   "cell_type": "code",
   "execution_count": 41,
   "id": "a057256f",
   "metadata": {},
   "outputs": [],
   "source": [
    "# Sufixo\n",
    "timestamp_suffix = strftime(\"%d-%H-%M-%S\", gmtime())"
   ]
  },
  {
   "cell_type": "code",
   "execution_count": 42,
   "id": "1485b424",
   "metadata": {},
   "outputs": [],
   "source": [
    "# Gera o modelo com o melhor candidato\n",
    "model_name = best_candidate_name + timestamp_suffix + \"-model\""
   ]
  },
  {
   "cell_type": "code",
   "execution_count": 43,
   "id": "b74b0066",
   "metadata": {},
   "outputs": [],
   "source": [
    "# Cria o modelo\n",
    "model_arn = sm.create_model(Containers = best_candidate[\"InferenceContainers\"], \n",
    "                            ModelName = model_name, \n",
    "                            ExecutionRoleArn = role)"
   ]
  },
  {
   "cell_type": "markdown",
   "id": "ab61c4c4",
   "metadata": {},
   "source": [
    "## Preparando a Configuração do Endpoint"
   ]
  },
  {
   "cell_type": "code",
   "execution_count": 44,
   "id": "f8359129",
   "metadata": {},
   "outputs": [],
   "source": [
    "# Gera o nome da config do endpoint para o melhor modelo\n",
    "epc_name = best_candidate_name + timestamp_suffix + \"-epc\""
   ]
  },
  {
   "cell_type": "code",
   "execution_count": 45,
   "id": "315abc9e",
   "metadata": {},
   "outputs": [],
   "source": [
    "# Cria a config do endpoint para o melhor modelo\n",
    "ep_config = sm.create_endpoint_config(EndpointConfigName = epc_name,\n",
    "                                      ProductionVariants = [{\"InstanceType\": \"ml.m5.2xlarge\",\n",
    "                                                             \"InitialInstanceCount\": 1,\n",
    "                                                             \"ModelName\": model_name,\n",
    "                                                             \"VariantName\": \"main\"}])"
   ]
  },
  {
   "cell_type": "code",
   "execution_count": 46,
   "id": "befb687b",
   "metadata": {},
   "outputs": [],
   "source": [
    "# Gera o nome do endpoint para o melhor modelo\n",
    "ep_name = best_candidate_name + timestamp_suffix + \"-ep\""
   ]
  },
  {
   "cell_type": "code",
   "execution_count": 47,
   "id": "f8fcce63",
   "metadata": {},
   "outputs": [],
   "source": [
    "# Cria o endpoint para o melhor modelo\n",
    "create_endpoint_response = sm.create_endpoint(EndpointName = ep_name, EndpointConfigName = epc_name)"
   ]
  },
  {
   "cell_type": "code",
   "execution_count": 48,
   "id": "af7cf866",
   "metadata": {},
   "outputs": [
    {
     "name": "stdout",
     "output_type": "stream",
     "text": [
      "CPU times: user 44.2 ms, sys: 16 ms, total: 60.2 ms\n",
      "Wall time: 3min 30s\n"
     ]
    }
   ],
   "source": [
    "%%time\n",
    "\n",
    "# Esse comando pausa a execução do código até que o endpoint especificado por ep_name \n",
    "# esteja em estado \"InService\", ou seja, pronto para uso. \n",
    "sm.get_waiter(\"endpoint_in_service\").wait(EndpointName = ep_name)"
   ]
  },
  {
   "cell_type": "markdown",
   "id": "c62dd4a7",
   "metadata": {},
   "source": [
    "## Criando o Preditor Para Inferência"
   ]
  },
  {
   "cell_type": "code",
   "execution_count": 49,
   "id": "29b7b6eb-1cc0-42ef-aa5f-15912ea09222",
   "metadata": {},
   "outputs": [],
   "source": [
    "# Cria o preditor\n",
    "predictor = Predictor(endpoint_name = ep_name,\n",
    "                      sagemaker_session = session,\n",
    "                      serializer = CSVSerializer(),\n",
    "                      deserializer = CSVDeserializer())"
   ]
  },
  {
   "cell_type": "code",
   "execution_count": 50,
   "id": "4a4cc00b-e5df-4410-b2a2-b811a00ca7f3",
   "metadata": {},
   "outputs": [],
   "source": [
    "# Remova a coluna de destino dos dados de teste\n",
    "test_data_inference = dsa_dados_teste.drop(\"Churn?\", axis = 1)"
   ]
  },
  {
   "cell_type": "code",
   "execution_count": 51,
   "id": "56ab99cd-57fa-4e57-825d-619a0c15b542",
   "metadata": {},
   "outputs": [],
   "source": [
    "# Obter previsões do endpoint do SageMaker\n",
    "prediction = predictor.predict(test_data_inference.to_csv(sep = \",\", header = False, index = False))"
   ]
  },
  {
   "cell_type": "markdown",
   "id": "9ca5eaa8",
   "metadata": {},
   "source": [
    "## Avaliando as Métricas"
   ]
  },
  {
   "cell_type": "code",
   "execution_count": 52,
   "id": "3d69e9bf-33a3-4edf-88fd-47ef414aaf88",
   "metadata": {},
   "outputs": [],
   "source": [
    "# Carrega a previsão no Pandas e compare com o valor real\n",
    "prediction_df = pd.DataFrame(prediction)\n",
    "accuracy = (dsa_dados_teste.reset_index()[\"Churn?\"] == prediction_df[0]).sum() / len(test_data_inference)"
   ]
  },
  {
   "cell_type": "code",
   "execution_count": 53,
   "id": "897b9cbd",
   "metadata": {},
   "outputs": [
    {
     "name": "stdout",
     "output_type": "stream",
     "text": [
      "Acurácia: 0.932\n"
     ]
    }
   ],
   "source": [
    "print(\"Acurácia: {}\".format(accuracy))"
   ]
  },
  {
   "cell_type": "code",
   "execution_count": 54,
   "id": "e2760b16",
   "metadata": {},
   "outputs": [],
   "source": [
    "# Calcula acurácia usando a função do Scikit-learn\n",
    "accuracy = accuracy_score(dsa_dados_teste.reset_index()[\"Churn?\"], prediction_df[0])"
   ]
  },
  {
   "cell_type": "code",
   "execution_count": 55,
   "id": "9e229614",
   "metadata": {},
   "outputs": [],
   "source": [
    "# Calcula precision usando a função do Scikit-learn\n",
    "precision = precision_score(dsa_dados_teste.reset_index()[\"Churn?\"], prediction_df[0], pos_label = \"True.\")"
   ]
  },
  {
   "cell_type": "code",
   "execution_count": 56,
   "id": "40bb76af",
   "metadata": {},
   "outputs": [],
   "source": [
    "# Calcula recall usando a função do Scikit-learn\n",
    "recall = recall_score(dsa_dados_teste.reset_index()[\"Churn?\"], \n",
    "                      prediction_df[0], \n",
    "                      pos_label = \"True.\", \n",
    "                      average = \"binary\")"
   ]
  },
  {
   "cell_type": "code",
   "execution_count": 57,
   "id": "7b0264c3",
   "metadata": {},
   "outputs": [],
   "source": [
    "# Calcula f1 score usando a função do Scikit-learn\n",
    "f1 = f1_score(dsa_dados_teste.reset_index()[\"Churn?\"], prediction_df[0], pos_label = \"True.\")"
   ]
  },
  {
   "cell_type": "code",
   "execution_count": 58,
   "id": "7e9fbc55",
   "metadata": {},
   "outputs": [
    {
     "name": "stdout",
     "output_type": "stream",
     "text": [
      "Acurácia: 0.932\n",
      "Precision: 0.9205426356589147\n",
      "Recall: 0.9462151394422311\n",
      "F1-Score: 0.9332023575638507\n"
     ]
    }
   ],
   "source": [
    "print(\"Acurácia: {}\".format(accuracy))\n",
    "print(\"Precision: {}\".format(precision))\n",
    "print(\"Recall: {}\".format(recall))\n",
    "print(\"F1-Score: {}\".format(f1))"
   ]
  },
  {
   "cell_type": "markdown",
   "id": "dd89fce5-ee97-4560-af65-076833c9f163",
   "metadata": {},
   "source": [
    "# Fim"
   ]
  }
 ],
 "metadata": {
  "kernelspec": {
   "display_name": "Python 3 (ipykernel)",
   "language": "python",
   "name": "python3"
  },
  "language_info": {
   "codemirror_mode": {
    "name": "ipython",
    "version": 3
   },
   "file_extension": ".py",
   "mimetype": "text/x-python",
   "name": "python",
   "nbconvert_exporter": "python",
   "pygments_lexer": "ipython3",
   "version": "3.11.11"
  }
 },
 "nbformat": 4,
 "nbformat_minor": 5
}
