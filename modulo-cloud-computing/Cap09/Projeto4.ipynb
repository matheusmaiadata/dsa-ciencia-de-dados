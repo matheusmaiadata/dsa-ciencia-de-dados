{
 "cells": [
  {
   "cell_type": "markdown",
   "metadata": {},
   "source": [
    "<!-- Projeto Desenvolvido na Data Science Academy - www.datascienceacademy.com.br -->\n",
    "# <font color='blue'>Data Science Academy</font>\n",
    "## <font color='blue'>Cloud Computing Data Science</font>\n",
    "## <font color='blue'>Projeto 4</font>\n",
    "### <font color='blue'>Construção de Feature Store com SageMaker e Apache Iceberg</font>"
   ]
  },
  {
   "cell_type": "code",
   "execution_count": 1,
   "metadata": {},
   "outputs": [
    {
     "name": "stdout",
     "output_type": "stream",
     "text": [
      "sagemaker.config INFO - Not applying SDK defaults from location: /etc/xdg/sagemaker/config.yaml\n",
      "sagemaker.config INFO - Not applying SDK defaults from location: /home/sagemaker-user/.config/sagemaker/config.yaml\n"
     ]
    }
   ],
   "source": [
    "# Imports\n",
    "import sys\n",
    "import time\n",
    "import boto3\n",
    "import subprocess\n",
    "import sagemaker\n",
    "import importlib\n",
    "import logging\n",
    "import pandas as pd\n",
    "import numpy as np\n",
    "from time import gmtime, strftime, sleep\n",
    "from random import randint\n",
    "from sagemaker.feature_store.feature_group import FeatureGroup\n",
    "from sagemaker.feature_store.inputs import TableFormatEnum"
   ]
  },
  {
   "cell_type": "code",
   "execution_count": 2,
   "metadata": {},
   "outputs": [],
   "source": [
    "# Extraindo a versão do pacote sagemaker\n",
    "sm_version = sagemaker.__version__"
   ]
  },
  {
   "cell_type": "code",
   "execution_count": 3,
   "metadata": {},
   "outputs": [
    {
     "name": "stdout",
     "output_type": "stream",
     "text": [
      "2.227.0\n"
     ]
    }
   ],
   "source": [
    "print(sm_version)"
   ]
  },
  {
   "cell_type": "markdown",
   "metadata": {},
   "source": []
  },
  {
   "cell_type": "code",
   "execution_count": 4,
   "metadata": {},
   "outputs": [],
   "source": [
    "# Extraindo os releases e pacthes\n",
    "major, minor, patch = sm_version.split('.')"
   ]
  },
  {
   "cell_type": "code",
   "execution_count": 5,
   "metadata": {},
   "outputs": [],
   "source": [
    "# Verifica a condição e instala a versão mínima do sagemaker (se necessário)\n",
    "if int(major) < 2 or int(minor) < 125:\n",
    "    subprocess.check_call([sys.executable, '-m', 'pip', 'install', 'sagemaker==2.125.0'])\n",
    "    importlib.reload(sagemaker)"
   ]
  },
  {
   "cell_type": "code",
   "execution_count": 6,
   "metadata": {},
   "outputs": [],
   "source": [
    "# Configura um logger em Python para facilitar o registro de mensagens de log \n",
    "# em diferentes níveis (como DEBUG, INFO, WARNING, ERROR, e CRITICAL)\n",
    "logger = logging.getLogger('__name__')\n",
    "logger.setLevel(logging.DEBUG)\n",
    "logger.addHandler(logging.StreamHandler())"
   ]
  },
  {
   "cell_type": "code",
   "execution_count": 7,
   "metadata": {},
   "outputs": [
    {
     "name": "stderr",
     "output_type": "stream",
     "text": [
      "Versão do SageMaker: 2.227.0\n",
      "Versão do Pandas: 2.2.3\n",
      "Versão do Numpy: 1.26.4\n",
      "Versão do Boto3: 1.34.162\n"
     ]
    }
   ],
   "source": [
    "# Versões dos pacotes principais\n",
    "logger.info(f'Versão do SageMaker: {sagemaker.__version__}')\n",
    "logger.info(f'Versão do Pandas: {pd.__version__}')\n",
    "logger.info(f'Versão do Numpy: {np.__version__}')\n",
    "logger.info(f'Versão do Boto3: {boto3.__version__}')"
   ]
  },
  {
   "cell_type": "markdown",
   "metadata": {},
   "source": [
    "## Sessão SageMaker e Definição da Infraestrutura"
   ]
  },
  {
   "cell_type": "code",
   "execution_count": 8,
   "metadata": {},
   "outputs": [],
   "source": [
    "# Define a sessão\n",
    "sagemaker_session = sagemaker.Session()"
   ]
  },
  {
   "cell_type": "code",
   "execution_count": 9,
   "metadata": {},
   "outputs": [],
   "source": [
    "# Captura a role com o privilégio de execução do SageMaker\n",
    "role = sagemaker.get_execution_role()"
   ]
  },
  {
   "cell_type": "code",
   "execution_count": 10,
   "metadata": {},
   "outputs": [
    {
     "name": "stdout",
     "output_type": "stream",
     "text": [
      "arn:aws:iam::890582101704:role/service-role/AmazonSageMaker-ExecutionRole-20240523T163775\n"
     ]
    }
   ],
   "source": [
    "print(role)"
   ]
  },
  {
   "cell_type": "code",
   "execution_count": 11,
   "metadata": {},
   "outputs": [],
   "source": [
    "# Define o Bucket padrão\n",
    "default_bucket = sagemaker_session.default_bucket()"
   ]
  },
  {
   "cell_type": "code",
   "execution_count": 12,
   "metadata": {},
   "outputs": [
    {
     "name": "stderr",
     "output_type": "stream",
     "text": [
      "S3 Bucket Default = sagemaker-us-east-2-890582101704\n"
     ]
    }
   ],
   "source": [
    "# Logger\n",
    "logger.info(f'S3 Bucket Default = {default_bucket}')"
   ]
  },
  {
   "cell_type": "code",
   "execution_count": 13,
   "metadata": {},
   "outputs": [],
   "source": [
    "# Nome para a feature store\n",
    "prefix = 'sagemaker-feature-store-p4'"
   ]
  },
  {
   "cell_type": "code",
   "execution_count": 14,
   "metadata": {},
   "outputs": [],
   "source": [
    "# Captura a região\n",
    "region = sagemaker_session.boto_region_name"
   ]
  },
  {
   "cell_type": "code",
   "execution_count": 15,
   "metadata": {},
   "outputs": [
    {
     "name": "stdout",
     "output_type": "stream",
     "text": [
      "us-east-2\n"
     ]
    }
   ],
   "source": [
    "print(region)"
   ]
  },
  {
   "cell_type": "markdown",
   "metadata": {},
   "source": [
    "## Carga e Preparação dos Dados"
   ]
  },
  {
   "cell_type": "code",
   "execution_count": 16,
   "metadata": {},
   "outputs": [],
   "source": [
    "# Carrega o dataset de clientes\n",
    "df_dsa_clientes = pd.read_csv('dados/clientes.csv')"
   ]
  },
  {
   "cell_type": "code",
   "execution_count": 17,
   "metadata": {},
   "outputs": [
    {
     "data": {
      "text/html": [
       "<div>\n",
       "<style scoped>\n",
       "    .dataframe tbody tr th:only-of-type {\n",
       "        vertical-align: middle;\n",
       "    }\n",
       "\n",
       "    .dataframe tbody tr th {\n",
       "        vertical-align: top;\n",
       "    }\n",
       "\n",
       "    .dataframe thead th {\n",
       "        text-align: right;\n",
       "    }\n",
       "</style>\n",
       "<table border=\"1\" class=\"dataframe\">\n",
       "  <thead>\n",
       "    <tr style=\"text-align: right;\">\n",
       "      <th></th>\n",
       "      <th>id_cliente</th>\n",
       "      <th>genero</th>\n",
       "      <th>casado</th>\n",
       "      <th>event_time</th>\n",
       "      <th>idade_18-29</th>\n",
       "      <th>idade_30-39</th>\n",
       "      <th>idade_40-49</th>\n",
       "      <th>idade_50-59</th>\n",
       "      <th>idade_60-69</th>\n",
       "      <th>idade_70-plus</th>\n",
       "      <th>num_dias_ativo</th>\n",
       "    </tr>\n",
       "  </thead>\n",
       "  <tbody>\n",
       "    <tr>\n",
       "      <th>0</th>\n",
       "      <td>C1</td>\n",
       "      <td>0</td>\n",
       "      <td>0</td>\n",
       "      <td>2024-11-27T04:57:49.698Z</td>\n",
       "      <td>False</td>\n",
       "      <td>False</td>\n",
       "      <td>False</td>\n",
       "      <td>True</td>\n",
       "      <td>False</td>\n",
       "      <td>False</td>\n",
       "      <td>0.083562</td>\n",
       "    </tr>\n",
       "    <tr>\n",
       "      <th>1</th>\n",
       "      <td>C2</td>\n",
       "      <td>1</td>\n",
       "      <td>0</td>\n",
       "      <td>2024-11-27T04:57:49.702Z</td>\n",
       "      <td>True</td>\n",
       "      <td>False</td>\n",
       "      <td>False</td>\n",
       "      <td>False</td>\n",
       "      <td>False</td>\n",
       "      <td>False</td>\n",
       "      <td>0.659589</td>\n",
       "    </tr>\n",
       "    <tr>\n",
       "      <th>2</th>\n",
       "      <td>C3</td>\n",
       "      <td>1</td>\n",
       "      <td>1</td>\n",
       "      <td>2024-11-27T04:57:49.708Z</td>\n",
       "      <td>False</td>\n",
       "      <td>False</td>\n",
       "      <td>False</td>\n",
       "      <td>False</td>\n",
       "      <td>True</td>\n",
       "      <td>False</td>\n",
       "      <td>0.402055</td>\n",
       "    </tr>\n",
       "    <tr>\n",
       "      <th>3</th>\n",
       "      <td>C4</td>\n",
       "      <td>1</td>\n",
       "      <td>0</td>\n",
       "      <td>2024-11-27T04:57:49.712Z</td>\n",
       "      <td>False</td>\n",
       "      <td>False</td>\n",
       "      <td>False</td>\n",
       "      <td>True</td>\n",
       "      <td>False</td>\n",
       "      <td>False</td>\n",
       "      <td>0.708904</td>\n",
       "    </tr>\n",
       "    <tr>\n",
       "      <th>4</th>\n",
       "      <td>C5</td>\n",
       "      <td>1</td>\n",
       "      <td>1</td>\n",
       "      <td>2024-11-27T04:57:49.719Z</td>\n",
       "      <td>False</td>\n",
       "      <td>True</td>\n",
       "      <td>False</td>\n",
       "      <td>False</td>\n",
       "      <td>False</td>\n",
       "      <td>False</td>\n",
       "      <td>0.765753</td>\n",
       "    </tr>\n",
       "  </tbody>\n",
       "</table>\n",
       "</div>"
      ],
      "text/plain": [
       "  id_cliente  genero  casado                event_time  idade_18-29  \\\n",
       "0         C1       0       0  2024-11-27T04:57:49.698Z        False   \n",
       "1         C2       1       0  2024-11-27T04:57:49.702Z         True   \n",
       "2         C3       1       1  2024-11-27T04:57:49.708Z        False   \n",
       "3         C4       1       0  2024-11-27T04:57:49.712Z        False   \n",
       "4         C5       1       1  2024-11-27T04:57:49.719Z        False   \n",
       "\n",
       "   idade_30-39  idade_40-49  idade_50-59  idade_60-69  idade_70-plus  \\\n",
       "0        False        False         True        False          False   \n",
       "1        False        False        False        False          False   \n",
       "2        False        False        False         True          False   \n",
       "3        False        False         True        False          False   \n",
       "4         True        False        False        False          False   \n",
       "\n",
       "   num_dias_ativo  \n",
       "0        0.083562  \n",
       "1        0.659589  \n",
       "2        0.402055  \n",
       "3        0.708904  \n",
       "4        0.765753  "
      ]
     },
     "execution_count": 17,
     "metadata": {},
     "output_type": "execute_result"
    }
   ],
   "source": [
    "df_dsa_clientes.head()"
   ]
  },
  {
   "cell_type": "code",
   "execution_count": 18,
   "metadata": {},
   "outputs": [
    {
     "name": "stdout",
     "output_type": "stream",
     "text": [
      "<class 'pandas.core.frame.DataFrame'>\n",
      "RangeIndex: 10000 entries, 0 to 9999\n",
      "Data columns (total 11 columns):\n",
      " #   Column          Non-Null Count  Dtype  \n",
      "---  ------          --------------  -----  \n",
      " 0   id_cliente      10000 non-null  object \n",
      " 1   genero          10000 non-null  int64  \n",
      " 2   casado          10000 non-null  int64  \n",
      " 3   event_time      10000 non-null  object \n",
      " 4   idade_18-29     10000 non-null  bool   \n",
      " 5   idade_30-39     10000 non-null  bool   \n",
      " 6   idade_40-49     10000 non-null  bool   \n",
      " 7   idade_50-59     10000 non-null  bool   \n",
      " 8   idade_60-69     10000 non-null  bool   \n",
      " 9   idade_70-plus   10000 non-null  bool   \n",
      " 10  num_dias_ativo  10000 non-null  float64\n",
      "dtypes: bool(6), float64(1), int64(2), object(2)\n",
      "memory usage: 449.3+ KB\n"
     ]
    }
   ],
   "source": [
    "df_dsa_clientes.info()"
   ]
  },
  {
   "cell_type": "markdown",
   "metadata": {},
   "source": [
    "Essa linha abaixo ajusta os tipos de dados das colunas no DataFrame df_dsa_clientes de forma automática e otimizada, com as seguintes características:\n",
    "\n",
    "- infer_objects=True: Tenta inferir tipos mais específicos para colunas de tipo object (por exemplo, converte strings em categorias, se possível).\n",
    "- convert_boolean=False: Mantém as colunas booleanas como estão, sem convertê-las para outros tipos.\n",
    "- convert_dtypes: Ajusta os tipos para versões mais eficientes ou apropriadas (como Int64 em vez de int padrão)."
   ]
  },
  {
   "cell_type": "code",
   "execution_count": 19,
   "metadata": {
    "tags": []
   },
   "outputs": [],
   "source": [
    "# Ajusta os tipos de dados de forma automática\n",
    "df_dsa_clientes = df_dsa_clientes.convert_dtypes(infer_objects=True, convert_boolean=False)"
   ]
  },
  {
   "cell_type": "code",
   "execution_count": 20,
   "metadata": {},
   "outputs": [
    {
     "data": {
      "text/plain": [
       "id_cliente        string[python]\n",
       "genero                     Int64\n",
       "casado                     Int64\n",
       "event_time        string[python]\n",
       "idade_18-29                Int64\n",
       "idade_30-39                Int64\n",
       "idade_40-49                Int64\n",
       "idade_50-59                Int64\n",
       "idade_60-69                Int64\n",
       "idade_70-plus              Int64\n",
       "num_dias_ativo           Float64\n",
       "dtype: object"
      ]
     },
     "execution_count": 20,
     "metadata": {},
     "output_type": "execute_result"
    }
   ],
   "source": [
    "df_dsa_clientes.dtypes"
   ]
  },
  {
   "cell_type": "code",
   "execution_count": 21,
   "metadata": {},
   "outputs": [],
   "source": [
    "# Ajusta o tipo de dado como string de forma explícita\n",
    "df_dsa_clientes['id_cliente'] = df_dsa_clientes['id_cliente'].astype('string')\n",
    "df_dsa_clientes['event_time'] = df_dsa_clientes['event_time'].astype('string')"
   ]
  },
  {
   "cell_type": "code",
   "execution_count": 22,
   "metadata": {},
   "outputs": [
    {
     "data": {
      "text/plain": [
       "id_cliente        string[python]\n",
       "genero                     Int64\n",
       "casado                     Int64\n",
       "event_time        string[python]\n",
       "idade_18-29                Int64\n",
       "idade_30-39                Int64\n",
       "idade_40-49                Int64\n",
       "idade_50-59                Int64\n",
       "idade_60-69                Int64\n",
       "idade_70-plus              Int64\n",
       "num_dias_ativo           Float64\n",
       "dtype: object"
      ]
     },
     "execution_count": 22,
     "metadata": {},
     "output_type": "execute_result"
    }
   ],
   "source": [
    "df_dsa_clientes.dtypes"
   ]
  },
  {
   "cell_type": "code",
   "execution_count": 23,
   "metadata": {},
   "outputs": [
    {
     "data": {
      "text/html": [
       "<div>\n",
       "<style scoped>\n",
       "    .dataframe tbody tr th:only-of-type {\n",
       "        vertical-align: middle;\n",
       "    }\n",
       "\n",
       "    .dataframe tbody tr th {\n",
       "        vertical-align: top;\n",
       "    }\n",
       "\n",
       "    .dataframe thead th {\n",
       "        text-align: right;\n",
       "    }\n",
       "</style>\n",
       "<table border=\"1\" class=\"dataframe\">\n",
       "  <thead>\n",
       "    <tr style=\"text-align: right;\">\n",
       "      <th></th>\n",
       "      <th>id_cliente</th>\n",
       "      <th>genero</th>\n",
       "      <th>casado</th>\n",
       "      <th>event_time</th>\n",
       "      <th>idade_18-29</th>\n",
       "      <th>idade_30-39</th>\n",
       "      <th>idade_40-49</th>\n",
       "      <th>idade_50-59</th>\n",
       "      <th>idade_60-69</th>\n",
       "      <th>idade_70-plus</th>\n",
       "      <th>num_dias_ativo</th>\n",
       "    </tr>\n",
       "  </thead>\n",
       "  <tbody>\n",
       "    <tr>\n",
       "      <th>0</th>\n",
       "      <td>C1</td>\n",
       "      <td>0</td>\n",
       "      <td>0</td>\n",
       "      <td>2024-11-27T04:57:49.698Z</td>\n",
       "      <td>0</td>\n",
       "      <td>0</td>\n",
       "      <td>0</td>\n",
       "      <td>1</td>\n",
       "      <td>0</td>\n",
       "      <td>0</td>\n",
       "      <td>0.083562</td>\n",
       "    </tr>\n",
       "    <tr>\n",
       "      <th>1</th>\n",
       "      <td>C2</td>\n",
       "      <td>1</td>\n",
       "      <td>0</td>\n",
       "      <td>2024-11-27T04:57:49.702Z</td>\n",
       "      <td>1</td>\n",
       "      <td>0</td>\n",
       "      <td>0</td>\n",
       "      <td>0</td>\n",
       "      <td>0</td>\n",
       "      <td>0</td>\n",
       "      <td>0.659589</td>\n",
       "    </tr>\n",
       "    <tr>\n",
       "      <th>2</th>\n",
       "      <td>C3</td>\n",
       "      <td>1</td>\n",
       "      <td>1</td>\n",
       "      <td>2024-11-27T04:57:49.708Z</td>\n",
       "      <td>0</td>\n",
       "      <td>0</td>\n",
       "      <td>0</td>\n",
       "      <td>0</td>\n",
       "      <td>1</td>\n",
       "      <td>0</td>\n",
       "      <td>0.402055</td>\n",
       "    </tr>\n",
       "    <tr>\n",
       "      <th>3</th>\n",
       "      <td>C4</td>\n",
       "      <td>1</td>\n",
       "      <td>0</td>\n",
       "      <td>2024-11-27T04:57:49.712Z</td>\n",
       "      <td>0</td>\n",
       "      <td>0</td>\n",
       "      <td>0</td>\n",
       "      <td>1</td>\n",
       "      <td>0</td>\n",
       "      <td>0</td>\n",
       "      <td>0.708904</td>\n",
       "    </tr>\n",
       "    <tr>\n",
       "      <th>4</th>\n",
       "      <td>C5</td>\n",
       "      <td>1</td>\n",
       "      <td>1</td>\n",
       "      <td>2024-11-27T04:57:49.719Z</td>\n",
       "      <td>0</td>\n",
       "      <td>1</td>\n",
       "      <td>0</td>\n",
       "      <td>0</td>\n",
       "      <td>0</td>\n",
       "      <td>0</td>\n",
       "      <td>0.765753</td>\n",
       "    </tr>\n",
       "  </tbody>\n",
       "</table>\n",
       "</div>"
      ],
      "text/plain": [
       "  id_cliente  genero  casado                event_time  idade_18-29  \\\n",
       "0         C1       0       0  2024-11-27T04:57:49.698Z            0   \n",
       "1         C2       1       0  2024-11-27T04:57:49.702Z            1   \n",
       "2         C3       1       1  2024-11-27T04:57:49.708Z            0   \n",
       "3         C4       1       0  2024-11-27T04:57:49.712Z            0   \n",
       "4         C5       1       1  2024-11-27T04:57:49.719Z            0   \n",
       "\n",
       "   idade_30-39  idade_40-49  idade_50-59  idade_60-69  idade_70-plus  \\\n",
       "0            0            0            1            0              0   \n",
       "1            0            0            0            0              0   \n",
       "2            0            0            0            1              0   \n",
       "3            0            0            1            0              0   \n",
       "4            1            0            0            0              0   \n",
       "\n",
       "   num_dias_ativo  \n",
       "0        0.083562  \n",
       "1        0.659589  \n",
       "2        0.402055  \n",
       "3        0.708904  \n",
       "4        0.765753  "
      ]
     },
     "execution_count": 23,
     "metadata": {},
     "output_type": "execute_result"
    }
   ],
   "source": [
    "df_dsa_clientes.head()"
   ]
  },
  {
   "cell_type": "code",
   "execution_count": 24,
   "metadata": {},
   "outputs": [],
   "source": [
    "# Carrega o dataset de produtos\n",
    "df_dsa_produtos = pd.read_csv('dados/produtos.csv')"
   ]
  },
  {
   "cell_type": "code",
   "execution_count": 25,
   "metadata": {},
   "outputs": [
    {
     "data": {
      "text/html": [
       "<div>\n",
       "<style scoped>\n",
       "    .dataframe tbody tr th:only-of-type {\n",
       "        vertical-align: middle;\n",
       "    }\n",
       "\n",
       "    .dataframe tbody tr th {\n",
       "        vertical-align: top;\n",
       "    }\n",
       "\n",
       "    .dataframe thead th {\n",
       "        text-align: right;\n",
       "    }\n",
       "</style>\n",
       "<table border=\"1\" class=\"dataframe\">\n",
       "  <thead>\n",
       "    <tr style=\"text-align: right;\">\n",
       "      <th></th>\n",
       "      <th>id_produto</th>\n",
       "      <th>event_time</th>\n",
       "      <th>category_baby_food_formula</th>\n",
       "      <th>category_baking_ingredients</th>\n",
       "      <th>category_candy_chocolate</th>\n",
       "      <th>category_chips_pretzels</th>\n",
       "      <th>category_cleaning_products</th>\n",
       "      <th>category_coffee</th>\n",
       "      <th>category_cookies_cakes</th>\n",
       "      <th>category_crackers</th>\n",
       "      <th>...</th>\n",
       "      <th>category_hair_care</th>\n",
       "      <th>category_ice_cream_ice</th>\n",
       "      <th>category_juice_nectars</th>\n",
       "      <th>category_packaged_cheese</th>\n",
       "      <th>category_refrigerated</th>\n",
       "      <th>category_soup_broth_bouillon</th>\n",
       "      <th>category_spices_seasonings</th>\n",
       "      <th>category_tea</th>\n",
       "      <th>category_vitamins_supplements</th>\n",
       "      <th>category_yogurt</th>\n",
       "    </tr>\n",
       "  </thead>\n",
       "  <tbody>\n",
       "    <tr>\n",
       "      <th>0</th>\n",
       "      <td>P1</td>\n",
       "      <td>2024-11-27T05:02:13.726Z</td>\n",
       "      <td>False</td>\n",
       "      <td>False</td>\n",
       "      <td>False</td>\n",
       "      <td>False</td>\n",
       "      <td>False</td>\n",
       "      <td>False</td>\n",
       "      <td>True</td>\n",
       "      <td>False</td>\n",
       "      <td>...</td>\n",
       "      <td>False</td>\n",
       "      <td>False</td>\n",
       "      <td>False</td>\n",
       "      <td>False</td>\n",
       "      <td>False</td>\n",
       "      <td>False</td>\n",
       "      <td>False</td>\n",
       "      <td>False</td>\n",
       "      <td>False</td>\n",
       "      <td>False</td>\n",
       "    </tr>\n",
       "    <tr>\n",
       "      <th>1</th>\n",
       "      <td>P2</td>\n",
       "      <td>2024-11-27T05:02:13.726Z</td>\n",
       "      <td>False</td>\n",
       "      <td>False</td>\n",
       "      <td>False</td>\n",
       "      <td>False</td>\n",
       "      <td>False</td>\n",
       "      <td>False</td>\n",
       "      <td>False</td>\n",
       "      <td>False</td>\n",
       "      <td>...</td>\n",
       "      <td>False</td>\n",
       "      <td>False</td>\n",
       "      <td>False</td>\n",
       "      <td>False</td>\n",
       "      <td>False</td>\n",
       "      <td>False</td>\n",
       "      <td>True</td>\n",
       "      <td>False</td>\n",
       "      <td>False</td>\n",
       "      <td>False</td>\n",
       "    </tr>\n",
       "    <tr>\n",
       "      <th>2</th>\n",
       "      <td>P3</td>\n",
       "      <td>2024-11-27T05:02:13.726Z</td>\n",
       "      <td>False</td>\n",
       "      <td>False</td>\n",
       "      <td>False</td>\n",
       "      <td>False</td>\n",
       "      <td>False</td>\n",
       "      <td>False</td>\n",
       "      <td>False</td>\n",
       "      <td>False</td>\n",
       "      <td>...</td>\n",
       "      <td>False</td>\n",
       "      <td>False</td>\n",
       "      <td>False</td>\n",
       "      <td>False</td>\n",
       "      <td>False</td>\n",
       "      <td>False</td>\n",
       "      <td>False</td>\n",
       "      <td>True</td>\n",
       "      <td>False</td>\n",
       "      <td>False</td>\n",
       "    </tr>\n",
       "    <tr>\n",
       "      <th>3</th>\n",
       "      <td>P4</td>\n",
       "      <td>2024-11-27T05:02:13.726Z</td>\n",
       "      <td>False</td>\n",
       "      <td>False</td>\n",
       "      <td>False</td>\n",
       "      <td>False</td>\n",
       "      <td>False</td>\n",
       "      <td>False</td>\n",
       "      <td>False</td>\n",
       "      <td>False</td>\n",
       "      <td>...</td>\n",
       "      <td>False</td>\n",
       "      <td>False</td>\n",
       "      <td>False</td>\n",
       "      <td>False</td>\n",
       "      <td>False</td>\n",
       "      <td>False</td>\n",
       "      <td>False</td>\n",
       "      <td>False</td>\n",
       "      <td>False</td>\n",
       "      <td>False</td>\n",
       "    </tr>\n",
       "    <tr>\n",
       "      <th>4</th>\n",
       "      <td>P5</td>\n",
       "      <td>2024-11-27T05:02:13.726Z</td>\n",
       "      <td>False</td>\n",
       "      <td>False</td>\n",
       "      <td>False</td>\n",
       "      <td>False</td>\n",
       "      <td>False</td>\n",
       "      <td>False</td>\n",
       "      <td>False</td>\n",
       "      <td>False</td>\n",
       "      <td>...</td>\n",
       "      <td>False</td>\n",
       "      <td>False</td>\n",
       "      <td>True</td>\n",
       "      <td>False</td>\n",
       "      <td>False</td>\n",
       "      <td>False</td>\n",
       "      <td>False</td>\n",
       "      <td>False</td>\n",
       "      <td>False</td>\n",
       "      <td>False</td>\n",
       "    </tr>\n",
       "  </tbody>\n",
       "</table>\n",
       "<p>5 rows × 22 columns</p>\n",
       "</div>"
      ],
      "text/plain": [
       "  id_produto                event_time  category_baby_food_formula  \\\n",
       "0         P1  2024-11-27T05:02:13.726Z                       False   \n",
       "1         P2  2024-11-27T05:02:13.726Z                       False   \n",
       "2         P3  2024-11-27T05:02:13.726Z                       False   \n",
       "3         P4  2024-11-27T05:02:13.726Z                       False   \n",
       "4         P5  2024-11-27T05:02:13.726Z                       False   \n",
       "\n",
       "   category_baking_ingredients  category_candy_chocolate  \\\n",
       "0                        False                     False   \n",
       "1                        False                     False   \n",
       "2                        False                     False   \n",
       "3                        False                     False   \n",
       "4                        False                     False   \n",
       "\n",
       "   category_chips_pretzels  category_cleaning_products  category_coffee  \\\n",
       "0                    False                       False            False   \n",
       "1                    False                       False            False   \n",
       "2                    False                       False            False   \n",
       "3                    False                       False            False   \n",
       "4                    False                       False            False   \n",
       "\n",
       "   category_cookies_cakes  category_crackers  ...  category_hair_care  \\\n",
       "0                    True              False  ...               False   \n",
       "1                   False              False  ...               False   \n",
       "2                   False              False  ...               False   \n",
       "3                   False              False  ...               False   \n",
       "4                   False              False  ...               False   \n",
       "\n",
       "   category_ice_cream_ice  category_juice_nectars  category_packaged_cheese  \\\n",
       "0                   False                   False                     False   \n",
       "1                   False                   False                     False   \n",
       "2                   False                   False                     False   \n",
       "3                   False                   False                     False   \n",
       "4                   False                    True                     False   \n",
       "\n",
       "   category_refrigerated  category_soup_broth_bouillon  \\\n",
       "0                  False                         False   \n",
       "1                  False                         False   \n",
       "2                  False                         False   \n",
       "3                  False                         False   \n",
       "4                  False                         False   \n",
       "\n",
       "   category_spices_seasonings  category_tea  category_vitamins_supplements  \\\n",
       "0                       False         False                          False   \n",
       "1                        True         False                          False   \n",
       "2                       False          True                          False   \n",
       "3                       False         False                          False   \n",
       "4                       False         False                          False   \n",
       "\n",
       "   category_yogurt  \n",
       "0            False  \n",
       "1            False  \n",
       "2            False  \n",
       "3            False  \n",
       "4            False  \n",
       "\n",
       "[5 rows x 22 columns]"
      ]
     },
     "execution_count": 25,
     "metadata": {},
     "output_type": "execute_result"
    }
   ],
   "source": [
    "df_dsa_produtos.head()"
   ]
  },
  {
   "cell_type": "code",
   "execution_count": 26,
   "metadata": {
    "tags": []
   },
   "outputs": [],
   "source": [
    "# Ajusta os tipos de dados de forma automática\n",
    "df_dsa_produtos = df_dsa_produtos.convert_dtypes(infer_objects=True, convert_boolean=False)"
   ]
  },
  {
   "cell_type": "code",
   "execution_count": 27,
   "metadata": {},
   "outputs": [],
   "source": [
    "# Ajusta o tipo de dado como string de forma explícita\n",
    "df_dsa_produtos['id_produto'] = df_dsa_produtos['id_produto'].astype('string')\n",
    "df_dsa_produtos['event_time'] = df_dsa_produtos['event_time'].astype('string')"
   ]
  },
  {
   "cell_type": "code",
   "execution_count": 28,
   "metadata": {},
   "outputs": [
    {
     "data": {
      "text/plain": [
       "id_produto                       string[python]\n",
       "event_time                       string[python]\n",
       "category_baby_food_formula                Int64\n",
       "category_baking_ingredients               Int64\n",
       "category_candy_chocolate                  Int64\n",
       "category_chips_pretzels                   Int64\n",
       "category_cleaning_products                Int64\n",
       "category_coffee                           Int64\n",
       "category_cookies_cakes                    Int64\n",
       "category_crackers                         Int64\n",
       "category_energy_granola_bars              Int64\n",
       "category_frozen_meals                     Int64\n",
       "category_hair_care                        Int64\n",
       "category_ice_cream_ice                    Int64\n",
       "category_juice_nectars                    Int64\n",
       "category_packaged_cheese                  Int64\n",
       "category_refrigerated                     Int64\n",
       "category_soup_broth_bouillon              Int64\n",
       "category_spices_seasonings                Int64\n",
       "category_tea                              Int64\n",
       "category_vitamins_supplements             Int64\n",
       "category_yogurt                           Int64\n",
       "dtype: object"
      ]
     },
     "execution_count": 28,
     "metadata": {},
     "output_type": "execute_result"
    }
   ],
   "source": [
    "df_dsa_produtos.dtypes"
   ]
  },
  {
   "cell_type": "code",
   "execution_count": 29,
   "metadata": {},
   "outputs": [
    {
     "data": {
      "text/html": [
       "<div>\n",
       "<style scoped>\n",
       "    .dataframe tbody tr th:only-of-type {\n",
       "        vertical-align: middle;\n",
       "    }\n",
       "\n",
       "    .dataframe tbody tr th {\n",
       "        vertical-align: top;\n",
       "    }\n",
       "\n",
       "    .dataframe thead th {\n",
       "        text-align: right;\n",
       "    }\n",
       "</style>\n",
       "<table border=\"1\" class=\"dataframe\">\n",
       "  <thead>\n",
       "    <tr style=\"text-align: right;\">\n",
       "      <th></th>\n",
       "      <th>id_produto</th>\n",
       "      <th>event_time</th>\n",
       "      <th>category_baby_food_formula</th>\n",
       "      <th>category_baking_ingredients</th>\n",
       "      <th>category_candy_chocolate</th>\n",
       "      <th>category_chips_pretzels</th>\n",
       "      <th>category_cleaning_products</th>\n",
       "      <th>category_coffee</th>\n",
       "      <th>category_cookies_cakes</th>\n",
       "      <th>category_crackers</th>\n",
       "      <th>...</th>\n",
       "      <th>category_hair_care</th>\n",
       "      <th>category_ice_cream_ice</th>\n",
       "      <th>category_juice_nectars</th>\n",
       "      <th>category_packaged_cheese</th>\n",
       "      <th>category_refrigerated</th>\n",
       "      <th>category_soup_broth_bouillon</th>\n",
       "      <th>category_spices_seasonings</th>\n",
       "      <th>category_tea</th>\n",
       "      <th>category_vitamins_supplements</th>\n",
       "      <th>category_yogurt</th>\n",
       "    </tr>\n",
       "  </thead>\n",
       "  <tbody>\n",
       "    <tr>\n",
       "      <th>0</th>\n",
       "      <td>P1</td>\n",
       "      <td>2024-11-27T05:02:13.726Z</td>\n",
       "      <td>0</td>\n",
       "      <td>0</td>\n",
       "      <td>0</td>\n",
       "      <td>0</td>\n",
       "      <td>0</td>\n",
       "      <td>0</td>\n",
       "      <td>1</td>\n",
       "      <td>0</td>\n",
       "      <td>...</td>\n",
       "      <td>0</td>\n",
       "      <td>0</td>\n",
       "      <td>0</td>\n",
       "      <td>0</td>\n",
       "      <td>0</td>\n",
       "      <td>0</td>\n",
       "      <td>0</td>\n",
       "      <td>0</td>\n",
       "      <td>0</td>\n",
       "      <td>0</td>\n",
       "    </tr>\n",
       "    <tr>\n",
       "      <th>1</th>\n",
       "      <td>P2</td>\n",
       "      <td>2024-11-27T05:02:13.726Z</td>\n",
       "      <td>0</td>\n",
       "      <td>0</td>\n",
       "      <td>0</td>\n",
       "      <td>0</td>\n",
       "      <td>0</td>\n",
       "      <td>0</td>\n",
       "      <td>0</td>\n",
       "      <td>0</td>\n",
       "      <td>...</td>\n",
       "      <td>0</td>\n",
       "      <td>0</td>\n",
       "      <td>0</td>\n",
       "      <td>0</td>\n",
       "      <td>0</td>\n",
       "      <td>0</td>\n",
       "      <td>1</td>\n",
       "      <td>0</td>\n",
       "      <td>0</td>\n",
       "      <td>0</td>\n",
       "    </tr>\n",
       "    <tr>\n",
       "      <th>2</th>\n",
       "      <td>P3</td>\n",
       "      <td>2024-11-27T05:02:13.726Z</td>\n",
       "      <td>0</td>\n",
       "      <td>0</td>\n",
       "      <td>0</td>\n",
       "      <td>0</td>\n",
       "      <td>0</td>\n",
       "      <td>0</td>\n",
       "      <td>0</td>\n",
       "      <td>0</td>\n",
       "      <td>...</td>\n",
       "      <td>0</td>\n",
       "      <td>0</td>\n",
       "      <td>0</td>\n",
       "      <td>0</td>\n",
       "      <td>0</td>\n",
       "      <td>0</td>\n",
       "      <td>0</td>\n",
       "      <td>1</td>\n",
       "      <td>0</td>\n",
       "      <td>0</td>\n",
       "    </tr>\n",
       "    <tr>\n",
       "      <th>3</th>\n",
       "      <td>P4</td>\n",
       "      <td>2024-11-27T05:02:13.726Z</td>\n",
       "      <td>0</td>\n",
       "      <td>0</td>\n",
       "      <td>0</td>\n",
       "      <td>0</td>\n",
       "      <td>0</td>\n",
       "      <td>0</td>\n",
       "      <td>0</td>\n",
       "      <td>0</td>\n",
       "      <td>...</td>\n",
       "      <td>0</td>\n",
       "      <td>0</td>\n",
       "      <td>0</td>\n",
       "      <td>0</td>\n",
       "      <td>0</td>\n",
       "      <td>0</td>\n",
       "      <td>0</td>\n",
       "      <td>0</td>\n",
       "      <td>0</td>\n",
       "      <td>0</td>\n",
       "    </tr>\n",
       "    <tr>\n",
       "      <th>4</th>\n",
       "      <td>P5</td>\n",
       "      <td>2024-11-27T05:02:13.726Z</td>\n",
       "      <td>0</td>\n",
       "      <td>0</td>\n",
       "      <td>0</td>\n",
       "      <td>0</td>\n",
       "      <td>0</td>\n",
       "      <td>0</td>\n",
       "      <td>0</td>\n",
       "      <td>0</td>\n",
       "      <td>...</td>\n",
       "      <td>0</td>\n",
       "      <td>0</td>\n",
       "      <td>1</td>\n",
       "      <td>0</td>\n",
       "      <td>0</td>\n",
       "      <td>0</td>\n",
       "      <td>0</td>\n",
       "      <td>0</td>\n",
       "      <td>0</td>\n",
       "      <td>0</td>\n",
       "    </tr>\n",
       "  </tbody>\n",
       "</table>\n",
       "<p>5 rows × 22 columns</p>\n",
       "</div>"
      ],
      "text/plain": [
       "  id_produto                event_time  category_baby_food_formula  \\\n",
       "0         P1  2024-11-27T05:02:13.726Z                           0   \n",
       "1         P2  2024-11-27T05:02:13.726Z                           0   \n",
       "2         P3  2024-11-27T05:02:13.726Z                           0   \n",
       "3         P4  2024-11-27T05:02:13.726Z                           0   \n",
       "4         P5  2024-11-27T05:02:13.726Z                           0   \n",
       "\n",
       "   category_baking_ingredients  category_candy_chocolate  \\\n",
       "0                            0                         0   \n",
       "1                            0                         0   \n",
       "2                            0                         0   \n",
       "3                            0                         0   \n",
       "4                            0                         0   \n",
       "\n",
       "   category_chips_pretzels  category_cleaning_products  category_coffee  \\\n",
       "0                        0                           0                0   \n",
       "1                        0                           0                0   \n",
       "2                        0                           0                0   \n",
       "3                        0                           0                0   \n",
       "4                        0                           0                0   \n",
       "\n",
       "   category_cookies_cakes  category_crackers  ...  category_hair_care  \\\n",
       "0                       1                  0  ...                   0   \n",
       "1                       0                  0  ...                   0   \n",
       "2                       0                  0  ...                   0   \n",
       "3                       0                  0  ...                   0   \n",
       "4                       0                  0  ...                   0   \n",
       "\n",
       "   category_ice_cream_ice  category_juice_nectars  category_packaged_cheese  \\\n",
       "0                       0                       0                         0   \n",
       "1                       0                       0                         0   \n",
       "2                       0                       0                         0   \n",
       "3                       0                       0                         0   \n",
       "4                       0                       1                         0   \n",
       "\n",
       "   category_refrigerated  category_soup_broth_bouillon  \\\n",
       "0                      0                             0   \n",
       "1                      0                             0   \n",
       "2                      0                             0   \n",
       "3                      0                             0   \n",
       "4                      0                             0   \n",
       "\n",
       "   category_spices_seasonings  category_tea  category_vitamins_supplements  \\\n",
       "0                           0             0                              0   \n",
       "1                           1             0                              0   \n",
       "2                           0             1                              0   \n",
       "3                           0             0                              0   \n",
       "4                           0             0                              0   \n",
       "\n",
       "   category_yogurt  \n",
       "0                0  \n",
       "1                0  \n",
       "2                0  \n",
       "3                0  \n",
       "4                0  \n",
       "\n",
       "[5 rows x 22 columns]"
      ]
     },
     "execution_count": 29,
     "metadata": {},
     "output_type": "execute_result"
    }
   ],
   "source": [
    "df_dsa_produtos.head()"
   ]
  },
  {
   "cell_type": "code",
   "execution_count": 30,
   "metadata": {},
   "outputs": [],
   "source": [
    "# Carrega o dataset de pedidos\n",
    "df_dsa_pedidos = pd.read_csv('dados/pedidos.csv')"
   ]
  },
  {
   "cell_type": "code",
   "execution_count": 31,
   "metadata": {},
   "outputs": [
    {
     "data": {
      "text/html": [
       "<div>\n",
       "<style scoped>\n",
       "    .dataframe tbody tr th:only-of-type {\n",
       "        vertical-align: middle;\n",
       "    }\n",
       "\n",
       "    .dataframe tbody tr th {\n",
       "        vertical-align: top;\n",
       "    }\n",
       "\n",
       "    .dataframe thead th {\n",
       "        text-align: right;\n",
       "    }\n",
       "</style>\n",
       "<table border=\"1\" class=\"dataframe\">\n",
       "  <thead>\n",
       "    <tr style=\"text-align: right;\">\n",
       "      <th></th>\n",
       "      <th>id_pedido</th>\n",
       "      <th>id_cliente</th>\n",
       "      <th>id_produto</th>\n",
       "      <th>quantidade</th>\n",
       "      <th>novo_pedido</th>\n",
       "      <th>event_time</th>\n",
       "      <th>num_dias_ativos_des_ultima_compra</th>\n",
       "    </tr>\n",
       "  </thead>\n",
       "  <tbody>\n",
       "    <tr>\n",
       "      <th>0</th>\n",
       "      <td>O1</td>\n",
       "      <td>C5731</td>\n",
       "      <td>P16</td>\n",
       "      <td>0.913465</td>\n",
       "      <td>1</td>\n",
       "      <td>2024-11-27T05:02:16.934Z</td>\n",
       "      <td>0.201550</td>\n",
       "    </tr>\n",
       "    <tr>\n",
       "      <th>1</th>\n",
       "      <td>O2</td>\n",
       "      <td>C3541</td>\n",
       "      <td>P12802</td>\n",
       "      <td>0.663168</td>\n",
       "      <td>1</td>\n",
       "      <td>2024-11-27T05:02:16.934Z</td>\n",
       "      <td>0.575581</td>\n",
       "    </tr>\n",
       "    <tr>\n",
       "      <th>2</th>\n",
       "      <td>O3</td>\n",
       "      <td>C7402</td>\n",
       "      <td>P8320</td>\n",
       "      <td>0.629604</td>\n",
       "      <td>1</td>\n",
       "      <td>2024-11-27T05:02:16.934Z</td>\n",
       "      <td>0.073643</td>\n",
       "    </tr>\n",
       "    <tr>\n",
       "      <th>3</th>\n",
       "      <td>O4</td>\n",
       "      <td>C7356</td>\n",
       "      <td>P5165</td>\n",
       "      <td>0.618911</td>\n",
       "      <td>0</td>\n",
       "      <td>2024-11-27T05:02:16.934Z</td>\n",
       "      <td>0.552326</td>\n",
       "    </tr>\n",
       "    <tr>\n",
       "      <th>4</th>\n",
       "      <td>O5</td>\n",
       "      <td>C5806</td>\n",
       "      <td>P12940</td>\n",
       "      <td>0.053168</td>\n",
       "      <td>1</td>\n",
       "      <td>2024-11-27T05:02:16.934Z</td>\n",
       "      <td>0.616279</td>\n",
       "    </tr>\n",
       "  </tbody>\n",
       "</table>\n",
       "</div>"
      ],
      "text/plain": [
       "  id_pedido id_cliente id_produto  quantidade  novo_pedido  \\\n",
       "0        O1      C5731        P16    0.913465            1   \n",
       "1        O2      C3541     P12802    0.663168            1   \n",
       "2        O3      C7402      P8320    0.629604            1   \n",
       "3        O4      C7356      P5165    0.618911            0   \n",
       "4        O5      C5806     P12940    0.053168            1   \n",
       "\n",
       "                 event_time  num_dias_ativos_des_ultima_compra  \n",
       "0  2024-11-27T05:02:16.934Z                           0.201550  \n",
       "1  2024-11-27T05:02:16.934Z                           0.575581  \n",
       "2  2024-11-27T05:02:16.934Z                           0.073643  \n",
       "3  2024-11-27T05:02:16.934Z                           0.552326  \n",
       "4  2024-11-27T05:02:16.934Z                           0.616279  "
      ]
     },
     "execution_count": 31,
     "metadata": {},
     "output_type": "execute_result"
    }
   ],
   "source": [
    "df_dsa_pedidos.head()"
   ]
  },
  {
   "cell_type": "code",
   "execution_count": 32,
   "metadata": {
    "tags": []
   },
   "outputs": [],
   "source": [
    "# Ajusta os tipos de dados de forma automática\n",
    "df_dsa_pedidos = df_dsa_pedidos.convert_dtypes(infer_objects=True, convert_boolean=False)"
   ]
  },
  {
   "cell_type": "code",
   "execution_count": 33,
   "metadata": {},
   "outputs": [],
   "source": [
    "# Ajusta o tipo de dado como string de forma explícita\n",
    "df_dsa_pedidos['id_pedido'] = df_dsa_pedidos['id_pedido'].astype('string')\n",
    "df_dsa_pedidos['id_cliente'] = df_dsa_pedidos['id_cliente'].astype('string')\n",
    "df_dsa_pedidos['id_produto'] = df_dsa_pedidos['id_produto'].astype('string')\n",
    "df_dsa_pedidos['event_time'] = df_dsa_pedidos['event_time'].astype('string')"
   ]
  },
  {
   "cell_type": "code",
   "execution_count": 34,
   "metadata": {},
   "outputs": [
    {
     "data": {
      "text/plain": [
       "id_pedido                            string[python]\n",
       "id_cliente                           string[python]\n",
       "id_produto                           string[python]\n",
       "quantidade                                  Float64\n",
       "novo_pedido                                   Int64\n",
       "event_time                           string[python]\n",
       "num_dias_ativos_des_ultima_compra           Float64\n",
       "dtype: object"
      ]
     },
     "execution_count": 34,
     "metadata": {},
     "output_type": "execute_result"
    }
   ],
   "source": [
    "df_dsa_pedidos.dtypes"
   ]
  },
  {
   "cell_type": "markdown",
   "metadata": {},
   "source": [
    "Esse código abaixo realiza duas ações:\n",
    "<!-- Projeto Desenvolvido na Data Science Academy - www.datascienceacademy.com.br -->\n",
    "**count_clientes = df_dsa_clientes.shape[0]:**\n",
    "\n",
    "Calcula o número de linhas no DataFrame df_dsa_clientes, o que corresponde à quantidade de registros (ou clientes, neste caso). A propriedade shape retorna uma tupla (n_linhas, n_colunas) e o índice [0] acessa o número de linhas.\n",
    "\n",
    "**%store count_clientes:**\n",
    "\n",
    "Este comando é uma magic command do IPython (usado, por exemplo, no Jupyter Notebook) que armazena a variável count_clientes no namespace persistente do IPython. Isso permite que o valor de customers_count esteja disponível em outras células ou sessões do mesmo ambiente, mesmo após reinicializações."
   ]
  },
  {
   "cell_type": "code",
   "execution_count": 35,
   "metadata": {},
   "outputs": [
    {
     "name": "stdout",
     "output_type": "stream",
     "text": [
      "Stored 'count_clientes' (int)\n"
     ]
    }
   ],
   "source": [
    "count_clientes = df_dsa_clientes.shape[0]\n",
    "%store count_clientes"
   ]
  },
  {
   "cell_type": "code",
   "execution_count": 36,
   "metadata": {},
   "outputs": [
    {
     "name": "stdout",
     "output_type": "stream",
     "text": [
      "Stored 'count_produtos' (int)\n"
     ]
    }
   ],
   "source": [
    "count_produtos = df_dsa_produtos.shape[0]\n",
    "%store count_produtos"
   ]
  },
  {
   "cell_type": "code",
   "execution_count": 37,
   "metadata": {},
   "outputs": [
    {
     "name": "stdout",
     "output_type": "stream",
     "text": [
      "Stored 'count_pedidos' (int)\n"
     ]
    }
   ],
   "source": [
    "count_pedidos = df_dsa_pedidos.shape[0]\n",
    "%store count_pedidos"
   ]
  },
  {
   "cell_type": "markdown",
   "metadata": {},
   "source": [
    "## Criando os Grupos de Recursos (Feature Groups)\n",
    "<!-- Projeto Desenvolvido na Data Science Academy - www.datascienceacademy.com.br -->"
   ]
  },
  {
   "cell_type": "code",
   "execution_count": 38,
   "metadata": {},
   "outputs": [],
   "source": [
    "# Captura a data corrente do sistema\n",
    "current_timestamp = strftime('%m-%d-%H-%M', gmtime())"
   ]
  },
  {
   "cell_type": "code",
   "execution_count": 39,
   "metadata": {},
   "outputs": [],
   "source": [
    "# Prefixo para rastrear todos os grupos de recursos criados\n",
    "fs_prefix = 'fsdsa-' "
   ]
  },
  {
   "cell_type": "code",
   "execution_count": 40,
   "metadata": {},
   "outputs": [
    {
     "name": "stdout",
     "output_type": "stream",
     "text": [
      "Stored 'clientes_feature_group_name' (str)\n",
      "Stored 'produtos_feature_group_name' (str)\n",
      "Stored 'pedidos_feature_group_name' (str)\n"
     ]
    }
   ],
   "source": [
    "clientes_feature_group_name = f'{fs_prefix}clientes-{current_timestamp}'\n",
    "%store clientes_feature_group_name\n",
    "produtos_feature_group_name = f'{fs_prefix}produtos-{current_timestamp}'\n",
    "%store produtos_feature_group_name\n",
    "pedidos_feature_group_name = f'{fs_prefix}pedidos-{current_timestamp}'\n",
    "%store pedidos_feature_group_name"
   ]
  },
  {
   "cell_type": "code",
   "execution_count": 41,
   "metadata": {},
   "outputs": [
    {
     "name": "stderr",
     "output_type": "stream",
     "text": [
      "Nome do Grupos de Recursos de Clientes = fsdsa-clientes-11-28-21-30\n",
      "Nome do Grupos de Recursos de Produtos = fsdsa-produtos-11-28-21-30\n",
      "Nome do Grupos de Recursos de Pedidos = fsdsa-pedidos-11-28-21-30\n"
     ]
    }
   ],
   "source": [
    "logger.info(f'Nome do Grupos de Recursos de Clientes = {clientes_feature_group_name}')\n",
    "logger.info(f'Nome do Grupos de Recursos de Produtos = {produtos_feature_group_name}')\n",
    "logger.info(f'Nome do Grupos de Recursos de Pedidos = {pedidos_feature_group_name}')"
   ]
  },
  {
   "cell_type": "markdown",
   "metadata": {},
   "source": [
    "Essa célula de código abaixo cria instâncias de FeatureGroup, que representam grupos de features organizadas no Amazon SageMaker Feature Store. Cada grupo é associado a um conjunto específico de dados ou entidade, como clientes, produtos ou pedidos."
   ]
  },
  {
   "cell_type": "code",
   "execution_count": 42,
   "metadata": {},
   "outputs": [],
   "source": [
    "# Cria os grupos\n",
    "clientes_feature_group = FeatureGroup(name = clientes_feature_group_name, sagemaker_session = sagemaker_session)\n",
    "produtos_feature_group = FeatureGroup(name = produtos_feature_group_name, sagemaker_session = sagemaker_session)\n",
    "pedidos_feature_group = FeatureGroup(name = pedidos_feature_group_name, sagemaker_session = sagemaker_session)"
   ]
  },
  {
   "cell_type": "markdown",
   "metadata": {},
   "source": [
    "## Criando as Definições de Features Para os Grupos de Recursos\n",
    "\n",
    "As linhas abaixo carregam as definições de features para cada Feature Group com base no DataFrame.\n",
    "\n",
    "**load_feature_definitions:**\n",
    "\n",
    "Esse método analisa o DataFrame fornecido (df_dsa_clientes) para identificar automaticamente as colunas e seus tipos de dados. A partir disso, ele define as features (colunas) que pertencem ao grupo clientes_feature_group e seus tipos de dados associados (ex.: String, Int64, Float64).\n",
    "\n",
    "Esse comando configura o esquema do Feature Group, incluindo:\n",
    "\n",
    "- Nomes das features (baseados nos nomes das colunas do DataFrame).\n",
    "- Tipos de dados de cada feature.\n",
    "\n",
    "Essa etapa é essencial para preparar o Feature Group antes de ingerir dados reais, garantindo que o armazenamento e o processamento das features no SageMaker Feature Store sejam consistentes com o DataFrame fornecido."
   ]
  },
  {
   "cell_type": "code",
   "execution_count": 43,
   "metadata": {},
   "outputs": [
    {
     "data": {
      "text/plain": [
       "[FeatureDefinition(feature_name='id_cliente', feature_type=<FeatureTypeEnum.STRING: 'String'>, collection_type=None),\n",
       " FeatureDefinition(feature_name='genero', feature_type=<FeatureTypeEnum.INTEGRAL: 'Integral'>, collection_type=None),\n",
       " FeatureDefinition(feature_name='casado', feature_type=<FeatureTypeEnum.INTEGRAL: 'Integral'>, collection_type=None),\n",
       " FeatureDefinition(feature_name='event_time', feature_type=<FeatureTypeEnum.STRING: 'String'>, collection_type=None),\n",
       " FeatureDefinition(feature_name='idade_18-29', feature_type=<FeatureTypeEnum.INTEGRAL: 'Integral'>, collection_type=None),\n",
       " FeatureDefinition(feature_name='idade_30-39', feature_type=<FeatureTypeEnum.INTEGRAL: 'Integral'>, collection_type=None),\n",
       " FeatureDefinition(feature_name='idade_40-49', feature_type=<FeatureTypeEnum.INTEGRAL: 'Integral'>, collection_type=None),\n",
       " FeatureDefinition(feature_name='idade_50-59', feature_type=<FeatureTypeEnum.INTEGRAL: 'Integral'>, collection_type=None),\n",
       " FeatureDefinition(feature_name='idade_60-69', feature_type=<FeatureTypeEnum.INTEGRAL: 'Integral'>, collection_type=None),\n",
       " FeatureDefinition(feature_name='idade_70-plus', feature_type=<FeatureTypeEnum.INTEGRAL: 'Integral'>, collection_type=None),\n",
       " FeatureDefinition(feature_name='num_dias_ativo', feature_type=<FeatureTypeEnum.FRACTIONAL: 'Fractional'>, collection_type=None)]"
      ]
     },
     "execution_count": 43,
     "metadata": {},
     "output_type": "execute_result"
    }
   ],
   "source": [
    "# Carrega definições dos atributos\n",
    "clientes_feature_group.load_feature_definitions(data_frame = df_dsa_clientes)"
   ]
  },
  {
   "cell_type": "code",
   "execution_count": 44,
   "metadata": {},
   "outputs": [
    {
     "data": {
      "text/plain": [
       "[FeatureDefinition(feature_name='id_produto', feature_type=<FeatureTypeEnum.STRING: 'String'>, collection_type=None),\n",
       " FeatureDefinition(feature_name='event_time', feature_type=<FeatureTypeEnum.STRING: 'String'>, collection_type=None),\n",
       " FeatureDefinition(feature_name='category_baby_food_formula', feature_type=<FeatureTypeEnum.INTEGRAL: 'Integral'>, collection_type=None),\n",
       " FeatureDefinition(feature_name='category_baking_ingredients', feature_type=<FeatureTypeEnum.INTEGRAL: 'Integral'>, collection_type=None),\n",
       " FeatureDefinition(feature_name='category_candy_chocolate', feature_type=<FeatureTypeEnum.INTEGRAL: 'Integral'>, collection_type=None),\n",
       " FeatureDefinition(feature_name='category_chips_pretzels', feature_type=<FeatureTypeEnum.INTEGRAL: 'Integral'>, collection_type=None),\n",
       " FeatureDefinition(feature_name='category_cleaning_products', feature_type=<FeatureTypeEnum.INTEGRAL: 'Integral'>, collection_type=None),\n",
       " FeatureDefinition(feature_name='category_coffee', feature_type=<FeatureTypeEnum.INTEGRAL: 'Integral'>, collection_type=None),\n",
       " FeatureDefinition(feature_name='category_cookies_cakes', feature_type=<FeatureTypeEnum.INTEGRAL: 'Integral'>, collection_type=None),\n",
       " FeatureDefinition(feature_name='category_crackers', feature_type=<FeatureTypeEnum.INTEGRAL: 'Integral'>, collection_type=None),\n",
       " FeatureDefinition(feature_name='category_energy_granola_bars', feature_type=<FeatureTypeEnum.INTEGRAL: 'Integral'>, collection_type=None),\n",
       " FeatureDefinition(feature_name='category_frozen_meals', feature_type=<FeatureTypeEnum.INTEGRAL: 'Integral'>, collection_type=None),\n",
       " FeatureDefinition(feature_name='category_hair_care', feature_type=<FeatureTypeEnum.INTEGRAL: 'Integral'>, collection_type=None),\n",
       " FeatureDefinition(feature_name='category_ice_cream_ice', feature_type=<FeatureTypeEnum.INTEGRAL: 'Integral'>, collection_type=None),\n",
       " FeatureDefinition(feature_name='category_juice_nectars', feature_type=<FeatureTypeEnum.INTEGRAL: 'Integral'>, collection_type=None),\n",
       " FeatureDefinition(feature_name='category_packaged_cheese', feature_type=<FeatureTypeEnum.INTEGRAL: 'Integral'>, collection_type=None),\n",
       " FeatureDefinition(feature_name='category_refrigerated', feature_type=<FeatureTypeEnum.INTEGRAL: 'Integral'>, collection_type=None),\n",
       " FeatureDefinition(feature_name='category_soup_broth_bouillon', feature_type=<FeatureTypeEnum.INTEGRAL: 'Integral'>, collection_type=None),\n",
       " FeatureDefinition(feature_name='category_spices_seasonings', feature_type=<FeatureTypeEnum.INTEGRAL: 'Integral'>, collection_type=None),\n",
       " FeatureDefinition(feature_name='category_tea', feature_type=<FeatureTypeEnum.INTEGRAL: 'Integral'>, collection_type=None),\n",
       " FeatureDefinition(feature_name='category_vitamins_supplements', feature_type=<FeatureTypeEnum.INTEGRAL: 'Integral'>, collection_type=None),\n",
       " FeatureDefinition(feature_name='category_yogurt', feature_type=<FeatureTypeEnum.INTEGRAL: 'Integral'>, collection_type=None)]"
      ]
     },
     "execution_count": 44,
     "metadata": {},
     "output_type": "execute_result"
    }
   ],
   "source": [
    "# Carrega definições dos atributos\n",
    "produtos_feature_group.load_feature_definitions(data_frame = df_dsa_produtos)"
   ]
  },
  {
   "cell_type": "code",
   "execution_count": 45,
   "metadata": {},
   "outputs": [
    {
     "data": {
      "text/plain": [
       "[FeatureDefinition(feature_name='id_pedido', feature_type=<FeatureTypeEnum.STRING: 'String'>, collection_type=None),\n",
       " FeatureDefinition(feature_name='id_cliente', feature_type=<FeatureTypeEnum.STRING: 'String'>, collection_type=None),\n",
       " FeatureDefinition(feature_name='id_produto', feature_type=<FeatureTypeEnum.STRING: 'String'>, collection_type=None),\n",
       " FeatureDefinition(feature_name='quantidade', feature_type=<FeatureTypeEnum.FRACTIONAL: 'Fractional'>, collection_type=None),\n",
       " FeatureDefinition(feature_name='novo_pedido', feature_type=<FeatureTypeEnum.INTEGRAL: 'Integral'>, collection_type=None),\n",
       " FeatureDefinition(feature_name='event_time', feature_type=<FeatureTypeEnum.STRING: 'String'>, collection_type=None),\n",
       " FeatureDefinition(feature_name='num_dias_ativos_des_ultima_compra', feature_type=<FeatureTypeEnum.FRACTIONAL: 'Fractional'>, collection_type=None)]"
      ]
     },
     "execution_count": 45,
     "metadata": {},
     "output_type": "execute_result"
    }
   ],
   "source": [
    "# Carrega definições dos atributos\n",
    "pedidos_feature_group.load_feature_definitions(data_frame = df_dsa_pedidos)"
   ]
  },
  {
   "cell_type": "markdown",
   "metadata": {},
   "source": [
    "## Armazenamento Offline da Feature Store - Apache Iceberg x AWS Glue"
   ]
  },
  {
   "cell_type": "markdown",
   "metadata": {},
   "source": [
    "O Amazon SageMaker Feature Store oferece suporte aos formatos de tabela AWS Glue e Apache Iceberg para o armazenamento offline. Você pode escolher o formato de tabela ao criar um novo grupo de recursos.\n",
    "\n",
    "Neste notebook, usaremos o formato de tabela Iceberg. Usar o Apache Iceberg para armazenar recursos acelera o desenvolvimento do modelo ao permitir um desempenho de consulta mais rápido ao extrair conjuntos de dados de treinamento de ML, aproveitando a compactação da tabela Iceberg. Dependendo do design dos seus grupos de recursos e sua escala, você pode experimentar melhorias de desempenho de consulta de treinamento de 10x a 100x usando esse novo recurso.\n",
    "\n",
    "Se precisar usar o formato de tabela Glue, atualize a variável abaixo para `'Glue'`. Para obter mais informações sobre formatos de armazenamento offline, consulte a [documentação](https://docs.aws.amazon.com/sagemaker/latest/dg/feature-store-offline.html)."
   ]
  },
  {
   "cell_type": "code",
   "execution_count": 46,
   "metadata": {
    "tags": []
   },
   "outputs": [],
   "source": [
    "# Define o formato das tabelas\n",
    "table_format_param = 'ICEBERG'"
   ]
  },
  {
   "cell_type": "code",
   "execution_count": 47,
   "metadata": {
    "tags": []
   },
   "outputs": [],
   "source": [
    "# Pode ser ajustado com Iceberg ou Glue\n",
    "if table_format_param == 'ICEBERG':\n",
    "    table_format = TableFormatEnum.ICEBERG\n",
    "else:\n",
    "    table_format = TableFormatEnum.GLUE"
   ]
  },
  {
   "cell_type": "markdown",
   "metadata": {},
   "source": [
    "## Usando Apache Iceberg Para o Armazenamento Offline da Feature Store"
   ]
  },
  {
   "cell_type": "code",
   "execution_count": 48,
   "metadata": {},
   "outputs": [],
   "source": [
    "# Define a função para armazenar um Feature Group\n",
    "def dsa_armazena_feature_group(feature_group):\n",
    "    \n",
    "    # Obtém o status inicial do Feature Group a partir de sua descrição\n",
    "    status = feature_group.describe().get('FeatureGroupStatus')\n",
    "    \n",
    "    # Exibe o status inicial no console\n",
    "    print(f'Status: {status}')\n",
    "    \n",
    "    # Enquanto o status for \"Creating\", continua aguardando\n",
    "    while status == 'Creating':\n",
    "        \n",
    "        # Registra no log que está aguardando a criação do Feature Group\n",
    "        logger.info(f'Esperando pelo feature group: {feature_group.name} ser criado...')\n",
    "        \n",
    "        # Aguarda 5 segundos antes de verificar o status novamente\n",
    "        time.sleep(5)\n",
    "        \n",
    "        # Atualiza o status do Feature Group\n",
    "        status = feature_group.describe().get('FeatureGroupStatus')\n",
    "    \n",
    "    # Se o status final não for \"Created\", encerra o programa com erro\n",
    "    if status != 'Created':\n",
    "        raise SystemExit(f'Falha ao criar o feature group {feature_group.name}: {status}')\n",
    "    \n",
    "    # Se o Feature Group foi criado com sucesso, registra a mensagem de sucesso no log\n",
    "    logger.info(f'Feature Group {feature_group.name} foi criado com sucesso.')"
   ]
  },
  {
   "cell_type": "code",
   "execution_count": 49,
   "metadata": {},
   "outputs": [
    {
     "data": {
      "text/plain": [
       "{'FeatureGroupArn': 'arn:aws:sagemaker:us-east-2:890582101704:feature-group/fsdsa-clientes-11-28-21-30',\n",
       " 'ResponseMetadata': {'RequestId': 'd7bffb8a-b612-4756-9f69-a987ebca30cc',\n",
       "  'HTTPStatusCode': 200,\n",
       "  'HTTPHeaders': {'x-amzn-requestid': 'd7bffb8a-b612-4756-9f69-a987ebca30cc',\n",
       "   'content-type': 'application/x-amz-json-1.1',\n",
       "   'content-length': '103',\n",
       "   'date': 'Thu, 28 Nov 2024 22:39:28 GMT'},\n",
       "  'RetryAttempts': 0}}"
      ]
     },
     "execution_count": 49,
     "metadata": {},
     "output_type": "execute_result"
    }
   ],
   "source": [
    "# Cria o repositório de armazenamento do feature group\n",
    "clientes_feature_group.create(s3_uri = f's3://{default_bucket}/{prefix}', \n",
    "                              record_identifier_name = 'id_cliente', \n",
    "                              event_time_feature_name = 'event_time', \n",
    "                              role_arn = role, \n",
    "                              enable_online_store = True,\n",
    "                              table_format = table_format)"
   ]
  },
  {
   "cell_type": "code",
   "execution_count": 50,
   "metadata": {},
   "outputs": [
    {
     "name": "stderr",
     "output_type": "stream",
     "text": [
      "Esperando pelo feature group: fsdsa-clientes-11-28-21-30 ser criado...\n"
     ]
    },
    {
     "name": "stdout",
     "output_type": "stream",
     "text": [
      "Status: Creating\n"
     ]
    },
    {
     "name": "stderr",
     "output_type": "stream",
     "text": [
      "Esperando pelo feature group: fsdsa-clientes-11-28-21-30 ser criado...\n",
      "Esperando pelo feature group: fsdsa-clientes-11-28-21-30 ser criado...\n",
      "Feature Group fsdsa-clientes-11-28-21-30 foi criado com sucesso.\n"
     ]
    }
   ],
   "source": [
    "# Verifica o status de armazenamento\n",
    "dsa_armazena_feature_group(clientes_feature_group)"
   ]
  },
  {
   "cell_type": "code",
   "execution_count": 51,
   "metadata": {},
   "outputs": [
    {
     "data": {
      "text/plain": [
       "{'FeatureGroupArn': 'arn:aws:sagemaker:us-east-2:890582101704:feature-group/fsdsa-produtos-11-28-21-30',\n",
       " 'ResponseMetadata': {'RequestId': '20679c6e-4d13-429c-be35-7bfed73dd565',\n",
       "  'HTTPStatusCode': 200,\n",
       "  'HTTPHeaders': {'x-amzn-requestid': '20679c6e-4d13-429c-be35-7bfed73dd565',\n",
       "   'content-type': 'application/x-amz-json-1.1',\n",
       "   'content-length': '103',\n",
       "   'date': 'Thu, 28 Nov 2024 22:46:33 GMT'},\n",
       "  'RetryAttempts': 0}}"
      ]
     },
     "execution_count": 51,
     "metadata": {},
     "output_type": "execute_result"
    }
   ],
   "source": [
    "# Cria o repositório de armazenamento do feature group\n",
    "produtos_feature_group.create(s3_uri = f's3://{default_bucket}/{prefix}', \n",
    "                              record_identifier_name = 'id_produto', \n",
    "                              event_time_feature_name = 'event_time', \n",
    "                              role_arn = role, \n",
    "                              enable_online_store = True,\n",
    "                              table_format = TableFormatEnum.ICEBERG)"
   ]
  },
  {
   "cell_type": "code",
   "execution_count": 52,
   "metadata": {},
   "outputs": [
    {
     "name": "stderr",
     "output_type": "stream",
     "text": [
      "Esperando pelo feature group: fsdsa-produtos-11-28-21-30 ser criado...\n"
     ]
    },
    {
     "name": "stdout",
     "output_type": "stream",
     "text": [
      "Status: Creating\n"
     ]
    },
    {
     "name": "stderr",
     "output_type": "stream",
     "text": [
      "Esperando pelo feature group: fsdsa-produtos-11-28-21-30 ser criado...\n",
      "Esperando pelo feature group: fsdsa-produtos-11-28-21-30 ser criado...\n",
      "Esperando pelo feature group: fsdsa-produtos-11-28-21-30 ser criado...\n",
      "Esperando pelo feature group: fsdsa-produtos-11-28-21-30 ser criado...\n",
      "Feature Group fsdsa-produtos-11-28-21-30 foi criado com sucesso.\n"
     ]
    }
   ],
   "source": [
    "# Verifica o status de armazenamento\n",
    "dsa_armazena_feature_group(produtos_feature_group)"
   ]
  },
  {
   "cell_type": "code",
   "execution_count": 53,
   "metadata": {},
   "outputs": [
    {
     "data": {
      "text/plain": [
       "{'FeatureGroupArn': 'arn:aws:sagemaker:us-east-2:890582101704:feature-group/fsdsa-pedidos-11-28-21-30',\n",
       " 'ResponseMetadata': {'RequestId': 'ef06bc08-3fe7-483b-8f54-1d2057787e92',\n",
       "  'HTTPStatusCode': 200,\n",
       "  'HTTPHeaders': {'x-amzn-requestid': 'ef06bc08-3fe7-483b-8f54-1d2057787e92',\n",
       "   'content-type': 'application/x-amz-json-1.1',\n",
       "   'content-length': '102',\n",
       "   'date': 'Thu, 28 Nov 2024 22:47:31 GMT'},\n",
       "  'RetryAttempts': 0}}"
      ]
     },
     "execution_count": 53,
     "metadata": {},
     "output_type": "execute_result"
    }
   ],
   "source": [
    "# Cria o repositório de armazenamento do feature group\n",
    "pedidos_feature_group.create(s3_uri = f's3://{default_bucket}/{prefix}', \n",
    "                             record_identifier_name = 'id_pedido', \n",
    "                             event_time_feature_name = 'event_time', \n",
    "                             role_arn = role, \n",
    "                             enable_online_store = True,\n",
    "                             table_format = TableFormatEnum.ICEBERG)"
   ]
  },
  {
   "cell_type": "code",
   "execution_count": 54,
   "metadata": {},
   "outputs": [
    {
     "name": "stderr",
     "output_type": "stream",
     "text": [
      "Esperando pelo feature group: fsdsa-pedidos-11-28-21-30 ser criado...\n"
     ]
    },
    {
     "name": "stdout",
     "output_type": "stream",
     "text": [
      "Status: Creating\n"
     ]
    },
    {
     "name": "stderr",
     "output_type": "stream",
     "text": [
      "Esperando pelo feature group: fsdsa-pedidos-11-28-21-30 ser criado...\n",
      "Esperando pelo feature group: fsdsa-pedidos-11-28-21-30 ser criado...\n",
      "Esperando pelo feature group: fsdsa-pedidos-11-28-21-30 ser criado...\n",
      "Feature Group fsdsa-pedidos-11-28-21-30 foi criado com sucesso.\n"
     ]
    }
   ],
   "source": [
    "dsa_armazena_feature_group(pedidos_feature_group)"
   ]
  },
  {
   "cell_type": "markdown",
   "metadata": {},
   "source": [
    "## Ingestão de Dados nos Grupos de Recursos"
   ]
  },
  {
   "cell_type": "code",
   "execution_count": 55,
   "metadata": {},
   "outputs": [
    {
     "name": "stderr",
     "output_type": "stream",
     "text": [
      "Ingestão de Dados no Grupo de Recursos: fsdsa-clientes-11-28-21-30 ...\n",
      "10000 registros de clientes ingeridos no grupo de recursos: fsdsa-clientes-11-28-21-30\n"
     ]
    },
    {
     "name": "stdout",
     "output_type": "stream",
     "text": [
      "CPU times: user 216 ms, sys: 219 ms, total: 435 ms\n",
      "Wall time: 15.9 s\n"
     ]
    }
   ],
   "source": [
    "%%time\n",
    "\n",
    "logger.info(f'Ingestão de Dados no Grupo de Recursos: {clientes_feature_group.name} ...')\n",
    "clientes_feature_group.ingest(data_frame=df_dsa_clientes, max_processes=16, wait=True)\n",
    "logger.info(f'{len(df_dsa_clientes)} registros de clientes ingeridos no grupo de recursos: {clientes_feature_group.name}')"
   ]
  },
  {
   "cell_type": "code",
   "execution_count": 56,
   "metadata": {},
   "outputs": [
    {
     "name": "stderr",
     "output_type": "stream",
     "text": [
      "Ingestão de Dados no Grupo de Recursos: fsdsa-produtos-11-28-21-30 ...\n",
      "17001 registros de produtos ingeridos no grupo de recursos: fsdsa-produtos-11-28-21-30\n"
     ]
    },
    {
     "name": "stdout",
     "output_type": "stream",
     "text": [
      "CPU times: user 297 ms, sys: 177 ms, total: 474 ms\n",
      "Wall time: 24.1 s\n"
     ]
    }
   ],
   "source": [
    "%%time\n",
    "\n",
    "logger.info(f'Ingestão de Dados no Grupo de Recursos: {produtos_feature_group.name} ...')\n",
    "produtos_feature_group.ingest(data_frame=df_dsa_produtos, max_processes=16, wait=True)\n",
    "logger.info(f'{len(df_dsa_produtos)} registros de produtos ingeridos no grupo de recursos: {produtos_feature_group.name}')  "
   ]
  },
  {
   "cell_type": "code",
   "execution_count": 57,
   "metadata": {},
   "outputs": [
    {
     "name": "stderr",
     "output_type": "stream",
     "text": [
      "Ingestão de Dados no Grupo de Recursos: fsdsa-pedidos-11-28-21-30 ...\n",
      "100000 registros de pedidos ingeridos no grupo de recursos: fsdsa-pedidos-11-28-21-30\n"
     ]
    },
    {
     "name": "stdout",
     "output_type": "stream",
     "text": [
      "CPU times: user 1.38 s, sys: 228 ms, total: 1.61 s\n",
      "Wall time: 1min 43s\n"
     ]
    }
   ],
   "source": [
    "%%time\n",
    "\n",
    "logger.info(f'Ingestão de Dados no Grupo de Recursos: {pedidos_feature_group.name} ...')\n",
    "pedidos_feature_group.ingest(data_frame=df_dsa_pedidos, max_processes=16, wait=True)\n",
    "logger.info(f'{len(df_dsa_pedidos)} registros de pedidos ingeridos no grupo de recursos: {pedidos_feature_group.name}')"
   ]
  },
  {
   "cell_type": "markdown",
   "metadata": {},
   "source": [
    "## Recuperando Dados da Feature Store Online"
   ]
  },
  {
   "cell_type": "code",
   "execution_count": 58,
   "metadata": {},
   "outputs": [],
   "source": [
    "# Cria o cliente de conexão\n",
    "featurestore_runtime_client = sagemaker_session.boto_session.client('sagemaker-featurestore-runtime', region_name = region)"
   ]
  },
  {
   "cell_type": "markdown",
   "metadata": {},
   "source": [
    "Retrieve a record from customers feature group"
   ]
  },
  {
   "cell_type": "code",
   "execution_count": 59,
   "metadata": {},
   "outputs": [
    {
     "name": "stderr",
     "output_type": "stream",
     "text": [
      "id_cliente = C6593\n"
     ]
    }
   ],
   "source": [
    "# Aleatoriamente geramos um id de cliente\n",
    "id_cliente =  f'C{randint(1, 10000)}'\n",
    "logger.info(f'id_cliente = {id_cliente}') "
   ]
  },
  {
   "cell_type": "code",
   "execution_count": 60,
   "metadata": {},
   "outputs": [],
   "source": [
    "# Buscamos o registro associado ao id do cliente no grupo de recursos\n",
    "feature_record = featurestore_runtime_client.get_record(FeatureGroupName = clientes_feature_group.name, \n",
    "                                                        RecordIdentifierValueAsString = id_cliente)"
   ]
  },
  {
   "cell_type": "code",
   "execution_count": 61,
   "metadata": {},
   "outputs": [
    {
     "data": {
      "text/plain": [
       "{'ResponseMetadata': {'RequestId': 'f815922a-d6f0-42b1-aeaa-d509bcad3ed9',\n",
       "  'HTTPStatusCode': 200,\n",
       "  'HTTPHeaders': {'x-amzn-requestid': 'f815922a-d6f0-42b1-aeaa-d509bcad3ed9',\n",
       "   'content-type': 'application/json',\n",
       "   'content-length': '891',\n",
       "   'date': 'Thu, 28 Nov 2024 23:28:55 GMT'},\n",
       "  'RetryAttempts': 0},\n",
       " 'Record': [{'FeatureName': 'id_cliente', 'ValueAsString': 'C6593'},\n",
       "  {'FeatureName': 'genero', 'ValueAsString': '1'},\n",
       "  {'FeatureName': 'casado', 'ValueAsString': '1'},\n",
       "  {'FeatureName': 'event_time', 'ValueAsString': '2024-11-27T04:58:03.278Z'},\n",
       "  {'FeatureName': 'idade_18-29', 'ValueAsString': '0'},\n",
       "  {'FeatureName': 'idade_30-39', 'ValueAsString': '1'},\n",
       "  {'FeatureName': 'idade_40-49', 'ValueAsString': '0'},\n",
       "  {'FeatureName': 'idade_50-59', 'ValueAsString': '0'},\n",
       "  {'FeatureName': 'idade_60-69', 'ValueAsString': '0'},\n",
       "  {'FeatureName': 'idade_70-plus', 'ValueAsString': '0'},\n",
       "  {'FeatureName': 'num_dias_ativo', 'ValueAsString': '0.2924657534246575'}]}"
      ]
     },
     "execution_count": 61,
     "metadata": {},
     "output_type": "execute_result"
    }
   ],
   "source": [
    "feature_record"
   ]
  },
  {
   "cell_type": "markdown",
   "metadata": {},
   "source": [
    "## Listando os Grupos de Recursos"
   ]
  },
  {
   "cell_type": "code",
   "execution_count": 62,
   "metadata": {},
   "outputs": [
    {
     "name": "stdout",
     "output_type": "stream",
     "text": [
      "Feature Group Name: fsdsa-produtos-11-28-21-30\n",
      "Feature Group Name: fsdsa-pedidos-11-28-21-30\n",
      "Feature Group Name: fsdsa-clientes-11-28-21-30\n"
     ]
    }
   ],
   "source": [
    "# Inicializa o cliente do SageMaker\n",
    "sagemaker_client = boto3.client('sagemaker')\n",
    "\n",
    "# Lista os Feature Groups\n",
    "response = sagemaker_client.list_feature_groups()\n",
    "\n",
    "# Itera sobre os Feature Groups e exibe os nomes\n",
    "feature_groups = response.get('FeatureGroupSummaries', [])\n",
    "for fg in feature_groups:\n",
    "    print(f\"Feature Group Name: {fg['FeatureGroupName']}\")"
   ]
  },
  {
   "cell_type": "markdown",
   "metadata": {},
   "source": [
    "## Deletando os Grupos de Recursos de Forma Automática"
   ]
  },
  {
   "cell_type": "code",
   "execution_count": 63,
   "metadata": {},
   "outputs": [
    {
     "name": "stdout",
     "output_type": "stream",
     "text": [
      "Feature Group 'fsdsa-produtos-11-28-21-30' deletado com sucesso.\n",
      "Feature Group 'fsdsa-pedidos-11-28-21-30' deletado com sucesso.\n",
      "Feature Group 'fsdsa-clientes-11-28-21-30' deletado com sucesso.\n"
     ]
    }
   ],
   "source": [
    "# Inicializa o cliente do SageMaker e a sessão do SageMaker\n",
    "sagemaker_client = boto3.client('sagemaker')\n",
    "from sagemaker.session import Session\n",
    "sagemaker_session = Session()\n",
    "\n",
    "# Lista os Feature Groups\n",
    "response = sagemaker_client.list_feature_groups()\n",
    "feature_groups = response.get('FeatureGroupSummaries', [])\n",
    "\n",
    "# Itera sobre os Feature Groups e os deleta\n",
    "for fg in feature_groups:\n",
    "    feature_group_name = fg['FeatureGroupName']\n",
    "    feature_group = FeatureGroup(name=feature_group_name, sagemaker_session=sagemaker_session)\n",
    "    try:\n",
    "        feature_group.delete()\n",
    "        print(f\"Feature Group '{feature_group_name}' deletado com sucesso.\")\n",
    "    except Exception as e:\n",
    "        print(f\"Erro ao deletar o Feature Group '{feature_group_name}': {str(e)}\")"
   ]
  },
  {
   "cell_type": "markdown",
   "metadata": {},
   "source": [
    "# Fim"
   ]
  }
 ],
 "metadata": {
  "availableInstances": [
   {
    "_defaultOrder": 0,
    "_isFastLaunch": true,
    "category": "General purpose",
    "gpuNum": 0,
    "hideHardwareSpecs": false,
    "memoryGiB": 4,
    "name": "ml.t3.medium",
    "vcpuNum": 2
   },
   {
    "_defaultOrder": 1,
    "_isFastLaunch": false,
    "category": "General purpose",
    "gpuNum": 0,
    "hideHardwareSpecs": false,
    "memoryGiB": 8,
    "name": "ml.t3.large",
    "vcpuNum": 2
   },
   {
    "_defaultOrder": 2,
    "_isFastLaunch": false,
    "category": "General purpose",
    "gpuNum": 0,
    "hideHardwareSpecs": false,
    "memoryGiB": 16,
    "name": "ml.t3.xlarge",
    "vcpuNum": 4
   },
   {
    "_defaultOrder": 3,
    "_isFastLaunch": false,
    "category": "General purpose",
    "gpuNum": 0,
    "hideHardwareSpecs": false,
    "memoryGiB": 32,
    "name": "ml.t3.2xlarge",
    "vcpuNum": 8
   },
   {
    "_defaultOrder": 4,
    "_isFastLaunch": true,
    "category": "General purpose",
    "gpuNum": 0,
    "hideHardwareSpecs": false,
    "memoryGiB": 8,
    "name": "ml.m5.large",
    "vcpuNum": 2
   },
   {
    "_defaultOrder": 5,
    "_isFastLaunch": false,
    "category": "General purpose",
    "gpuNum": 0,
    "hideHardwareSpecs": false,
    "memoryGiB": 16,
    "name": "ml.m5.xlarge",
    "vcpuNum": 4
   },
   {
    "_defaultOrder": 6,
    "_isFastLaunch": false,
    "category": "General purpose",
    "gpuNum": 0,
    "hideHardwareSpecs": false,
    "memoryGiB": 32,
    "name": "ml.m5.2xlarge",
    "vcpuNum": 8
   },
   {
    "_defaultOrder": 7,
    "_isFastLaunch": false,
    "category": "General purpose",
    "gpuNum": 0,
    "hideHardwareSpecs": false,
    "memoryGiB": 64,
    "name": "ml.m5.4xlarge",
    "vcpuNum": 16
   },
   {
    "_defaultOrder": 8,
    "_isFastLaunch": false,
    "category": "General purpose",
    "gpuNum": 0,
    "hideHardwareSpecs": false,
    "memoryGiB": 128,
    "name": "ml.m5.8xlarge",
    "vcpuNum": 32
   },
   {
    "_defaultOrder": 9,
    "_isFastLaunch": false,
    "category": "General purpose",
    "gpuNum": 0,
    "hideHardwareSpecs": false,
    "memoryGiB": 192,
    "name": "ml.m5.12xlarge",
    "vcpuNum": 48
   },
   {
    "_defaultOrder": 10,
    "_isFastLaunch": false,
    "category": "General purpose",
    "gpuNum": 0,
    "hideHardwareSpecs": false,
    "memoryGiB": 256,
    "name": "ml.m5.16xlarge",
    "vcpuNum": 64
   },
   {
    "_defaultOrder": 11,
    "_isFastLaunch": false,
    "category": "General purpose",
    "gpuNum": 0,
    "hideHardwareSpecs": false,
    "memoryGiB": 384,
    "name": "ml.m5.24xlarge",
    "vcpuNum": 96
   },
   {
    "_defaultOrder": 12,
    "_isFastLaunch": false,
    "category": "General purpose",
    "gpuNum": 0,
    "hideHardwareSpecs": false,
    "memoryGiB": 8,
    "name": "ml.m5d.large",
    "vcpuNum": 2
   },
   {
    "_defaultOrder": 13,
    "_isFastLaunch": false,
    "category": "General purpose",
    "gpuNum": 0,
    "hideHardwareSpecs": false,
    "memoryGiB": 16,
    "name": "ml.m5d.xlarge",
    "vcpuNum": 4
   },
   {
    "_defaultOrder": 14,
    "_isFastLaunch": false,
    "category": "General purpose",
    "gpuNum": 0,
    "hideHardwareSpecs": false,
    "memoryGiB": 32,
    "name": "ml.m5d.2xlarge",
    "vcpuNum": 8
   },
   {
    "_defaultOrder": 15,
    "_isFastLaunch": false,
    "category": "General purpose",
    "gpuNum": 0,
    "hideHardwareSpecs": false,
    "memoryGiB": 64,
    "name": "ml.m5d.4xlarge",
    "vcpuNum": 16
   },
   {
    "_defaultOrder": 16,
    "_isFastLaunch": false,
    "category": "General purpose",
    "gpuNum": 0,
    "hideHardwareSpecs": false,
    "memoryGiB": 128,
    "name": "ml.m5d.8xlarge",
    "vcpuNum": 32
   },
   {
    "_defaultOrder": 17,
    "_isFastLaunch": false,
    "category": "General purpose",
    "gpuNum": 0,
    "hideHardwareSpecs": false,
    "memoryGiB": 192,
    "name": "ml.m5d.12xlarge",
    "vcpuNum": 48
   },
   {
    "_defaultOrder": 18,
    "_isFastLaunch": false,
    "category": "General purpose",
    "gpuNum": 0,
    "hideHardwareSpecs": false,
    "memoryGiB": 256,
    "name": "ml.m5d.16xlarge",
    "vcpuNum": 64
   },
   {
    "_defaultOrder": 19,
    "_isFastLaunch": false,
    "category": "General purpose",
    "gpuNum": 0,
    "hideHardwareSpecs": false,
    "memoryGiB": 384,
    "name": "ml.m5d.24xlarge",
    "vcpuNum": 96
   },
   {
    "_defaultOrder": 20,
    "_isFastLaunch": false,
    "category": "General purpose",
    "gpuNum": 0,
    "hideHardwareSpecs": true,
    "memoryGiB": 0,
    "name": "ml.geospatial.interactive",
    "supportedImageNames": [
     "sagemaker-geospatial-v1-0"
    ],
    "vcpuNum": 0
   },
   {
    "_defaultOrder": 21,
    "_isFastLaunch": true,
    "category": "Compute optimized",
    "gpuNum": 0,
    "hideHardwareSpecs": false,
    "memoryGiB": 4,
    "name": "ml.c5.large",
    "vcpuNum": 2
   },
   {
    "_defaultOrder": 22,
    "_isFastLaunch": false,
    "category": "Compute optimized",
    "gpuNum": 0,
    "hideHardwareSpecs": false,
    "memoryGiB": 8,
    "name": "ml.c5.xlarge",
    "vcpuNum": 4
   },
   {
    "_defaultOrder": 23,
    "_isFastLaunch": false,
    "category": "Compute optimized",
    "gpuNum": 0,
    "hideHardwareSpecs": false,
    "memoryGiB": 16,
    "name": "ml.c5.2xlarge",
    "vcpuNum": 8
   },
   {
    "_defaultOrder": 24,
    "_isFastLaunch": false,
    "category": "Compute optimized",
    "gpuNum": 0,
    "hideHardwareSpecs": false,
    "memoryGiB": 32,
    "name": "ml.c5.4xlarge",
    "vcpuNum": 16
   },
   {
    "_defaultOrder": 25,
    "_isFastLaunch": false,
    "category": "Compute optimized",
    "gpuNum": 0,
    "hideHardwareSpecs": false,
    "memoryGiB": 72,
    "name": "ml.c5.9xlarge",
    "vcpuNum": 36
   },
   {
    "_defaultOrder": 26,
    "_isFastLaunch": false,
    "category": "Compute optimized",
    "gpuNum": 0,
    "hideHardwareSpecs": false,
    "memoryGiB": 96,
    "name": "ml.c5.12xlarge",
    "vcpuNum": 48
   },
   {
    "_defaultOrder": 27,
    "_isFastLaunch": false,
    "category": "Compute optimized",
    "gpuNum": 0,
    "hideHardwareSpecs": false,
    "memoryGiB": 144,
    "name": "ml.c5.18xlarge",
    "vcpuNum": 72
   },
   {
    "_defaultOrder": 28,
    "_isFastLaunch": false,
    "category": "Compute optimized",
    "gpuNum": 0,
    "hideHardwareSpecs": false,
    "memoryGiB": 192,
    "name": "ml.c5.24xlarge",
    "vcpuNum": 96
   },
   {
    "_defaultOrder": 29,
    "_isFastLaunch": true,
    "category": "Accelerated computing",
    "gpuNum": 1,
    "hideHardwareSpecs": false,
    "memoryGiB": 16,
    "name": "ml.g4dn.xlarge",
    "vcpuNum": 4
   },
   {
    "_defaultOrder": 30,
    "_isFastLaunch": false,
    "category": "Accelerated computing",
    "gpuNum": 1,
    "hideHardwareSpecs": false,
    "memoryGiB": 32,
    "name": "ml.g4dn.2xlarge",
    "vcpuNum": 8
   },
   {
    "_defaultOrder": 31,
    "_isFastLaunch": false,
    "category": "Accelerated computing",
    "gpuNum": 1,
    "hideHardwareSpecs": false,
    "memoryGiB": 64,
    "name": "ml.g4dn.4xlarge",
    "vcpuNum": 16
   },
   {
    "_defaultOrder": 32,
    "_isFastLaunch": false,
    "category": "Accelerated computing",
    "gpuNum": 1,
    "hideHardwareSpecs": false,
    "memoryGiB": 128,
    "name": "ml.g4dn.8xlarge",
    "vcpuNum": 32
   },
   {
    "_defaultOrder": 33,
    "_isFastLaunch": false,
    "category": "Accelerated computing",
    "gpuNum": 4,
    "hideHardwareSpecs": false,
    "memoryGiB": 192,
    "name": "ml.g4dn.12xlarge",
    "vcpuNum": 48
   },
   {
    "_defaultOrder": 34,
    "_isFastLaunch": false,
    "category": "Accelerated computing",
    "gpuNum": 1,
    "hideHardwareSpecs": false,
    "memoryGiB": 256,
    "name": "ml.g4dn.16xlarge",
    "vcpuNum": 64
   },
   {
    "_defaultOrder": 35,
    "_isFastLaunch": false,
    "category": "Accelerated computing",
    "gpuNum": 1,
    "hideHardwareSpecs": false,
    "memoryGiB": 61,
    "name": "ml.p3.2xlarge",
    "vcpuNum": 8
   },
   {
    "_defaultOrder": 36,
    "_isFastLaunch": false,
    "category": "Accelerated computing",
    "gpuNum": 4,
    "hideHardwareSpecs": false,
    "memoryGiB": 244,
    "name": "ml.p3.8xlarge",
    "vcpuNum": 32
   },
   {
    "_defaultOrder": 37,
    "_isFastLaunch": false,
    "category": "Accelerated computing",
    "gpuNum": 8,
    "hideHardwareSpecs": false,
    "memoryGiB": 488,
    "name": "ml.p3.16xlarge",
    "vcpuNum": 64
   },
   {
    "_defaultOrder": 38,
    "_isFastLaunch": false,
    "category": "Accelerated computing",
    "gpuNum": 8,
    "hideHardwareSpecs": false,
    "memoryGiB": 768,
    "name": "ml.p3dn.24xlarge",
    "vcpuNum": 96
   },
   {
    "_defaultOrder": 39,
    "_isFastLaunch": false,
    "category": "Memory Optimized",
    "gpuNum": 0,
    "hideHardwareSpecs": false,
    "memoryGiB": 16,
    "name": "ml.r5.large",
    "vcpuNum": 2
   },
   {
    "_defaultOrder": 40,
    "_isFastLaunch": false,
    "category": "Memory Optimized",
    "gpuNum": 0,
    "hideHardwareSpecs": false,
    "memoryGiB": 32,
    "name": "ml.r5.xlarge",
    "vcpuNum": 4
   },
   {
    "_defaultOrder": 41,
    "_isFastLaunch": false,
    "category": "Memory Optimized",
    "gpuNum": 0,
    "hideHardwareSpecs": false,
    "memoryGiB": 64,
    "name": "ml.r5.2xlarge",
    "vcpuNum": 8
   },
   {
    "_defaultOrder": 42,
    "_isFastLaunch": false,
    "category": "Memory Optimized",
    "gpuNum": 0,
    "hideHardwareSpecs": false,
    "memoryGiB": 128,
    "name": "ml.r5.4xlarge",
    "vcpuNum": 16
   },
   {
    "_defaultOrder": 43,
    "_isFastLaunch": false,
    "category": "Memory Optimized",
    "gpuNum": 0,
    "hideHardwareSpecs": false,
    "memoryGiB": 256,
    "name": "ml.r5.8xlarge",
    "vcpuNum": 32
   },
   {
    "_defaultOrder": 44,
    "_isFastLaunch": false,
    "category": "Memory Optimized",
    "gpuNum": 0,
    "hideHardwareSpecs": false,
    "memoryGiB": 384,
    "name": "ml.r5.12xlarge",
    "vcpuNum": 48
   },
   {
    "_defaultOrder": 45,
    "_isFastLaunch": false,
    "category": "Memory Optimized",
    "gpuNum": 0,
    "hideHardwareSpecs": false,
    "memoryGiB": 512,
    "name": "ml.r5.16xlarge",
    "vcpuNum": 64
   },
   {
    "_defaultOrder": 46,
    "_isFastLaunch": false,
    "category": "Memory Optimized",
    "gpuNum": 0,
    "hideHardwareSpecs": false,
    "memoryGiB": 768,
    "name": "ml.r5.24xlarge",
    "vcpuNum": 96
   },
   {
    "_defaultOrder": 47,
    "_isFastLaunch": false,
    "category": "Accelerated computing",
    "gpuNum": 1,
    "hideHardwareSpecs": false,
    "memoryGiB": 16,
    "name": "ml.g5.xlarge",
    "vcpuNum": 4
   },
   {
    "_defaultOrder": 48,
    "_isFastLaunch": false,
    "category": "Accelerated computing",
    "gpuNum": 1,
    "hideHardwareSpecs": false,
    "memoryGiB": 32,
    "name": "ml.g5.2xlarge",
    "vcpuNum": 8
   },
   {
    "_defaultOrder": 49,
    "_isFastLaunch": false,
    "category": "Accelerated computing",
    "gpuNum": 1,
    "hideHardwareSpecs": false,
    "memoryGiB": 64,
    "name": "ml.g5.4xlarge",
    "vcpuNum": 16
   },
   {
    "_defaultOrder": 50,
    "_isFastLaunch": false,
    "category": "Accelerated computing",
    "gpuNum": 1,
    "hideHardwareSpecs": false,
    "memoryGiB": 128,
    "name": "ml.g5.8xlarge",
    "vcpuNum": 32
   },
   {
    "_defaultOrder": 51,
    "_isFastLaunch": false,
    "category": "Accelerated computing",
    "gpuNum": 1,
    "hideHardwareSpecs": false,
    "memoryGiB": 256,
    "name": "ml.g5.16xlarge",
    "vcpuNum": 64
   },
   {
    "_defaultOrder": 52,
    "_isFastLaunch": false,
    "category": "Accelerated computing",
    "gpuNum": 4,
    "hideHardwareSpecs": false,
    "memoryGiB": 192,
    "name": "ml.g5.12xlarge",
    "vcpuNum": 48
   },
   {
    "_defaultOrder": 53,
    "_isFastLaunch": false,
    "category": "Accelerated computing",
    "gpuNum": 4,
    "hideHardwareSpecs": false,
    "memoryGiB": 384,
    "name": "ml.g5.24xlarge",
    "vcpuNum": 96
   },
   {
    "_defaultOrder": 54,
    "_isFastLaunch": false,
    "category": "Accelerated computing",
    "gpuNum": 8,
    "hideHardwareSpecs": false,
    "memoryGiB": 768,
    "name": "ml.g5.48xlarge",
    "vcpuNum": 192
   },
   {
    "_defaultOrder": 55,
    "_isFastLaunch": false,
    "category": "Accelerated computing",
    "gpuNum": 8,
    "hideHardwareSpecs": false,
    "memoryGiB": 1152,
    "name": "ml.p4d.24xlarge",
    "vcpuNum": 96
   },
   {
    "_defaultOrder": 56,
    "_isFastLaunch": false,
    "category": "Accelerated computing",
    "gpuNum": 8,
    "hideHardwareSpecs": false,
    "memoryGiB": 1152,
    "name": "ml.p4de.24xlarge",
    "vcpuNum": 96
   },
   {
    "_defaultOrder": 57,
    "_isFastLaunch": false,
    "category": "Accelerated computing",
    "gpuNum": 0,
    "hideHardwareSpecs": false,
    "memoryGiB": 32,
    "name": "ml.trn1.2xlarge",
    "vcpuNum": 8
   },
   {
    "_defaultOrder": 58,
    "_isFastLaunch": false,
    "category": "Accelerated computing",
    "gpuNum": 0,
    "hideHardwareSpecs": false,
    "memoryGiB": 512,
    "name": "ml.trn1.32xlarge",
    "vcpuNum": 128
   },
   {
    "_defaultOrder": 59,
    "_isFastLaunch": false,
    "category": "Accelerated computing",
    "gpuNum": 0,
    "hideHardwareSpecs": false,
    "memoryGiB": 512,
    "name": "ml.trn1n.32xlarge",
    "vcpuNum": 128
   }
  ],
  "instance_type": "ml.t3.medium",
  "kernelspec": {
   "display_name": "Python 3 (ipykernel)",
   "language": "python",
   "name": "python3"
  },
  "language_info": {
   "codemirror_mode": {
    "name": "ipython",
    "version": 3
   },
   "file_extension": ".py",
   "mimetype": "text/x-python",
   "name": "python",
   "nbconvert_exporter": "python",
   "pygments_lexer": "ipython3",
   "version": "3.11.10"
  }
 },
 "nbformat": 4,
 "nbformat_minor": 4
}
