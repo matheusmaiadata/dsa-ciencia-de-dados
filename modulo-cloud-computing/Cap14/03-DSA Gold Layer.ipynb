{
 "cells": [
  {
   "cell_type": "markdown",
   "id": "fd7a2872-25d1-4016-9bd4-96796b338482",
   "metadata": {
    "microsoft": {
     "language": "python",
     "language_group": "synapse_pyspark"
    },
    "nteract": {
     "transient": {
      "deleting": false
     }
    }
   },
   "source": [
    "<!-- Projeto Desenvolvido na Data Science Academy - www.datascienceacademy.com.br -->\n",
    "# <font color='blue'>Data Science Academy</font>\n",
    "## <font color='blue'>Microsoft Fabric</font>\n",
    "## <font color='blue'>Gold Layer</font>\n",
    "\n",
    "Acompanhe as instruções no capítulo do curso."
   ]
  },
  {
   "cell_type": "code",
   "execution_count": null,
   "id": "3f3a8275-8967-4818-9fbf-78d3e217091b",
   "metadata": {
    "jupyter": {
     "outputs_hidden": false,
     "source_hidden": false
    },
    "microsoft": {
     "language": "python",
     "language_group": "synapse_pyspark"
    },
    "nteract": {
     "transient": {
      "deleting": false
     }
    }
   },
   "outputs": [],
   "source": [
    "# Imports\n",
    "from pyspark.sql.functions import when, col, udf\n",
    "from pyspark.sql.types import StringType"
   ]
  },
  {
   "cell_type": "code",
   "execution_count": null,
   "id": "7b306fa7-5381-4af5-a843-2c077a4e0d6a",
   "metadata": {
    "jupyter": {
     "outputs_hidden": false,
     "source_hidden": false
    },
    "microsoft": {
     "language": "python",
     "language_group": "synapse_pyspark"
    },
    "nteract": {
     "transient": {
      "deleting": false
     }
    }
   },
   "outputs": [
    {
     "data": {
      "application/vnd.livy.statement-meta+json": {
       "execution_finish_time": "2024-12-30T16:47:15.6496801Z",
       "execution_start_time": "2024-12-30T16:47:15.3820221Z",
       "livy_statement_state": "available",
       "normalized_state": "finished",
       "parent_msg_id": "70aea19f-e227-4292-adc4-650402b55688",
       "queued_time": "2024-12-30T16:47:06.4449357Z",
       "session_id": "ef9c8f1e-3c69-473c-99e1-159ed26ad8da",
       "session_start_time": null,
       "spark_pool": null,
       "state": "finished",
       "statement_id": 4,
       "statement_ids": [
        4
       ]
      },
      "text/plain": [
       "StatementMeta(, ef9c8f1e-3c69-473c-99e1-159ed26ad8da, 4, Finished, Available, Finished)"
      ]
     },
     "metadata": {},
     "output_type": "display_data"
    }
   ],
   "source": [
    "# Datas\n",
    "start_date = '2025-07-17'\n",
    "end_date = '2025-07-19'"
   ]
  },
  {
   "cell_type": "code",
   "execution_count": 3,
   "id": "2289184f-df5f-40d8-a7d9-0eb72bb188e6",
   "metadata": {
    "jupyter": {
     "outputs_hidden": false,
     "source_hidden": false
    },
    "microsoft": {
     "language": "python",
     "language_group": "synapse_pyspark"
    },
    "nteract": {
     "transient": {
      "deleting": false
     }
    }
   },
   "outputs": [
    {
     "data": {
      "application/vnd.livy.statement-meta+json": {
       "execution_finish_time": "2024-12-30T16:47:32.7563425Z",
       "execution_start_time": "2024-12-30T16:47:16.1295459Z",
       "livy_statement_state": "available",
       "normalized_state": "finished",
       "parent_msg_id": "f6d85a6b-d946-44e6-acd4-d71b02926f8b",
       "queued_time": "2024-12-30T16:47:06.4458203Z",
       "session_id": "ef9c8f1e-3c69-473c-99e1-159ed26ad8da",
       "session_start_time": null,
       "spark_pool": null,
       "state": "finished",
       "statement_id": 5,
       "statement_ids": [
        5
       ]
      },
      "text/plain": [
       "StatementMeta(, ef9c8f1e-3c69-473c-99e1-159ed26ad8da, 5, Finished, Available, Finished)"
      ]
     },
     "metadata": {},
     "output_type": "display_data"
    }
   ],
   "source": [
    "# Importa a tabela silver em um dataframe do Spark\n",
    "df_dsa = spark.read.table(\"dsa_terremotos_silver\").filter(col('time') > start_date)"
   ]
  },
  {
   "cell_type": "markdown",
   "id": "2d9818dd-3beb-45cf-b800-7042cf0fbcc5",
   "metadata": {
    "microsoft": {
     "language": "python",
     "language_group": "synapse_pyspark"
    },
    "nteract": {
     "transient": {
      "deleting": false
     }
    }
   },
   "source": [
    "A \"sig_class\" (significância de classificação) de terremotos é um parâmetro que pode ser usado para categorizar ou avaliar a significância de um evento sísmico com base em diversos critérios, como magnitude, profundidade, localização e impacto potencial. Esse conceito geralmente está associado ao cálculo da \"significância\" em bases de dados sísmicas, como as disponibilizadas pelo USGS (United States Geological Survey).\n",
    "\n",
    "O que é a \"significância\" de um terremoto?\n",
    "\n",
    "A significância sísmica é um escore numérico calculado para medir a relevância ou o impacto potencial de um terremoto. Ele leva em consideração os seguintes fatores:\n",
    "\n",
    "- Magnitude: Terremotos de maior magnitude tendem a ser mais significativos.\n",
    "- Profundidade: Tremores mais superficiais têm maior impacto na superfície.\n",
    "- Localização: Eventos próximos a áreas densamente povoadas têm maior significância.\n",
    "- Danos e Impacto: Pode incluir variáveis como número de mortes, feridos, danos estruturais ou tsunamis associados.\n",
    "- Duração: Eventos sísmicos com réplicas frequentes ou longas podem aumentar a significância.\n",
    "\n",
    "A classificação \"sig_class\" é uma categorização baseada nesses valores para facilitar a análise e priorização de eventos.\n",
    "<!-- Projeto Desenvolvido na Data Science Academy - www.datascienceacademy.com.br -->\n",
    "Exemplo de categorias possíveis na classificação de significância:\n",
    "\n",
    "- Baixa significância: Pequenos tremores em regiões remotas e de baixa magnitude.\n",
    "- Moderada significância: Tremores de magnitude média em regiões habitadas, mas sem danos graves.\n",
    "- Alta significância: Grandes terremotos em regiões densamente povoadas ou com impacto significativo em infraestrutura e pessoas.\n",
    "- Crítica: Eventos devastadores com alto impacto global, como o terremoto e tsunami no Oceano Índico em 2004.\n"
   ]
  },
  {
   "cell_type": "code",
   "execution_count": 4,
   "id": "e198d065-946e-40b8-b241-8db225fe9f29",
   "metadata": {
    "jupyter": {
     "outputs_hidden": false,
     "source_hidden": false
    },
    "microsoft": {
     "language": "python",
     "language_group": "synapse_pyspark"
    },
    "nteract": {
     "transient": {
      "deleting": false
     }
    }
   },
   "outputs": [
    {
     "data": {
      "application/vnd.livy.statement-meta+json": {
       "execution_finish_time": "2024-12-30T16:47:33.6483534Z",
       "execution_start_time": "2024-12-30T16:47:33.3742759Z",
       "livy_statement_state": "available",
       "normalized_state": "finished",
       "parent_msg_id": "1da33e07-902b-4919-9315-8a5e523ee0f5",
       "queued_time": "2024-12-30T16:47:06.4466038Z",
       "session_id": "ef9c8f1e-3c69-473c-99e1-159ed26ad8da",
       "session_start_time": null,
       "spark_pool": null,
       "state": "finished",
       "statement_id": 6,
       "statement_ids": [
        6
       ]
      },
      "text/plain": [
       "StatementMeta(, ef9c8f1e-3c69-473c-99e1-159ed26ad8da, 6, Finished, Available, Finished)"
      ]
     },
     "metadata": {},
     "output_type": "display_data"
    }
   ],
   "source": [
    "# Adicionando significância de classificação\n",
    "df_final = df_dsa.withColumn('sig_class', \n",
    "                            when(col(\"sig\") < 100, \"Low\").\\\n",
    "                            when((col(\"sig\") >= 100) & (col(\"sig\") < 500), \"Moderate\").\\\n",
    "                            otherwise(\"High\"))"
   ]
  },
  {
   "cell_type": "code",
   "execution_count": 5,
   "id": "7f8381a2-9bb3-49e1-a1f4-646c21819476",
   "metadata": {
    "jupyter": {
     "outputs_hidden": false,
     "source_hidden": false
    },
    "microsoft": {
     "language": "python",
     "language_group": "synapse_pyspark"
    },
    "nteract": {
     "transient": {
      "deleting": false
     }
    }
   },
   "outputs": [
    {
     "data": {
      "application/vnd.livy.statement-meta+json": {
       "execution_finish_time": "2024-12-30T16:47:42.8516389Z",
       "execution_start_time": "2024-12-30T16:47:34.2882116Z",
       "livy_statement_state": "available",
       "normalized_state": "finished",
       "parent_msg_id": "d8f8a9a0-e71e-4f82-853b-3360ed12e60e",
       "queued_time": "2024-12-30T16:47:06.4500175Z",
       "session_id": "ef9c8f1e-3c69-473c-99e1-159ed26ad8da",
       "session_start_time": null,
       "spark_pool": null,
       "state": "finished",
       "statement_id": 7,
       "statement_ids": [
        7
       ]
      },
      "text/plain": [
       "StatementMeta(, ef9c8f1e-3c69-473c-99e1-159ed26ad8da, 7, Finished, Available, Finished)"
      ]
     },
     "metadata": {},
     "output_type": "display_data"
    }
   ],
   "source": [
    "# Salva os dados na tabela Gold\n",
    "df_final.write.mode('overwrite').saveAsTable('dsa_terremotos_gold')"
   ]
  },
  {
   "cell_type": "markdown",
   "id": "eb2d824b-5e5f-48a0-845c-6890f3bd3bdd",
   "metadata": {
    "microsoft": {
     "language": "python",
     "language_group": "synapse_pyspark"
    },
    "nteract": {
     "transient": {
      "deleting": false
     }
    }
   },
   "source": [
    "Dados prontos para análise!"
   ]
  },
  {
   "cell_type": "markdown",
   "id": "e4f440bd-3e18-4d5e-b5f8-a7c0a2c5abb2",
   "metadata": {
    "microsoft": {
     "language": "python",
     "language_group": "synapse_pyspark"
    },
    "nteract": {
     "transient": {
      "deleting": false
     }
    }
   },
   "source": [
    "# Fim"
   ]
  }
 ],
 "metadata": {
  "dependencies": {
   "lakehouse": {
    "default_lakehouse": "ff326f77-a99f-4dc8-ab5f-b90b11bb10c2",
    "default_lakehouse_name": "dsalakehouse",
    "default_lakehouse_workspace_id": "56a5c21a-8d7e-4d57-a19f-a2fe5c2359d9"
   }
  },
  "kernel_info": {
   "name": "synapse_pyspark"
  },
  "kernelspec": {
   "display_name": "synapse_pyspark",
   "name": "synapse_pyspark"
  },
  "language_info": {
   "name": "python"
  },
  "microsoft": {
   "language": "python",
   "language_group": "synapse_pyspark",
   "ms_spell_check": {
    "ms_spell_check_language": "en"
   }
  },
  "nteract": {
   "version": "nteract-front-end@1.0.0"
  },
  "spark_compute": {
   "compute_id": "/trident/default",
   "session_options": {
    "conf": {
     "spark.synapse.nbs.session.timeout": "1200000"
    }
   }
  }
 },
 "nbformat": 4,
 "nbformat_minor": 5
}
