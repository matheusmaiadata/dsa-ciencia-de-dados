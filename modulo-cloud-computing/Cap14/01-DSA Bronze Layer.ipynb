{
 "cells": [
  {
   "cell_type": "markdown",
   "id": "720ae829",
   "metadata": {},
   "source": [
    "<!-- Projeto Desenvolvido na Data Science Academy - www.datascienceacademy.com.br -->\n",
    "# <font color='blue'>Data Science Academy</font>\n",
    "## <font color='blue'>Microsoft Fabric</font>\n",
    "## <font color='blue'>Bronze Layer</font>\n",
    "\n",
    "Acompanhe as instruções no capítulo do curso."
   ]
  },
  {
   "cell_type": "code",
   "execution_count": null,
   "id": "29787f80-f9e0-4f78-8d6e-4691eacc3256",
   "metadata": {
    "microsoft": {
     "language": "python",
     "language_group": "synapse_pyspark"
    }
   },
   "outputs": [],
   "source": [
    "# Imports\n",
    "import requests\n",
    "import json"
   ]
  },
  {
   "cell_type": "code",
   "execution_count": null,
   "id": "bb55597b-fbd0-424a-851c-aaea419ea4af",
   "metadata": {
    "jupyter": {
     "outputs_hidden": false,
     "source_hidden": false
    },
    "microsoft": {
     "language": "python",
     "language_group": "synapse_pyspark"
    },
    "nteract": {
     "transient": {
      "deleting": false
     }
    }
   },
   "outputs": [],
   "source": [
    "# Datas\n",
    "start_date = '2025-07-17'\n",
    "end_date = '2025-07-19'"
   ]
  },
  {
   "cell_type": "code",
   "execution_count": null,
   "id": "f041180d-25df-4941-804f-2fe6b52c35f1",
   "metadata": {
    "jupyter": {
     "outputs_hidden": false,
     "source_hidden": false
    },
    "microsoft": {
     "language": "python",
     "language_group": "synapse_pyspark"
    },
    "nteract": {
     "transient": {
      "deleting": false
     }
    }
   },
   "outputs": [],
   "source": [
    "# Define a URL para buscar dados sobre terremotos dentro do range de datas especificadas\n",
    "url = f\"https://earthquake.usgs.gov/fdsnws/event/1/query?format=geojson&starttime={start_date}&endtime={end_date}\""
   ]
  },
  {
   "cell_type": "code",
   "execution_count": null,
   "id": "d98aa08c-fe80-4f5f-bc02-23212c2f0fc5",
   "metadata": {
    "jupyter": {
     "outputs_hidden": false,
     "source_hidden": false
    },
    "microsoft": {
     "language": "python",
     "language_group": "synapse_pyspark"
    },
    "nteract": {
     "transient": {
      "deleting": false
     }
    }
   },
   "outputs": [],
   "source": [
    "# Executa o GET para buscar os dados\n",
    "response = requests.get(url)"
   ]
  },
  {
   "cell_type": "code",
   "execution_count": null,
   "id": "71583cc8-57c1-4e72-badc-3b3be43aff30",
   "metadata": {
    "jupyter": {
     "outputs_hidden": false,
     "source_hidden": false
    },
    "microsoft": {
     "language": "python",
     "language_group": "synapse_pyspark"
    },
    "nteract": {
     "transient": {
      "deleting": false
     }
    }
   },
   "outputs": [],
   "source": [
    "# Esperamos por resposta com código 200 (indicando sucesso)\n",
    "print(response)"
   ]
  },
  {
   "cell_type": "code",
   "execution_count": null,
   "id": "22421d47-a2f5-45ac-86c7-8713ff8bb04e",
   "metadata": {
    "jupyter": {
     "outputs_hidden": false,
     "source_hidden": false
    },
    "microsoft": {
     "language": "python",
     "language_group": "synapse_pyspark"
    },
    "nteract": {
     "transient": {
      "deleting": false
     }
    }
   },
   "outputs": [],
   "source": [
    "# Verifica se o código de status da resposta é 200 (requisição bem-sucedida)\n",
    "if response.status_code == 200:\n",
    "\n",
    "    # Converte o conteúdo da resposta para um objeto JSON\n",
    "    dsa_dados = response.json()\n",
    "    \n",
    "    # Acessa a chave 'features' do objeto JSON\n",
    "    dsa_dados = dsa_dados['features']\n",
    "    \n",
    "    # Define o caminho do arquivo onde os dados serão salvos no Lakehouse\n",
    "    file_path = f'/lakehouse/default/Files/dsa_dados_terremotos.json'\n",
    "    \n",
    "    # Abre o arquivo no modo de escrita para salvar os dados\n",
    "    with open(file_path, 'w') as file:\n",
    "\n",
    "        # Escreve os dados no arquivo no formato JSON com indentação\n",
    "        json.dump(dsa_dados, file, indent = 4)\n",
    "        \n",
    "    # Exibe uma mensagem de sucesso com o caminho do arquivo salvo\n",
    "    print(f\"Dados salvos com sucesso em {file_path}\")\n",
    "else:\n",
    "    # Exibe uma mensagem de erro com o código de status retornado\n",
    "    print(\"Falha ao buscar dados. Código de status:\", response.status_code)"
   ]
  },
  {
   "cell_type": "markdown",
   "id": "c8402e1f",
   "metadata": {
    "jupyter": {
     "outputs_hidden": false,
     "source_hidden": false
    },
    "microsoft": {
     "language": "python",
     "language_group": "synapse_pyspark"
    },
    "nteract": {
     "transient": {
      "deleting": false
     }
    }
   },
   "source": [
    "# Fim"
   ]
  }
 ],
 "metadata": {
  "dependencies": {
   "lakehouse": {
    "default_lakehouse": "84077e92-a108-418b-a307-a9358c2e158c",
    "default_lakehouse_name": "dsalake",
    "default_lakehouse_workspace_id": "56a5c21a-8d7e-4d57-a19f-a2fe5c2359d9"
   }
  },
  "kernel_info": {
   "name": "synapse_pyspark"
  },
  "kernelspec": {
   "display_name": "Python 3 (ipykernel)",
   "language": "python",
   "name": "python3"
  },
  "language_info": {
   "codemirror_mode": {
    "name": "ipython",
    "version": 3
   },
   "file_extension": ".py",
   "mimetype": "text/x-python",
   "name": "python",
   "nbconvert_exporter": "python",
   "pygments_lexer": "ipython3",
   "version": "3.11.5"
  },
  "microsoft": {
   "language": "python",
   "language_group": "synapse_pyspark",
   "ms_spell_check": {
    "ms_spell_check_language": "en"
   }
  },
  "nteract": {
   "version": "nteract-front-end@1.0.0"
  },
  "spark_compute": {
   "compute_id": "/trident/default",
   "session_options": {
    "conf": {
     "spark.synapse.nbs.session.timeout": "1200000"
    }
   }
  }
 },
 "nbformat": 4,
 "nbformat_minor": 5
}
