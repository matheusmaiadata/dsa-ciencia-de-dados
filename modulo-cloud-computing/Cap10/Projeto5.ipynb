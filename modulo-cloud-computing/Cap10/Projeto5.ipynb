{
 "cells": [
  {
   "cell_type": "markdown",
   "id": "a4d0128f-947a-4520-bf4b-1de031b4295e",
   "metadata": {},
   "source": [
    "<!-- Projeto Desenvolvido na Data Science Academy - www.datascienceacademy.com.br -->\n",
    "# <font color='blue'>Data Science Academy</font>\n",
    "## <font color='blue'>Cloud Computing Data Science</font>\n",
    "## <font color='blue'>Projeto 5</font>\n",
    "### <font color='blue'>Modelo de Machine Learning com LightGBM Para Portfólio de Investimentos com SageMaker</font>"
   ]
  },
  {
   "cell_type": "markdown",
   "id": "95f0c39c-042d-4481-b1c9-067cee9960de",
   "metadata": {},
   "source": [
    "## Definindo Pacotes, Sessão e Role"
   ]
  },
  {
   "cell_type": "code",
   "execution_count": 1,
   "id": "6579e8c2-4eb4-4ef6-a986-00e09664c3c1",
   "metadata": {},
   "outputs": [],
   "source": [
    "# Filtrando warnings\n",
    "import warnings\n",
    "warnings.filterwarnings('ignore')"
   ]
  },
  {
   "cell_type": "code",
   "execution_count": 2,
   "id": "b5c5f27a-a7d3-4408-85b1-88b48cd8e413",
   "metadata": {},
   "outputs": [
    {
     "name": "stdout",
     "output_type": "stream",
     "text": [
      "sagemaker.config INFO - Not applying SDK defaults from location: /etc/xdg/sagemaker/config.yaml\n",
      "sagemaker.config INFO - Not applying SDK defaults from location: /home/sagemaker-user/.config/sagemaker/config.yaml\n"
     ]
    }
   ],
   "source": [
    "# Imports\n",
    "import logging\n",
    "import sagemaker, boto3, json\n",
    "from sagemaker import get_execution_role\n",
    "from sagemaker import image_uris, model_uris, script_uris\n",
    "from sagemaker import hyperparameters\n",
    "from sagemaker.tuner import ContinuousParameter, IntegerParameter, HyperparameterTuner\n",
    "from sagemaker.estimator import Estimator\n",
    "from sagemaker.utils import name_from_base"
   ]
  },
  {
   "cell_type": "code",
   "execution_count": 3,
   "id": "ba64c95e-b2d2-4ab0-a299-b3284e5f857f",
   "metadata": {},
   "outputs": [],
   "source": [
    "# Define a role de execução, a região e cria a sessão SageMaker\n",
    "aws_role = get_execution_role()\n",
    "aws_region = boto3.Session().region_name\n",
    "sess = sagemaker.Session()"
   ]
  },
  {
   "cell_type": "code",
   "execution_count": 4,
   "id": "83d81015-33ba-4b50-b635-fa00466579f8",
   "metadata": {},
   "outputs": [],
   "source": [
    "# Configura um logger em Python para facilitar o registro de mensagens de log \n",
    "# em diferentes níveis (como DEBUG, INFO, WARNING, ERROR, e CRITICAL)\n",
    "logger = logging.getLogger('__name__')\n",
    "logger.setLevel(logging.DEBUG)\n",
    "logger.addHandler(logging.StreamHandler())"
   ]
  },
  {
   "cell_type": "code",
   "execution_count": 5,
   "id": "6cc7e059-5fc8-48df-b32d-c4bcec631527",
   "metadata": {},
   "outputs": [
    {
     "name": "stderr",
     "output_type": "stream",
     "text": [
      "Versão do SageMaker: 2.227.0\n",
      "Versão do Boto3: 1.34.162\n"
     ]
    }
   ],
   "source": [
    "# Versões dos pacotes principais\n",
    "logger.info(f'Versão do SageMaker: {sagemaker.__version__}')\n",
    "logger.info(f'Versão do Boto3: {boto3.__version__}')"
   ]
  },
  {
   "cell_type": "markdown",
   "id": "e83d3d0b-7beb-4c50-bcf0-19d6d7d4dd60",
   "metadata": {},
   "source": [
    "## Definindo o Modelo LightGBM e a Instância de Treino\n",
    "\n",
    "Veja o videobook do Capítulo 10 com a definição completa do LightGBM.\n",
    "\n",
    "https://lightgbm.readthedocs.io/en/latest/"
   ]
  },
  {
   "cell_type": "code",
   "execution_count": 6,
   "id": "34c3b9c5-7a6b-433b-abb4-0f63f1b8644b",
   "metadata": {},
   "outputs": [],
   "source": [
    "# Definindo o modelo (instância do modelo pré-treinada pela AWS)\n",
    "train_model_id, train_model_version, train_scope = \"lightgbm-classification-model\", \"2.1.6\", \"training\""
   ]
  },
  {
   "cell_type": "markdown",
   "id": "a82b115c-8649-4207-8e5a-3afc817785d8",
   "metadata": {},
   "source": [
    "https://docs.aws.amazon.com/sagemaker/latest/dg/notebooks-available-instance-types.html"
   ]
  },
  {
   "cell_type": "code",
   "execution_count": 7,
   "id": "f19b3dc8-f863-406b-be03-6e8f42395515",
   "metadata": {},
   "outputs": [],
   "source": [
    "# Definindo a instância de treino\n",
    "# ESTA INSTÂNCIA NÃO É GRATUITA\n",
    "training_instance_type = \"ml.m5.xlarge\""
   ]
  },
  {
   "cell_type": "markdown",
   "id": "43a9f0de-d2de-4903-9080-08d9fe21551c",
   "metadata": {},
   "source": [
    "## Definindo a URI da Imagem Docker\n",
    "\n",
    "https://sagemaker.readthedocs.io/en/stable/api/utility/image_uris.html"
   ]
  },
  {
   "cell_type": "code",
   "execution_count": 8,
   "id": "b5fd55fb-0f20-4980-8453-a81e81f1742a",
   "metadata": {},
   "outputs": [],
   "source": [
    "# Retrieve da docker image\n",
    "train_image_uri = image_uris.retrieve(region = None,\n",
    "                                      framework = None,\n",
    "                                      model_id = train_model_id,\n",
    "                                      model_version = train_model_version,\n",
    "                                      image_scope = train_scope,\n",
    "                                      instance_type = training_instance_type)"
   ]
  },
  {
   "cell_type": "markdown",
   "id": "fbb03791-3503-4ae1-8903-6fe986ac0629",
   "metadata": {},
   "source": [
    "## Definindo o Script de Treino"
   ]
  },
  {
   "cell_type": "code",
   "execution_count": 9,
   "id": "30e57b8b-dafc-435a-8ecf-6b1872d26b82",
   "metadata": {},
   "outputs": [],
   "source": [
    "# Retrieve do script de treino\n",
    "train_source_uri = script_uris.retrieve(model_id = train_model_id, \n",
    "                                        model_version = train_model_version, \n",
    "                                        script_scope = train_scope)"
   ]
  },
  {
   "cell_type": "code",
   "execution_count": 10,
   "id": "adb05440-de39-440f-9b9f-d97142f9a84b",
   "metadata": {},
   "outputs": [],
   "source": [
    "# Retrieve do modelo pré-treinado\n",
    "train_model_uri = model_uris.retrieve(model_id = train_model_id, \n",
    "                                      model_version = train_model_version, \n",
    "                                      model_scope = train_scope)"
   ]
  },
  {
   "cell_type": "code",
   "execution_count": 11,
   "id": "88f4327e-92a9-4c6f-9bee-410beedb3aad",
   "metadata": {},
   "outputs": [],
   "source": [
    "# Entrada (coloque os dados no bucket S3 como demonstrado nas aulas)\n",
    "training_data_bucket = f\"dsa-p5-890582101704\"\n",
    "training_data_prefix = \"dados_treino/\"\n",
    "\n",
    "training_dataset_s3_path = f\"s3://{training_data_bucket}/{training_data_prefix}\"\n",
    "\n",
    "# Saída\n",
    "output_bucket = f\"dsa-p5-890582101704\"\n",
    "output_prefix = \"dsa-projeto5-modelo\"\n",
    "\n",
    "s3_output_location = f\"s3://{output_bucket}/{output_prefix}/output\""
   ]
  },
  {
   "cell_type": "markdown",
   "id": "da62bc18-b47e-4f81-9dc7-f5a3cc51f95f",
   "metadata": {},
   "source": [
    "## Definindo os Hiperparâmetros"
   ]
  },
  {
   "cell_type": "code",
   "execution_count": 12,
   "id": "4fc5d7be-deff-4bfc-90f8-33bc19c2d281",
   "metadata": {},
   "outputs": [],
   "source": [
    "# Retrieve dos hiperparâmetros para o fine-tuning do modelo\n",
    "hyperparameters = hyperparameters.retrieve_default(model_id = train_model_id, \n",
    "                                                   model_version = train_model_version)"
   ]
  },
  {
   "cell_type": "code",
   "execution_count": 13,
   "id": "8cba1e52-b65c-4efd-a664-e15775b11771",
   "metadata": {},
   "outputs": [],
   "source": [
    "# [Opcional] Substituir valores de hiperparâmetros por valores personalizados\n",
    "hyperparameters[\"num_boost_round\"] = \"500\"  "
   ]
  },
  {
   "cell_type": "code",
   "execution_count": 14,
   "id": "5c39b99b-2816-4579-8f66-bfb75a91ce63",
   "metadata": {},
   "outputs": [
    {
     "name": "stdout",
     "output_type": "stream",
     "text": [
      "{'num_boost_round': '500', 'early_stopping_rounds': '30', 'metric': 'auto', 'learning_rate': '0.009', 'num_leaves': '67', 'feature_fraction': '0.74', 'bagging_fraction': '0.53', 'bagging_freq': '5', 'max_depth': '11', 'min_data_in_leaf': '26', 'max_delta_step': '0.0', 'lambda_l1': '0.0', 'lambda_l2': '0.0', 'boosting': 'gbdt', 'min_gain_to_split': '0.0', 'scale_pos_weight': '1.0', 'tree_learner': 'serial', 'feature_fraction_bynode': '1.0', 'is_unbalance': 'False', 'max_bin': '255', 'num_threads': '0', 'verbosity': '1', 'use_dask': 'False'}\n"
     ]
    }
   ],
   "source": [
    "print(hyperparameters)"
   ]
  },
  {
   "cell_type": "code",
   "execution_count": 15,
   "id": "a7742d38-b930-45a9-a1a0-c064628e18e9",
   "metadata": {},
   "outputs": [],
   "source": [
    "# Range de hiperparâmetros para otimização durante o treino\n",
    "# Veja a descrição no videobook do Capítulo 10 do curso.\n",
    "if train_model_id == \"lightgbm-classification-model\":\n",
    "    hyperparameter_ranges = {\n",
    "        \"learning_rate\": ContinuousParameter(1e-4, 1, scaling_type = \"Logarithmic\"),\n",
    "        \"num_boost_round\": IntegerParameter(2, 30),\n",
    "        \"early_stopping_rounds\": IntegerParameter(2, 30),\n",
    "        \"num_leaves\": IntegerParameter(10, 50),\n",
    "        \"feature_fraction\": ContinuousParameter(0, 1),\n",
    "        \"bagging_fraction\": ContinuousParameter(0, 1),\n",
    "        \"bagging_freq\": IntegerParameter(1, 10),\n",
    "        \"max_depth\": IntegerParameter(5, 30),\n",
    "        \"min_data_in_leaf\": IntegerParameter(5, 50),\n",
    "    }"
   ]
  },
  {
   "cell_type": "markdown",
   "id": "c0bfc0a5-cdce-48bf-90ed-42cf501044b9",
   "metadata": {},
   "source": [
    "## Criando Job e Estimador"
   ]
  },
  {
   "cell_type": "code",
   "execution_count": 16,
   "id": "0c10a5b6-90db-426a-832f-d2d9c1365f6f",
   "metadata": {},
   "outputs": [],
   "source": [
    "# Define o nome do job de treino\n",
    "training_job_name = name_from_base(f\"dsa-p5-{train_model_id}-training\")"
   ]
  },
  {
   "cell_type": "code",
   "execution_count": 17,
   "id": "6d6cc726-e90f-4b9d-9f3a-f1bb5698ad30",
   "metadata": {},
   "outputs": [],
   "source": [
    "# Cria o estimador\n",
    "tabular_estimator = Estimator(role = aws_role,\n",
    "                              image_uri = train_image_uri,\n",
    "                              source_dir = train_source_uri,\n",
    "                              model_uri = train_model_uri,\n",
    "                              entry_point = \"transfer_learning.py\",\n",
    "                              instance_count = 1,\n",
    "                              instance_type = training_instance_type,\n",
    "                              max_run = 360000,\n",
    "                              hyperparameters = hyperparameters,\n",
    "                              output_path = s3_output_location)"
   ]
  },
  {
   "cell_type": "markdown",
   "id": "5d840e11-3ffb-40d5-a0bf-11a0af08d2fa",
   "metadata": {},
   "source": [
    "## Treinamento do Modelo\n",
    "\n",
    "O AMT (\"Automatic Model Tuning\") no Amazon SageMaker refere-se ao recurso de Hyperparameter Tuning, que permite ajustar automaticamente os hiperparâmetros de um modelo de Machine Learning para alcançar o melhor desempenho possível.\n",
    "\n",
    "Se use_amt for definido como True, o código utilizará o Hyperparameter Tuner para ajustar os hiperparâmetros do modelo, otimizando a métrica especificada (multi_logloss, no caso). Caso contrário, o modelo será treinado diretamente com os hiperparâmetros fornecidos, sem ajuste automático."
   ]
  },
  {
   "cell_type": "code",
   "execution_count": 18,
   "id": "dbb5f23b-75d5-4650-8a15-7aceceacba2c",
   "metadata": {},
   "outputs": [],
   "source": [
    "use_amt = True"
   ]
  },
  {
   "cell_type": "code",
   "execution_count": 19,
   "id": "d452e869-65e0-474d-9080-bfbb3a72cda8",
   "metadata": {},
   "outputs": [
    {
     "name": "stderr",
     "output_type": "stream",
     "text": [
      "No finished training job found associated with this estimator. Please make sure this estimator is only used for building workflow config\n"
     ]
    },
    {
     "name": "stdout",
     "output_type": "stream",
     "text": [
      ".................................................................................!\n",
      "CPU times: user 329 ms, sys: 42.4 ms, total: 371 ms\n",
      "Wall time: 6min 58s\n"
     ]
    }
   ],
   "source": [
    "%%time\n",
    "\n",
    "if use_amt:\n",
    "    tuner = HyperparameterTuner(tabular_estimator,\n",
    "                                \"multi_logloss\",\n",
    "                                hyperparameter_ranges,\n",
    "                                [{\"Name\": \"multi_logloss\", \"Regex\": \"multi_logloss: ([0-9\\\\.]+)\"}],\n",
    "                                max_jobs = 10,\n",
    "                                max_parallel_jobs = 2,\n",
    "                                objective_type = \"Minimize\",\n",
    "                                base_tuning_job_name = training_job_name)\n",
    "\n",
    "    tuner.fit({\"training\": training_dataset_s3_path}, logs = True)\n",
    "else:\n",
    "    # Inicia um job de treinamento do SageMaker passando o caminho s3 dos dados de treinamento\n",
    "    tabular_estimator.fit(\n",
    "        {\"training\": training_dataset_s3_path}, logs = True, job_name = training_job_name\n",
    "    )"
   ]
  },
  {
   "cell_type": "markdown",
   "id": "28cf274b-ef27-413d-b8ac-e83750e536fa",
   "metadata": {},
   "source": [
    "## Definindo a Instância de Inferência"
   ]
  },
  {
   "cell_type": "code",
   "execution_count": 20,
   "id": "885fea4c-1501-4d6b-9c18-973cd0862a2c",
   "metadata": {},
   "outputs": [],
   "source": [
    "# ESTA INSTÂNCIA NÃO É GRATUITA\n",
    "inference_instance_type = \"ml.m5.xlarge\""
   ]
  },
  {
   "cell_type": "code",
   "execution_count": 21,
   "id": "1ae66a44-65ef-47a0-a67e-becaa9ee99f0",
   "metadata": {},
   "outputs": [],
   "source": [
    "# Retrieve da URI do container docker de inferência\n",
    "deploy_image_uri = image_uris.retrieve(region = None,\n",
    "                                       framework = None,\n",
    "                                       image_scope = \"inference\",\n",
    "                                       model_id = train_model_id,\n",
    "                                       model_version = train_model_version,\n",
    "                                       instance_type = inference_instance_type)"
   ]
  },
  {
   "cell_type": "markdown",
   "id": "f50a38f7-a2e2-43f8-a362-adef4244a8d4",
   "metadata": {},
   "source": [
    "## Definindo o Script de Inferência"
   ]
  },
  {
   "cell_type": "code",
   "execution_count": 22,
   "id": "22591914-5bdf-430b-833a-f7a9e8521709",
   "metadata": {},
   "outputs": [],
   "source": [
    "# Retrieve do script de inferência\n",
    "deploy_source_uri = script_uris.retrieve(model_id = train_model_id, \n",
    "                                         model_version = train_model_version, \n",
    "                                         script_scope = \"inference\")"
   ]
  },
  {
   "cell_type": "code",
   "execution_count": 23,
   "id": "2c07744b-e7ff-40d1-ac8c-b612e8e76342",
   "metadata": {},
   "outputs": [],
   "source": [
    "# Define o nome do endpoint\n",
    "endpoint_name = name_from_base(f\"dsa-p5-model-{train_model_id}-\")"
   ]
  },
  {
   "cell_type": "code",
   "execution_count": 24,
   "id": "ea00dd5e-88c7-46ec-9097-2246399515cf",
   "metadata": {},
   "outputs": [
    {
     "name": "stdout",
     "output_type": "stream",
     "text": [
      "\n",
      "2024-12-11 01:13:25 Starting - Found matching resource for reuse\n",
      "2024-12-11 01:13:25 Downloading - Downloading the training image\n",
      "2024-12-11 01:13:25 Training - Training image download completed. Training in progress.\n",
      "2024-12-11 01:13:25 Uploading - Uploading generated training model\n",
      "2024-12-11 01:13:25 Completed - Resource retained for reuse\n",
      "-----!"
     ]
    }
   ],
   "source": [
    "# Usamos o estimador da etapa anterior para implantar em um endpoint do SageMaker\n",
    "predictor = (tuner if use_amt else tabular_estimator).deploy(initial_instance_count = 1,\n",
    "                                                             instance_type = inference_instance_type,\n",
    "                                                             entry_point = \"inference.py\",\n",
    "                                                             image_uri = deploy_image_uri,\n",
    "                                                             source_dir = deploy_source_uri,\n",
    "                                                             endpoint_name = endpoint_name)"
   ]
  },
  {
   "cell_type": "markdown",
   "id": "87d0bddb-3c26-48f3-8f0c-dfc8510a1af1",
   "metadata": {},
   "source": [
    "## Carregando os Dados de Teste"
   ]
  },
  {
   "cell_type": "code",
   "execution_count": 25,
   "id": "24c16543-1e60-4745-85f7-b4aebeb4a814",
   "metadata": {},
   "outputs": [],
   "source": [
    "# Variáveis de controle\n",
    "dsa_assets_bucket = f\"dsa-p5-890582101704\"\n",
    "test_data_prefix = \"dados_teste\"\n",
    "test_data_file_name = \"data.csv\""
   ]
  },
  {
   "cell_type": "code",
   "execution_count": 26,
   "id": "d112657e-d694-49c6-8543-f9ac7ee5be1d",
   "metadata": {},
   "outputs": [],
   "source": [
    "# Faz o download dos dados de teste\n",
    "boto3.client(\"s3\").download_file(dsa_assets_bucket, f\"{test_data_prefix}/{test_data_file_name}\", test_data_file_name)"
   ]
  },
  {
   "cell_type": "code",
   "execution_count": 27,
   "id": "b5542fe7-d99b-4ddd-8b06-f7b1164bdeda",
   "metadata": {},
   "outputs": [
    {
     "name": "stdout",
     "output_type": "stream",
     "text": [
      "\u001b[1mO conjunto de dados de teste contém 10000 exemplos e 785 colunas.\u001b[0m\n",
      "\n",
      "\u001b[1mAs primeiras 5 observações dos dados: \u001b[0m \n",
      "\n"
     ]
    },
    {
     "data": {
      "text/html": [
       "<div>\n",
       "<style scoped>\n",
       "    .dataframe tbody tr th:only-of-type {\n",
       "        vertical-align: middle;\n",
       "    }\n",
       "\n",
       "    .dataframe tbody tr th {\n",
       "        vertical-align: top;\n",
       "    }\n",
       "\n",
       "    .dataframe thead th {\n",
       "        text-align: right;\n",
       "    }\n",
       "</style>\n",
       "<table border=\"1\" class=\"dataframe\">\n",
       "  <thead>\n",
       "    <tr style=\"text-align: right;\">\n",
       "      <th></th>\n",
       "      <th>Target</th>\n",
       "      <th>Feature_1</th>\n",
       "      <th>Feature_2</th>\n",
       "      <th>Feature_3</th>\n",
       "      <th>Feature_4</th>\n",
       "      <th>Feature_5</th>\n",
       "      <th>Feature_6</th>\n",
       "      <th>Feature_7</th>\n",
       "      <th>Feature_8</th>\n",
       "      <th>Feature_9</th>\n",
       "      <th>...</th>\n",
       "      <th>Feature_775</th>\n",
       "      <th>Feature_776</th>\n",
       "      <th>Feature_777</th>\n",
       "      <th>Feature_778</th>\n",
       "      <th>Feature_779</th>\n",
       "      <th>Feature_780</th>\n",
       "      <th>Feature_781</th>\n",
       "      <th>Feature_782</th>\n",
       "      <th>Feature_783</th>\n",
       "      <th>Feature_784</th>\n",
       "    </tr>\n",
       "  </thead>\n",
       "  <tbody>\n",
       "    <tr>\n",
       "      <th>0</th>\n",
       "      <td>7.0</td>\n",
       "      <td>0.0</td>\n",
       "      <td>0.0</td>\n",
       "      <td>0.0</td>\n",
       "      <td>0.0</td>\n",
       "      <td>0.0</td>\n",
       "      <td>0.0</td>\n",
       "      <td>0.0</td>\n",
       "      <td>0.0</td>\n",
       "      <td>0.0</td>\n",
       "      <td>...</td>\n",
       "      <td>0.0</td>\n",
       "      <td>0.0</td>\n",
       "      <td>0.0</td>\n",
       "      <td>0.0</td>\n",
       "      <td>0.0</td>\n",
       "      <td>0.0</td>\n",
       "      <td>0.0</td>\n",
       "      <td>0.0</td>\n",
       "      <td>0.0</td>\n",
       "      <td>0.0</td>\n",
       "    </tr>\n",
       "    <tr>\n",
       "      <th>1</th>\n",
       "      <td>2.0</td>\n",
       "      <td>0.0</td>\n",
       "      <td>0.0</td>\n",
       "      <td>0.0</td>\n",
       "      <td>0.0</td>\n",
       "      <td>0.0</td>\n",
       "      <td>0.0</td>\n",
       "      <td>0.0</td>\n",
       "      <td>0.0</td>\n",
       "      <td>0.0</td>\n",
       "      <td>...</td>\n",
       "      <td>0.0</td>\n",
       "      <td>0.0</td>\n",
       "      <td>0.0</td>\n",
       "      <td>0.0</td>\n",
       "      <td>0.0</td>\n",
       "      <td>0.0</td>\n",
       "      <td>0.0</td>\n",
       "      <td>0.0</td>\n",
       "      <td>0.0</td>\n",
       "      <td>0.0</td>\n",
       "    </tr>\n",
       "    <tr>\n",
       "      <th>2</th>\n",
       "      <td>1.0</td>\n",
       "      <td>0.0</td>\n",
       "      <td>0.0</td>\n",
       "      <td>0.0</td>\n",
       "      <td>0.0</td>\n",
       "      <td>0.0</td>\n",
       "      <td>0.0</td>\n",
       "      <td>0.0</td>\n",
       "      <td>0.0</td>\n",
       "      <td>0.0</td>\n",
       "      <td>...</td>\n",
       "      <td>0.0</td>\n",
       "      <td>0.0</td>\n",
       "      <td>0.0</td>\n",
       "      <td>0.0</td>\n",
       "      <td>0.0</td>\n",
       "      <td>0.0</td>\n",
       "      <td>0.0</td>\n",
       "      <td>0.0</td>\n",
       "      <td>0.0</td>\n",
       "      <td>0.0</td>\n",
       "    </tr>\n",
       "    <tr>\n",
       "      <th>3</th>\n",
       "      <td>0.0</td>\n",
       "      <td>0.0</td>\n",
       "      <td>0.0</td>\n",
       "      <td>0.0</td>\n",
       "      <td>0.0</td>\n",
       "      <td>0.0</td>\n",
       "      <td>0.0</td>\n",
       "      <td>0.0</td>\n",
       "      <td>0.0</td>\n",
       "      <td>0.0</td>\n",
       "      <td>...</td>\n",
       "      <td>0.0</td>\n",
       "      <td>0.0</td>\n",
       "      <td>0.0</td>\n",
       "      <td>0.0</td>\n",
       "      <td>0.0</td>\n",
       "      <td>0.0</td>\n",
       "      <td>0.0</td>\n",
       "      <td>0.0</td>\n",
       "      <td>0.0</td>\n",
       "      <td>0.0</td>\n",
       "    </tr>\n",
       "    <tr>\n",
       "      <th>4</th>\n",
       "      <td>4.0</td>\n",
       "      <td>0.0</td>\n",
       "      <td>0.0</td>\n",
       "      <td>0.0</td>\n",
       "      <td>0.0</td>\n",
       "      <td>0.0</td>\n",
       "      <td>0.0</td>\n",
       "      <td>0.0</td>\n",
       "      <td>0.0</td>\n",
       "      <td>0.0</td>\n",
       "      <td>...</td>\n",
       "      <td>0.0</td>\n",
       "      <td>0.0</td>\n",
       "      <td>0.0</td>\n",
       "      <td>0.0</td>\n",
       "      <td>0.0</td>\n",
       "      <td>0.0</td>\n",
       "      <td>0.0</td>\n",
       "      <td>0.0</td>\n",
       "      <td>0.0</td>\n",
       "      <td>0.0</td>\n",
       "    </tr>\n",
       "  </tbody>\n",
       "</table>\n",
       "<p>5 rows × 785 columns</p>\n",
       "</div>"
      ],
      "text/plain": [
       "   Target  Feature_1  Feature_2  Feature_3  Feature_4  Feature_5  Feature_6  \\\n",
       "0     7.0        0.0        0.0        0.0        0.0        0.0        0.0   \n",
       "1     2.0        0.0        0.0        0.0        0.0        0.0        0.0   \n",
       "2     1.0        0.0        0.0        0.0        0.0        0.0        0.0   \n",
       "3     0.0        0.0        0.0        0.0        0.0        0.0        0.0   \n",
       "4     4.0        0.0        0.0        0.0        0.0        0.0        0.0   \n",
       "\n",
       "   Feature_7  Feature_8  Feature_9  ...  Feature_775  Feature_776  \\\n",
       "0        0.0        0.0        0.0  ...          0.0          0.0   \n",
       "1        0.0        0.0        0.0  ...          0.0          0.0   \n",
       "2        0.0        0.0        0.0  ...          0.0          0.0   \n",
       "3        0.0        0.0        0.0  ...          0.0          0.0   \n",
       "4        0.0        0.0        0.0  ...          0.0          0.0   \n",
       "\n",
       "   Feature_777  Feature_778  Feature_779  Feature_780  Feature_781  \\\n",
       "0          0.0          0.0          0.0          0.0          0.0   \n",
       "1          0.0          0.0          0.0          0.0          0.0   \n",
       "2          0.0          0.0          0.0          0.0          0.0   \n",
       "3          0.0          0.0          0.0          0.0          0.0   \n",
       "4          0.0          0.0          0.0          0.0          0.0   \n",
       "\n",
       "   Feature_782  Feature_783  Feature_784  \n",
       "0          0.0          0.0          0.0  \n",
       "1          0.0          0.0          0.0  \n",
       "2          0.0          0.0          0.0  \n",
       "3          0.0          0.0          0.0  \n",
       "4          0.0          0.0          0.0  \n",
       "\n",
       "[5 rows x 785 columns]"
      ]
     },
     "execution_count": 27,
     "metadata": {},
     "output_type": "execute_result"
    }
   ],
   "source": [
    "# Vamos visualizar os dados\n",
    "\n",
    "# Variáveis para definir cor e formato do texto\n",
    "newline, bold, unbold = \"\\n\", \"\\033[1m\", \"\\033[0m\"\n",
    "\n",
    "# Imports\n",
    "import numpy as np\n",
    "import pandas as pd\n",
    "from sklearn.metrics import accuracy_score\n",
    "from sklearn.metrics import f1_score\n",
    "from sklearn.metrics import confusion_matrix\n",
    "import matplotlib.pyplot as plt\n",
    "\n",
    "# Carrega os dados\n",
    "test_data = pd.read_csv(f\"{test_data_file_name}\", header=None)\n",
    "test_data.columns = [\"Target\"] + [f\"Feature_{i}\" for i in range(1, test_data.shape[1])]\n",
    "\n",
    "# Shape\n",
    "num_examples, num_columns = test_data.shape\n",
    "print(f\"{bold}O conjunto de dados de teste contém {num_examples} exemplos e {num_columns} colunas.{unbold}\\n\")\n",
    "\n",
    "# Prepara os dados reais para as previsões com o endpoint do modelo\n",
    "ground_truth_label, features = test_data.iloc[:, :1], test_data.iloc[:, 1:]\n",
    "\n",
    "print(f\"{bold}As primeiras 5 observações dos dados: {unbold} \\n\")\n",
    "test_data.head(5)"
   ]
  },
  {
   "cell_type": "code",
   "execution_count": 28,
   "id": "7ac76dbb-17a1-4eee-abae-2a1b34e391c9",
   "metadata": {},
   "outputs": [],
   "source": [
    "# Variável para o tipo de conteúdo\n",
    "content_type = \"text/csv\""
   ]
  },
  {
   "cell_type": "markdown",
   "id": "a641978c-6c5e-49fa-b9fb-b837ac1cd12c",
   "metadata": {},
   "source": [
    "## Extraindo Previsões com o Endpoint"
   ]
  },
  {
   "cell_type": "code",
   "execution_count": 29,
   "id": "0ccdf83e-148b-4f8f-8bf0-c05889a2d5fa",
   "metadata": {},
   "outputs": [],
   "source": [
    "# Função para usar o endpoint\n",
    "def dsa_query_endpoint(encoded_tabular_data):\n",
    "\n",
    "    # Cria o cliente\n",
    "    client = boto3.client(\"runtime.sagemaker\")\n",
    "\n",
    "    # Invoca o endpoint\n",
    "    response = client.invoke_endpoint(EndpointName = endpoint_name, \n",
    "                                      ContentType = content_type, \n",
    "                                      Body = encoded_tabular_data)\n",
    "    \n",
    "    return response"
   ]
  },
  {
   "cell_type": "code",
   "execution_count": 30,
   "id": "c5fd63a0-5d2f-445b-a26c-0532d9055d67",
   "metadata": {},
   "outputs": [],
   "source": [
    "# Função para formatar o resultado do endpoint\n",
    "def dsa_parse_response(query_response):\n",
    "\n",
    "    # Extrai as previsões do modelo\n",
    "    model_predictions = json.loads(query_response[\"Body\"].read())\n",
    "\n",
    "    # Extrai as previsões de probabilidade\n",
    "    predicted_probabilities = model_predictions[\"probabilities\"]\n",
    "    \n",
    "    return np.array(predicted_probabilities)"
   ]
  },
  {
   "cell_type": "code",
   "execution_count": 31,
   "id": "b8608f9b-c02e-4d36-8844-14ccb07435b2",
   "metadata": {},
   "outputs": [],
   "source": [
    "# Divide os dados de teste em lotes menores para consultar o endpoint devido ao grande tamanho dos dados de teste.\n",
    "batch_size = 1500\n",
    "predict_prob = []"
   ]
  },
  {
   "cell_type": "code",
   "execution_count": 32,
   "id": "81ca77c4-e573-4616-b21d-b23f8f59078f",
   "metadata": {},
   "outputs": [],
   "source": [
    "# Loop para extrair as previsões\n",
    "for i in np.arange(0, num_examples, step = batch_size):\n",
    "\n",
    "    # Extrai as previsões\n",
    "    query_response_batch = dsa_query_endpoint(\n",
    "        features.iloc[i : (i + batch_size), :].to_csv(header = False, index = False).encode(\"utf-8\"))\n",
    "\n",
    "    # Previsão de probabilidade por batch\n",
    "    predict_prob_batch = dsa_parse_response(query_response_batch) \n",
    "\n",
    "    # Armazena as previsões\n",
    "    predict_prob.append(predict_prob_batch)"
   ]
  },
  {
   "cell_type": "code",
   "execution_count": 33,
   "id": "9899a0e9-70ac-44e4-bf48-25ca71f23fe6",
   "metadata": {},
   "outputs": [],
   "source": [
    "# Concatena as previsões\n",
    "predict_prob = np.concatenate(predict_prob, axis = 0)"
   ]
  },
  {
   "cell_type": "code",
   "execution_count": 34,
   "id": "c130161e-73ca-4e7a-b532-a67d5989bb17",
   "metadata": {},
   "outputs": [],
   "source": [
    "# O label previsto é aquele com maior probabilidade\n",
    "predict_label = np.argmax(predict_prob, axis = 1)"
   ]
  },
  {
   "cell_type": "code",
   "execution_count": 35,
   "id": "8f4d3021-aa7e-4929-b141-b73c5ffe15c7",
   "metadata": {},
   "outputs": [
    {
     "data": {
      "image/png": "[encoded data removed]",
      "text/plain": [
       "<Figure size 750x750 with 1 Axes>"
      ]
     },
     "metadata": {},
     "output_type": "display_data"
    }
   ],
   "source": [
    "# Visualiza os resultados das previsões plotando a matriz de confusão\n",
    "conf_matrix = confusion_matrix(y_true = ground_truth_label.values, y_pred = predict_label)\n",
    "fig, ax = plt.subplots(figsize = (7.5, 7.5))\n",
    "ax.matshow(conf_matrix, cmap = plt.cm.Blues, alpha = 0.3)\n",
    "for i in range(conf_matrix.shape[0]):\n",
    "    for j in range(conf_matrix.shape[1]):\n",
    "        ax.text(x = j, \n",
    "                y = i, \n",
    "                s = conf_matrix[i, j], \n",
    "                va = \"center\", \n",
    "                ha = \"center\", \n",
    "                size = \"xx-large\")\n",
    "\n",
    "plt.xlabel(\"Valores Previstos\", fontsize = 18)\n",
    "plt.ylabel(\"Valores Reais\", fontsize = 18)\n",
    "plt.title(\"Confusion Matrix\", fontsize = 18)\n",
    "plt.show()"
   ]
  },
  {
   "cell_type": "markdown",
   "id": "cb10217a-504a-499e-bbca-8317560de8d2",
   "metadata": {},
   "source": [
    "## Avaliando as Previsões"
   ]
  },
  {
   "cell_type": "code",
   "execution_count": 36,
   "id": "ccf21bcf-08c1-4efe-91a4-3cb517631627",
   "metadata": {},
   "outputs": [
    {
     "name": "stdout",
     "output_type": "stream",
     "text": [
      "\u001b[1mAvaliação dos Resultados nos Dados de Teste\u001b[0m:\n",
      "\u001b[1maccuracy_score\u001b[0m: 0.9528\n",
      "\u001b[1mF1 Macro\u001b[0m: 0.9525089343905601\n",
      "\u001b[1mF1 Micro\u001b[0m: 0.9528\n",
      "\n"
     ]
    }
   ],
   "source": [
    "# Calcula as métricas\n",
    "eval_accuracy = accuracy_score(ground_truth_label.values, predict_label)\n",
    "eval_f1_macro = f1_score(ground_truth_label.values, predict_label, average = \"macro\")\n",
    "eval_f1_micro = f1_score(ground_truth_label.values, predict_label, average = \"micro\")\n",
    "\n",
    "print(\n",
    "    f\"{bold}Avaliação dos Resultados nos Dados de Teste{unbold}:{newline}\"\n",
    "    f\"{bold}{accuracy_score.__name__}{unbold}: {eval_accuracy}{newline}\"\n",
    "    f\"{bold}F1 Macro{unbold}: {eval_f1_macro}{newline}\"\n",
    "    f\"{bold}F1 Micro{unbold}: {eval_f1_micro}{newline}\"\n",
    ")"
   ]
  },
  {
   "cell_type": "markdown",
   "id": "980cc025-c206-47ff-9c79-41d2772a5044",
   "metadata": {},
   "source": [
    "Podemos responder à diretoria com segurança: Sim, com os dados históricos fornecidos podemos construir um modelo com boa capacidade preditiva."
   ]
  },
  {
   "cell_type": "code",
   "execution_count": 37,
   "id": "ccd8d8a7-c319-4173-9704-b115b1acc479",
   "metadata": {},
   "outputs": [],
   "source": [
    "# Deleta o modelo e o endpoint (se não forem mais usados)\n",
    "predictor.delete_model()\n",
    "predictor.delete_endpoint()"
   ]
  },
  {
   "cell_type": "markdown",
   "id": "09b529bb-0c7b-4935-82b4-a3386cc62158",
   "metadata": {},
   "source": [
    "Lembre-se de limpar o bucket S3."
   ]
  },
  {
   "cell_type": "markdown",
   "id": "dd89fce5-ee97-4560-af65-076833c9f163",
   "metadata": {},
   "source": [
    "# Fim"
   ]
  }
 ],
 "metadata": {
  "kernelspec": {
   "display_name": "Python 3 (ipykernel)",
   "language": "python",
   "name": "python3"
  },
  "language_info": {
   "codemirror_mode": {
    "name": "ipython",
    "version": 3
   },
   "file_extension": ".py",
   "mimetype": "text/x-python",
   "name": "python",
   "nbconvert_exporter": "python",
   "pygments_lexer": "ipython3",
   "version": "3.11.10"
  }
 },
 "nbformat": 4,
 "nbformat_minor": 5
}
